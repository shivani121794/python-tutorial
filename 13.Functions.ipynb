{
 "cells": [
  {
   "cell_type": "code",
   "execution_count": null,
   "id": "76023d63-896f-439b-9120-0fd20fed661a",
   "metadata": {},
   "outputs": [],
   "source": [
    "Argument Function\n",
    "----------------\n",
    "\n",
    "def function_name(arg1,arg2,...):\n",
    "    logic\n",
    "\n",
    "function_name(arg1,arg2,...)"
   ]
  },
  {
   "cell_type": "code",
   "execution_count": 2,
   "id": "01f02c83-bf25-4952-b56b-4154a43b27d2",
   "metadata": {},
   "outputs": [
    {
     "name": "stdout",
     "output_type": "stream",
     "text": [
      "the sum is 79\n"
     ]
    }
   ],
   "source": [
    "#Sum of two numbers\n",
    "\n",
    "def addition(a,b):\n",
    "    c=a+b\n",
    "    print(\"the sum is\",c)\n",
    "\n",
    "addition(34,45)"
   ]
  },
  {
   "cell_type": "code",
   "execution_count": 4,
   "id": "4ffcb5d6-8369-405d-b45d-ae62c9b7570e",
   "metadata": {},
   "outputs": [
    {
     "name": "stdin",
     "output_type": "stream",
     "text": [
      "enter the number 34\n",
      "enter the number 45\n"
     ]
    },
    {
     "name": "stdout",
     "output_type": "stream",
     "text": [
      "the sum is 79\n"
     ]
    }
   ],
   "source": [
    "x=int(input(\"enter the number\"))\n",
    "y=int(input(\"enter the number\"))\n",
    "addition(x,y)"
   ]
  },
  {
   "cell_type": "code",
   "execution_count": 6,
   "id": "0d4d92ef-47b2-4260-9ca2-e9425484c3ae",
   "metadata": {},
   "outputs": [
    {
     "name": "stdout",
     "output_type": "stream",
     "text": [
      "the interest is 270.0\n"
     ]
    }
   ],
   "source": [
    "def interest(p,r,t):\n",
    "    si=p*r*t/100\n",
    "    print(\"the interest is\",si)\n",
    "\n",
    "interest(2000,4.5,3)"
   ]
  },
  {
   "cell_type": "code",
   "execution_count": 8,
   "id": "822813b6-64b5-4668-88e4-b3cb976b53fb",
   "metadata": {},
   "outputs": [
    {
     "name": "stdin",
     "output_type": "stream",
     "text": [
      "enter the principle 2000\n",
      "enter the rate 4.5\n",
      "enter the time 3\n"
     ]
    },
    {
     "name": "stdout",
     "output_type": "stream",
     "text": [
      "the interest is 270.0\n"
     ]
    }
   ],
   "source": [
    "x=int(input(\"enter the principle\"))\n",
    "y=float(input(\"enter the rate\"))\n",
    "z=int(input(\"enter the time\"))\n",
    "interest(x,y,z)"
   ]
  },
  {
   "cell_type": "code",
   "execution_count": 12,
   "id": "c3281348-ce89-448c-b8c3-6e8c8f861416",
   "metadata": {},
   "outputs": [
    {
     "name": "stdout",
     "output_type": "stream",
     "text": [
      "odd number\n"
     ]
    }
   ],
   "source": [
    "#check for even and odd number\n",
    "\n",
    "def check(n):\n",
    "    if n%2==0:\n",
    "        print(\"even number\")\n",
    "    else:\n",
    "        print(\"odd number\")\n",
    "\n",
    "check(45)"
   ]
  },
  {
   "cell_type": "code",
   "execution_count": 14,
   "id": "d0b3627e-3be6-478c-a1ad-d03296dfb2c0",
   "metadata": {},
   "outputs": [
    {
     "name": "stdin",
     "output_type": "stream",
     "text": [
      "enter the number 45\n"
     ]
    },
    {
     "name": "stdout",
     "output_type": "stream",
     "text": [
      "odd number\n"
     ]
    }
   ],
   "source": [
    "n=int(input(\"enter the number\"))\n",
    "check(n)"
   ]
  },
  {
   "cell_type": "code",
   "execution_count": 16,
   "id": "478ce4c4-553d-4726-b7df-364769b570b1",
   "metadata": {},
   "outputs": [
    {
     "name": "stdout",
     "output_type": "stream",
     "text": [
      "factorial is 720\n"
     ]
    }
   ],
   "source": [
    "def factorial(n):\n",
    "    f=1\n",
    "    for i in range(1,n+1):\n",
    "        f=f*i\n",
    "    print(\"factorial is\",f)\n",
    "\n",
    "factorial(6)"
   ]
  },
  {
   "cell_type": "code",
   "execution_count": 20,
   "id": "e822634b-0e69-496e-86ca-98ca5bca0ad0",
   "metadata": {},
   "outputs": [
    {
     "name": "stdout",
     "output_type": "stream",
     "text": [
      "the sum is 237\n"
     ]
    }
   ],
   "source": [
    "#sum of elements of the list\n",
    "\n",
    "def add(ls):\n",
    "    s=0\n",
    "    for i in ls:\n",
    "        s=s+i\n",
    "    print(\"the sum is\",s)\n",
    "\n",
    "add([12,23,34,45,56,67])"
   ]
  },
  {
   "cell_type": "code",
   "execution_count": 32,
   "id": "7add3336-b056-4744-aed7-7bee061d6ac1",
   "metadata": {},
   "outputs": [
    {
     "name": "stdout",
     "output_type": "stream",
     "text": [
      "prime number\n"
     ]
    }
   ],
   "source": [
    "#prime number\n",
    "\n",
    "def check_prime(n):\n",
    "    co=0\n",
    "    for i in range(1,n+1):\n",
    "        if n%i==0:\n",
    "            co=co+1\n",
    "    if co==2:\n",
    "       print(\"prime number\")\n",
    "    else:\n",
    "       print(\"non prime\")\n",
    "\n",
    "check_prime(67)"
   ]
  },
  {
   "cell_type": "code",
   "execution_count": null,
   "id": "3634a2d0-7bf1-4fad-81b7-757d9b29bacb",
   "metadata": {},
   "outputs": [],
   "source": [
    "Return type\n",
    "-------------\n",
    "\n",
    "def function_name(arg1,arg2,...):\n",
    "    logic\n",
    "    return value/values\n",
    "\n",
    "var=function_name(arg1,arg2,...)\n",
    "print(var)\n",
    "\n",
    "\n",
    "print(functin_name(arg1,arg2))"
   ]
  },
  {
   "cell_type": "code",
   "execution_count": 34,
   "id": "c5abb11e-ac03-4b3f-aadf-6059bdf01645",
   "metadata": {},
   "outputs": [
    {
     "name": "stdout",
     "output_type": "stream",
     "text": [
      "35\n"
     ]
    }
   ],
   "source": [
    "def addition(a,b):\n",
    "    return a+b\n",
    "\n",
    "x=addition(12,23)\n",
    "print(x)"
   ]
  },
  {
   "cell_type": "code",
   "execution_count": 36,
   "id": "b298f043-843a-4754-b351-7828f767afb6",
   "metadata": {},
   "outputs": [
    {
     "name": "stdout",
     "output_type": "stream",
     "text": [
      "35\n"
     ]
    }
   ],
   "source": [
    "print(addition(12,23))"
   ]
  },
  {
   "cell_type": "code",
   "execution_count": 40,
   "id": "c1250eb1-0e2f-4e61-a494-b462d3edb0f1",
   "metadata": {},
   "outputs": [],
   "source": [
    "def datascience(a,b,c,d,e):\n",
    "    return(a+b,a*b)"
   ]
  },
  {
   "cell_type": "code",
   "execution_count": 42,
   "id": "67fe87f4-d30e-42d7-80de-9bd5559cb173",
   "metadata": {},
   "outputs": [
    {
     "data": {
      "text/plain": [
       "(6, 8)"
      ]
     },
     "execution_count": 42,
     "metadata": {},
     "output_type": "execute_result"
    }
   ],
   "source": [
    "datascience(2,4,6,7,5)"
   ]
  },
  {
   "cell_type": "code",
   "execution_count": 48,
   "id": "7a31e577-531a-4520-9971-05a54d4c7a4f",
   "metadata": {},
   "outputs": [
    {
     "data": {
      "text/plain": [
       "18"
      ]
     },
     "execution_count": 48,
     "metadata": {},
     "output_type": "execute_result"
    }
   ],
   "source": [
    "def sums(r,t,u):\n",
    "    return(r+t+u)\n",
    "\n",
    "jatin=sums(7,6,5)\n",
    "jatin"
   ]
  },
  {
   "cell_type": "code",
   "execution_count": 52,
   "id": "a4b1ff3c-f203-4d36-bf81-be212b5aa924",
   "metadata": {},
   "outputs": [
    {
     "name": "stdout",
     "output_type": "stream",
     "text": [
      "800\n",
      "1300\n",
      "60\n"
     ]
    }
   ],
   "source": [
    "#default value argument / placeholder argument\n",
    "\n",
    "def addition(a,b=100,c=200):\n",
    "    return a+b+c \n",
    "\n",
    "print(addition(500)) #800\n",
    "print(addition(800,300)) #1300\n",
    "print(addition(10,20,30)) #60"
   ]
  },
  {
   "cell_type": "code",
   "execution_count": 54,
   "id": "af708d32-1aa4-44d6-bc94-1c627489129c",
   "metadata": {},
   "outputs": [],
   "source": [
    "def add(a,b=100):\n",
    "    return(a+b)"
   ]
  },
  {
   "cell_type": "code",
   "execution_count": 56,
   "id": "2c37a715-62bd-4093-8448-e2a6375b9609",
   "metadata": {},
   "outputs": [
    {
     "data": {
      "text/plain": [
       "1100"
      ]
     },
     "execution_count": 56,
     "metadata": {},
     "output_type": "execute_result"
    }
   ],
   "source": [
    "add(1000)"
   ]
  },
  {
   "cell_type": "code",
   "execution_count": 58,
   "id": "fb37e5cf-181d-4eb7-9c2c-08af97a769c8",
   "metadata": {},
   "outputs": [],
   "source": [
    "def hello(name,age=29,gender=\"male\"):\n",
    "    return(\"my name is {} and age is {} and gender is {}\".format(name,age,gender))"
   ]
  },
  {
   "cell_type": "code",
   "execution_count": 60,
   "id": "7e9dde55-15d4-48a9-85e3-985b396be194",
   "metadata": {},
   "outputs": [
    {
     "data": {
      "text/plain": [
       "'my name is eshank and age is 29 and gender is male'"
      ]
     },
     "execution_count": 60,
     "metadata": {},
     "output_type": "execute_result"
    }
   ],
   "source": [
    "hello(\"eshank\")"
   ]
  },
  {
   "cell_type": "code",
   "execution_count": 64,
   "id": "a5150155-4ed0-468c-859d-abb562f4eae5",
   "metadata": {},
   "outputs": [
    {
     "data": {
      "text/plain": [
       "[1, 2, 3]"
      ]
     },
     "execution_count": 64,
     "metadata": {},
     "output_type": "execute_result"
    }
   ],
   "source": [
    "#Keyword argument and argument\n",
    "\n",
    "u=[1,2,3]\n",
    "u"
   ]
  },
  {
   "cell_type": "code",
   "execution_count": 66,
   "id": "8907648b-44d7-4ff8-a46e-fe75543e208f",
   "metadata": {},
   "outputs": [
    {
     "name": "stdout",
     "output_type": "stream",
     "text": [
      "1 2 3\n"
     ]
    }
   ],
   "source": [
    "print(*u)"
   ]
  },
  {
   "cell_type": "code",
   "execution_count": 80,
   "id": "64c02903-e31d-4b76-8064-4f9dfecb64b3",
   "metadata": {},
   "outputs": [
    {
     "name": "stdout",
     "output_type": "stream",
     "text": [
      "1\n",
      "2 3 3 3 4 4 4\n",
      "7\n"
     ]
    }
   ],
   "source": [
    "a,*b,c=[1,2,3,3,3,4,4,4,7]\n",
    "print(a)\n",
    "print(*b)\n",
    "print(c)"
   ]
  },
  {
   "cell_type": "code",
   "execution_count": 82,
   "id": "59610f41-4507-45b1-b84c-daa51ce1eb05",
   "metadata": {},
   "outputs": [
    {
     "data": {
      "text/plain": [
       "[[1, 2, 3], [4, 5, 6]]"
      ]
     },
     "execution_count": 82,
     "metadata": {},
     "output_type": "execute_result"
    }
   ],
   "source": [
    "#Meaning of *args(POSITIONAL ARGUMENT: - to unpack iterables)--------\n",
    "\n",
    "A=[1,2,3]\n",
    "B=[4,5,6]\n",
    "C=[A,B]\n",
    "C"
   ]
  },
  {
   "cell_type": "code",
   "execution_count": 84,
   "id": "4fe5a9ae-d7b1-46ca-9139-f65fac4f4517",
   "metadata": {},
   "outputs": [
    {
     "data": {
      "text/plain": [
       "[1, 2, 3, 4, 5, 6]"
      ]
     },
     "execution_count": 84,
     "metadata": {},
     "output_type": "execute_result"
    }
   ],
   "source": [
    "D=[*A,*B]\n",
    "D"
   ]
  },
  {
   "cell_type": "code",
   "execution_count": null,
   "id": "35e21de9-9fff-4473-885d-8b7dcb90a582",
   "metadata": {},
   "outputs": [],
   "source": []
  }
 ],
 "metadata": {
  "kernelspec": {
   "display_name": "Python 3 (ipykernel)",
   "language": "python",
   "name": "python3"
  },
  "language_info": {
   "codemirror_mode": {
    "name": "ipython",
    "version": 3
   },
   "file_extension": ".py",
   "mimetype": "text/x-python",
   "name": "python",
   "nbconvert_exporter": "python",
   "pygments_lexer": "ipython3",
   "version": "3.12.4"
  }
 },
 "nbformat": 4,
 "nbformat_minor": 5
}
