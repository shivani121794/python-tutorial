{
 "cells": [
  {
   "cell_type": "code",
   "execution_count": null,
   "id": "88ca0eaf-5ae1-4766-bb76-29e0e739afb5",
   "metadata": {},
   "outputs": [],
   "source": [
    "#Nested IF"
   ]
  },
  {
   "cell_type": "code",
   "execution_count": 1,
   "id": "570dec4c-66ab-4730-a12b-b1f9130b5860",
   "metadata": {},
   "outputs": [
    {
     "name": "stdin",
     "output_type": "stream",
     "text": [
      "enter the number 56\n",
      "enter the number 62\n",
      "enter the number 32\n"
     ]
    },
    {
     "name": "stdout",
     "output_type": "stream",
     "text": [
      "B is gretest\n"
     ]
    }
   ],
   "source": [
    "a=int(input(\"enter the number\"))\n",
    "b=int(input(\"enter the number\"))\n",
    "c=int(input(\"enter the number\"))\n",
    "\n",
    "if a>b:\n",
    "    if a>c:\n",
    "       print(\"A is gretest\")\n",
    "    else:\n",
    "       print(\"C is gretest\")\n",
    "else:\n",
    "    if b>c:\n",
    "        print(\"B is gretest\")\n",
    "    else:\n",
    "        print(\"C is gretest\")\n",
    "    "
   ]
  },
  {
   "cell_type": "code",
   "execution_count": null,
   "id": "6f4edcd4-54bf-4dae-bac7-b83bc79a59a0",
   "metadata": {},
   "outputs": [],
   "source": [
    "#LOOP\n",
    "---------------\n",
    "repeat until the condition become false\n",
    "or\n",
    "repeat till the condition is true\n",
    "\n",
    "WHILE LOOP -------------------------- entry control Loop #because condition is checking in starting so called entry control loop\n",
    "\n",
    "\n",
    "syntax\n",
    "------------\n",
    "\n",
    "var_initialization #from where to start\n",
    "\n",
    "while condition: #where to stop\n",
    "    statement / logic\n",
    "    increment / decrement             #small to large value (increment) and large to small (decrement)"
   ]
  },
  {
   "cell_type": "code",
   "execution_count": 9,
   "id": "e0ca095d-dd26-4c42-99c6-509b4f3a9b37",
   "metadata": {},
   "outputs": [
    {
     "name": "stdout",
     "output_type": "stream",
     "text": [
      "Shivani\n",
      "Shivani\n",
      "Shivani\n",
      "Shivani\n",
      "Shivani\n",
      "Shivani\n",
      "Shivani\n",
      "Shivani\n",
      "Shivani\n",
      "Shivani\n"
     ]
    }
   ],
   "source": [
    "# print your name 10 times\n",
    "\n",
    "i=1\n",
    "while i<=10:\n",
    "   print(\"Shivani\")\n",
    "   i=i+1"
   ]
  },
  {
   "cell_type": "code",
   "execution_count": 11,
   "id": "71b321a3-e5d7-45d2-ae72-feaf761fee36",
   "metadata": {},
   "outputs": [
    {
     "name": "stdout",
     "output_type": "stream",
     "text": [
      "1\n",
      "2\n",
      "3\n",
      "4\n",
      "5\n",
      "6\n",
      "7\n",
      "8\n",
      "9\n",
      "10\n"
     ]
    }
   ],
   "source": [
    "# print first 10 natural number\n",
    "\n",
    "i=1\n",
    "while i<=10:\n",
    "    print(i)\n",
    "    i=i+1"
   ]
  },
  {
   "cell_type": "code",
   "execution_count": 13,
   "id": "169f465b-eabf-4979-99e8-d2916262e74e",
   "metadata": {},
   "outputs": [
    {
     "name": "stdout",
     "output_type": "stream",
     "text": [
      "1 2 3 4 5 6 7 8 9 10 "
     ]
    }
   ],
   "source": [
    "i=1\n",
    "while i<=10:\n",
    "    print(i,end=\" \") #end is a sign to gap between the values\n",
    "    i=i+1"
   ]
  },
  {
   "cell_type": "code",
   "execution_count": 17,
   "id": "ab9cb997-4827-4333-8a26-9fb5ef5a208c",
   "metadata": {},
   "outputs": [
    {
     "name": "stdout",
     "output_type": "stream",
     "text": [
      "the sum is 55\n"
     ]
    }
   ],
   "source": [
    "# print the sum of first 10 natural number\n",
    "\n",
    "i=1\n",
    "sum=0\n",
    "while i<=10:\n",
    "    sum=sum+i\n",
    "    i=i+1\n",
    "print(\"the sum is\",sum)\n",
    "\n",
    "#sum=sum+i\n",
    "#sum=0+1=1\n",
    "#sum=1+2=3\n",
    "#sum=3+3=6\n",
    "#sum=6+4=10"
   ]
  },
  {
   "cell_type": "code",
   "execution_count": 33,
   "id": "a9d52c3c-db88-496f-b09e-da09d2a43cf6",
   "metadata": {},
   "outputs": [
    {
     "name": "stdout",
     "output_type": "stream",
     "text": [
      "the sum of even numbers is 2550\n",
      "the sum of odd numbers is 2500\n"
     ]
    }
   ],
   "source": [
    "# sum of even and odd number seperately\n",
    "\n",
    "i=1\n",
    "se=0\n",
    "so=0\n",
    "while i<=100:\n",
    "    if i%2==0:\n",
    "        se=se+i\n",
    "    else:\n",
    "        so=so+i\n",
    "    i=i+1\n",
    "\n",
    "print(\"the sum of even numbers is\",se)\n",
    "print(\"the sum of odd numbers is\",so)"
   ]
  },
  {
   "cell_type": "code",
   "execution_count": null,
   "id": "5584d8e6-2859-459f-a58d-baaa185af45c",
   "metadata": {},
   "outputs": [],
   "source": [
    "# table of a given number\n",
    "\n",
    "#2*1=2\n",
    "#2*2=4\n",
    "\n",
    "#n*i=n*i"
   ]
  },
  {
   "cell_type": "code",
   "execution_count": 21,
   "id": "4ace0377-2099-45cb-ba0f-0da76f25f4ee",
   "metadata": {},
   "outputs": [
    {
     "name": "stdin",
     "output_type": "stream",
     "text": [
      "enter the number 3\n"
     ]
    },
    {
     "name": "stdout",
     "output_type": "stream",
     "text": [
      "3\n",
      "6\n",
      "9\n",
      "12\n",
      "15\n",
      "18\n",
      "21\n",
      "24\n",
      "27\n",
      "30\n"
     ]
    }
   ],
   "source": [
    "#table\n",
    "\n",
    "n=int(input(\"enter the number\"))\n",
    "i=1\n",
    "while i<=10:\n",
    "   print(n*i)\n",
    "   i=i+1"
   ]
  },
  {
   "cell_type": "code",
   "execution_count": 23,
   "id": "8d407986-508b-45c8-9600-6ab717ab90d4",
   "metadata": {},
   "outputs": [
    {
     "name": "stdin",
     "output_type": "stream",
     "text": [
      "enter the number 2\n"
     ]
    },
    {
     "name": "stdout",
     "output_type": "stream",
     "text": [
      "2 * 1 = 2\n",
      "2 * 2 = 4\n",
      "2 * 3 = 6\n",
      "2 * 4 = 8\n",
      "2 * 5 = 10\n",
      "2 * 6 = 12\n",
      "2 * 7 = 14\n",
      "2 * 8 = 16\n",
      "2 * 9 = 18\n",
      "2 * 10 = 20\n"
     ]
    }
   ],
   "source": [
    "#table\n",
    "\n",
    "n=int(input(\"enter the number\"))\n",
    "i=1\n",
    "while i<=10:\n",
    "   print(n,\"*\",i,\"=\",n*i)\n",
    "   i=i+1"
   ]
  },
  {
   "cell_type": "code",
   "execution_count": 27,
   "id": "d64ae390-5c22-49f4-a787-57bdaf06d299",
   "metadata": {},
   "outputs": [
    {
     "name": "stdin",
     "output_type": "stream",
     "text": [
      "enter the number 5\n"
     ]
    },
    {
     "name": "stdout",
     "output_type": "stream",
     "text": [
      "the factoral is 120\n"
     ]
    }
   ],
   "source": [
    "#factorial\n",
    "\n",
    "n=int(input(\"enter the number\"))\n",
    "f=1\n",
    "while n>0:\n",
    "    f=f*n\n",
    "    n=n-1\n",
    "\n",
    "print(\"the factoral is\",f)\n",
    "\n",
    "#f=f*n\n",
    "#f=1*5=5\n",
    "#f=5*4=20\n",
    "#f=20*3=60\n",
    "#f=60*2=120\n",
    "#f=120*1=120"
   ]
  },
  {
   "cell_type": "code",
   "execution_count": 31,
   "id": "313162c0-67ef-4790-9e5e-4dbf0436258b",
   "metadata": {},
   "outputs": [
    {
     "name": "stdin",
     "output_type": "stream",
     "text": [
      "enter the number 12\n"
     ]
    },
    {
     "name": "stdout",
     "output_type": "stream",
     "text": [
      "1 2 3 4 6 12 "
     ]
    }
   ],
   "source": [
    "# factors of a given number\n",
    "\n",
    "#24------ 1 2 3 4 6 8 12 24\n",
    "\n",
    "n=int(input(\"enter the number\"))\n",
    "i=1\n",
    "while i<=n:\n",
    "    if n%i==0:\n",
    "        print(i,end=\" \")\n",
    "    i=i+1"
   ]
  },
  {
   "cell_type": "code",
   "execution_count": 35,
   "id": "ad3c92af-1150-4d8e-b988-2b92a250b68f",
   "metadata": {},
   "outputs": [
    {
     "name": "stdin",
     "output_type": "stream",
     "text": [
      "enter the number 9876\n"
     ]
    },
    {
     "name": "stdout",
     "output_type": "stream",
     "text": [
      "the sum of digits is 30\n"
     ]
    }
   ],
   "source": [
    "# the sum of digits of a numbers\n",
    "\n",
    "n=int(input(\"enter the number\"))\n",
    "sum=0\n",
    "\n",
    "while n>0:\n",
    "    rem=n%10\n",
    "    sum=sum+rem\n",
    "    n=n//10\n",
    "\n",
    "print(\"the sum of digits is\",sum)\n",
    "\n",
    "#34/3--------11.3333\n",
    "#34//3-------11\n",
    "\n",
    "#n=9876\n",
    "\n",
    "#rem=n%10\n",
    "#sum=sum+rem\n",
    "#n=n//10\n",
    "\n",
    "#rem=9876%10-----6\n",
    "#sum=0+6=6\n",
    "#n=9876//10----987\n",
    "\n",
    "#rem=987%10-----7\n",
    "#sum=6+7=13\n",
    "#n=987//10----98\n",
    "\n",
    "#rem=98%10-----8\n",
    "#sum=13+8=21\n",
    "#n=98//10----9\n",
    "\n",
    "#rem=9%10-----9\n",
    "#sum=13+8=21+9=30\n",
    "#n=9//10----0                #modulus be the same if not dividing the value"
   ]
  },
  {
   "cell_type": "code",
   "execution_count": 37,
   "id": "59344a44-114a-41a7-bf97-01ee3796b95d",
   "metadata": {},
   "outputs": [
    {
     "name": "stdin",
     "output_type": "stream",
     "text": [
      "enter the number 9876\n"
     ]
    },
    {
     "name": "stdout",
     "output_type": "stream",
     "text": [
      "the reverse is 6789\n"
     ]
    }
   ],
   "source": [
    "#reverse of a number\n",
    "\n",
    "n=int(input(\"enter the number\"))\n",
    "rev=0\n",
    "while n>0:\n",
    "    rem=n%10\n",
    "    rev=rev*10+rem\n",
    "    n=n//10\n",
    "\n",
    "print(\"the reverse is\",rev)\n",
    "\n",
    "#n=9876\n",
    "\n",
    "#rem=n%10\n",
    "#rev=rev*10+rem\n",
    "#n=n//10\n",
    "\n",
    "#rem=9876%10---6\n",
    "#rev=0*10+6=6\n",
    "#n=9876//10-----987\n",
    "\n",
    "#rem=987%10----7\n",
    "#rev=6*10+7=67\n",
    "#n=987//10----98\n",
    "\n",
    "#rem=98%10----8\n",
    "#rev=67*10+8=678\n",
    "#n=98//10----9\n",
    "\n",
    "#rem=9%10----9\n",
    "#rev=678*10+9=6789\n",
    "#n=9//10----0"
   ]
  },
  {
   "cell_type": "code",
   "execution_count": 41,
   "id": "155985d7-64ee-41d0-a31a-cbbab420d119",
   "metadata": {},
   "outputs": [
    {
     "name": "stdin",
     "output_type": "stream",
     "text": [
      "enter the number 121\n"
     ]
    },
    {
     "name": "stdout",
     "output_type": "stream",
     "text": [
      "Palindrome number\n"
     ]
    }
   ],
   "source": [
    "# PALINDROME Number-----121\n",
    "\n",
    "n=int(input(\"enter the number\"))\n",
    "rev=0\n",
    "n1=n\n",
    "while n>0:\n",
    "    rem=n%10\n",
    "    rev=rev*10+rem\n",
    "    n=n//10\n",
    "\n",
    "if rev==n1:\n",
    "    print(\"Palindrome number\")\n",
    "else:\n",
    "    print(\"not palindrome number\")"
   ]
  },
  {
   "cell_type": "code",
   "execution_count": 51,
   "id": "087e811b-5166-4443-8e6b-bee1332120da",
   "metadata": {},
   "outputs": [
    {
     "name": "stdin",
     "output_type": "stream",
     "text": [
      "enter the number 407\n"
     ]
    },
    {
     "name": "stdout",
     "output_type": "stream",
     "text": [
      "Armstrong number\n"
     ]
    }
   ],
   "source": [
    "# ARMSTRONG number ----------- 153,370,371,407-------1**3+5**3+3**3 (sum of a cube of a number)\n",
    "\n",
    "n=int(input(\"enter the number\"))\n",
    "sum=0\n",
    "n1=n\n",
    "while n>0:\n",
    "    rem=n%10\n",
    "    sum=sum+rem**3\n",
    "    n=n//10\n",
    "\n",
    "if sum==n1:\n",
    "    print(\"Armstrong number\")\n",
    "else:\n",
    "    print(\"not Armstrong number\")"
   ]
  },
  {
   "cell_type": "code",
   "execution_count": null,
   "id": "0c122f7f-e4d8-45e5-b6d3-e55106533219",
   "metadata": {},
   "outputs": [],
   "source": []
  }
 ],
 "metadata": {
  "kernelspec": {
   "display_name": "Python 3 (ipykernel)",
   "language": "python",
   "name": "python3"
  },
  "language_info": {
   "codemirror_mode": {
    "name": "ipython",
    "version": 3
   },
   "file_extension": ".py",
   "mimetype": "text/x-python",
   "name": "python",
   "nbconvert_exporter": "python",
   "pygments_lexer": "ipython3",
   "version": "3.12.4"
  }
 },
 "nbformat": 4,
 "nbformat_minor": 5
}
