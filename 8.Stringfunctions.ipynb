{
 "cells": [
  {
   "cell_type": "code",
   "execution_count": null,
   "id": "892bc824-a7b9-4d4b-8f59-cbf846af9b6e",
   "metadata": {},
   "outputs": [],
   "source": [
    "#String  ------ Immutable(cant change)\n",
    "\n",
    "\n",
    "#It is not possible to modify it"
   ]
  },
  {
   "cell_type": "code",
   "execution_count": 1,
   "id": "5efcd1ed-f041-4cb7-82a0-dc13546bad1a",
   "metadata": {},
   "outputs": [
    {
     "name": "stdout",
     "output_type": "stream",
     "text": [
      "This is a string in python\n"
     ]
    }
   ],
   "source": [
    "str1='This is a string in python'\n",
    "print(str1)"
   ]
  },
  {
   "cell_type": "code",
   "execution_count": 3,
   "id": "71f40685-8f2c-4c82-842b-b2ff84f1500d",
   "metadata": {},
   "outputs": [
    {
     "name": "stdout",
     "output_type": "stream",
     "text": [
      "This is a string in python\n"
     ]
    }
   ],
   "source": [
    "str2=\"This is a string in python\"\n",
    "print(str2)"
   ]
  },
  {
   "cell_type": "code",
   "execution_count": 15,
   "id": "f56ce237-4608-4b19-8d61-16321206d77e",
   "metadata": {},
   "outputs": [
    {
     "name": "stdout",
     "output_type": "stream",
     "text": [
      "This is the\n",
      "multi line\n",
      "string.\n"
     ]
    }
   ],
   "source": [
    "str1='''This is the\n",
    "multi line\n",
    "string.'''\n",
    "print(str1)"
   ]
  },
  {
   "cell_type": "code",
   "execution_count": 17,
   "id": "2f49e6d4-fb48-4027-afb6-6cb67983f0b0",
   "metadata": {},
   "outputs": [
    {
     "name": "stdout",
     "output_type": "stream",
     "text": [
      "This is the\n",
      "multi line\n",
      "string.\n"
     ]
    }
   ],
   "source": [
    "str2=\"\"\"This is the\n",
    "multi line\n",
    "string.\"\"\"\n",
    "print(str2)"
   ]
  },
  {
   "cell_type": "code",
   "execution_count": 19,
   "id": "42101396-7681-42f2-9510-c32a1e57d79a",
   "metadata": {},
   "outputs": [
    {
     "name": "stdout",
     "output_type": "stream",
     "text": [
      "5\n"
     ]
    }
   ],
   "source": [
    "greet='hello'\n",
    "n=len(greet)\n",
    "print(n)"
   ]
  },
  {
   "cell_type": "code",
   "execution_count": 25,
   "id": "e2ccdc66-b74e-4079-ad23-ba5ddf918c34",
   "metadata": {},
   "outputs": [
    {
     "name": "stdout",
     "output_type": "stream",
     "text": [
      "h\n",
      "e\n",
      "l\n",
      "l\n",
      "o\n"
     ]
    },
    {
     "ename": "IndexError",
     "evalue": "string index out of range",
     "output_type": "error",
     "traceback": [
      "\u001b[1;31m---------------------------------------------------------------------------\u001b[0m",
      "\u001b[1;31mIndexError\u001b[0m                                Traceback (most recent call last)",
      "Cell \u001b[1;32mIn[25], line 7\u001b[0m\n\u001b[0;32m      5\u001b[0m \u001b[38;5;28mprint\u001b[39m(greet[\u001b[38;5;241m3\u001b[39m])\n\u001b[0;32m      6\u001b[0m \u001b[38;5;28mprint\u001b[39m(greet[\u001b[38;5;241m4\u001b[39m])\n\u001b[1;32m----> 7\u001b[0m \u001b[38;5;28mprint\u001b[39m(greet[\u001b[38;5;241m5\u001b[39m])\n",
      "\u001b[1;31mIndexError\u001b[0m: string index out of range"
     ]
    }
   ],
   "source": [
    "greet='hello'\n",
    "print(greet[0])\n",
    "print(greet[1])\n",
    "print(greet[2])\n",
    "print(greet[3])\n",
    "print(greet[4])\n",
    "print(greet[5])"
   ]
  },
  {
   "cell_type": "code",
   "execution_count": 31,
   "id": "92583ffc-1da7-4799-bc91-f87c562005e8",
   "metadata": {},
   "outputs": [
    {
     "name": "stdout",
     "output_type": "stream",
     "text": [
      "h\n",
      "e\n",
      "l\n",
      "l\n",
      "o\n",
      "h\n"
     ]
    }
   ],
   "source": [
    "greet='hello'\n",
    "print(greet[-5])\n",
    "print(greet[-4])\n",
    "print(greet[-3])\n",
    "print(greet[2])\n",
    "print(greet[-1])\n",
    "print(greet[0])"
   ]
  },
  {
   "cell_type": "code",
   "execution_count": 33,
   "id": "e52bee32-3d21-47e6-a807-e98503a1b672",
   "metadata": {},
   "outputs": [
    {
     "ename": "TypeError",
     "evalue": "'str' object does not support item assignment",
     "output_type": "error",
     "traceback": [
      "\u001b[1;31m---------------------------------------------------------------------------\u001b[0m",
      "\u001b[1;31mTypeError\u001b[0m                                 Traceback (most recent call last)",
      "Cell \u001b[1;32mIn[33], line 2\u001b[0m\n\u001b[0;32m      1\u001b[0m greet\u001b[38;5;241m=\u001b[39m\u001b[38;5;124m\"\u001b[39m\u001b[38;5;124mhello\u001b[39m\u001b[38;5;124m\"\u001b[39m\n\u001b[1;32m----> 2\u001b[0m greet[\u001b[38;5;241m0\u001b[39m]\u001b[38;5;241m=\u001b[39m\u001b[38;5;124m\"\u001b[39m\u001b[38;5;124mA\u001b[39m\u001b[38;5;124m\"\u001b[39m\n",
      "\u001b[1;31mTypeError\u001b[0m: 'str' object does not support item assignment"
     ]
    }
   ],
   "source": [
    "greet=\"hello\"\n",
    "greet[0]=\"A\""
   ]
  },
  {
   "cell_type": "code",
   "execution_count": 43,
   "id": "827fd35b-fe06-4e81-b52f-0295e6ea6dc6",
   "metadata": {},
   "outputs": [
    {
     "name": "stdout",
     "output_type": "stream",
     "text": [
      "<class 'str'>\n"
     ]
    }
   ],
   "source": [
    "# Use str() to convert a number to string\n",
    "\n",
    "s=str(100)\n",
    "type(s)\n",
    "print(type(s)) #class is a collection of one or more variable and function or classes"
   ]
  },
  {
   "cell_type": "code",
   "execution_count": 45,
   "id": "9c297694-e28d-429b-95d2-21afa9c2e3c6",
   "metadata": {},
   "outputs": [
    {
     "name": "stdout",
     "output_type": "stream",
     "text": [
      "25\n",
      "1213\n"
     ]
    }
   ],
   "source": [
    "a=12\n",
    "b=13\n",
    "print(a+b)\n",
    "print(str(a)+str(b))"
   ]
  },
  {
   "cell_type": "code",
   "execution_count": null,
   "id": "689c5f08-e248-4855-8900-faa65e39c65b",
   "metadata": {},
   "outputs": [],
   "source": [
    "#python capitalize() method\n",
    "##the capitalize() method returns the copy of the string with its first charachter capitalized and the rest of the lettes lowercase.\n",
    "\n",
    "syntax\n",
    "string.capitalize()"
   ]
  },
  {
   "cell_type": "code",
   "execution_count": 49,
   "id": "07f8f06e-22dc-40ec-a1fd-06bae2946186",
   "metadata": {},
   "outputs": [
    {
     "name": "stdout",
     "output_type": "stream",
     "text": [
      "New String: Hello world\n"
     ]
    }
   ],
   "source": [
    "a=\"hello world\"\n",
    "print('New String:', a.capitalize())"
   ]
  },
  {
   "cell_type": "code",
   "execution_count": 55,
   "id": "351f24e5-1299-4ecf-80f0-14dd6b463d10",
   "metadata": {},
   "outputs": [
    {
     "name": "stdout",
     "output_type": "stream",
     "text": [
      "Number of occurences of \"Madrid\": 1\n",
      "Number of occurences of \"madrid\": 0\n"
     ]
    }
   ],
   "source": [
    "#python count() method\n",
    "\n",
    "mystr='Madrid is a best institute for data science learning'\n",
    "\n",
    "total=mystr.count('Madrid')\n",
    "print('Number of occurences of \"Madrid\":',total)\n",
    "\n",
    "total=mystr.count('madrid')\n",
    "print('Number of occurences of \"madrid\":',total)"
   ]
  },
  {
   "cell_type": "code",
   "execution_count": 59,
   "id": "370a022e-c450-48b5-a4ab-af325f9b2afa",
   "metadata": {},
   "outputs": [
    {
     "name": "stdout",
     "output_type": "stream",
     "text": [
      "True\n",
      "True\n",
      "True\n",
      "False\n",
      "False\n"
     ]
    }
   ],
   "source": [
    "#python endswith() method\n",
    "\n",
    "mystr=\"Python is a programming language.\"\n",
    "print(mystr.endswith('.'))\n",
    "print(mystr.endswith('age.'))\n",
    "print(mystr.endswith('language.'))\n",
    "print(mystr.endswith('programming language'))\n",
    "print(mystr.endswith('age'))"
   ]
  },
  {
   "cell_type": "code",
   "execution_count": 63,
   "id": "05a1b19f-c280-4aae-90b3-4eeb5f9348e5",
   "metadata": {},
   "outputs": [
    {
     "name": "stdout",
     "output_type": "stream",
     "text": [
      "Index of 'H': 0\n",
      "Index of 'h': -1\n",
      "Index of 'e': 1\n",
      "Index of 'World': 6\n",
      "Index of 'world': -1\n"
     ]
    }
   ],
   "source": [
    "#python find() method\n",
    "\n",
    "greet=\"Hello World!\"\n",
    "print(\"Index of 'H':\",greet.find('H'))\n",
    "print(\"Index of 'h':\",greet.find('h'))\n",
    "print(\"Index of 'e':\",greet.find('e'))\n",
    "print(\"Index of 'World':\",greet.find('World'))\n",
    "print(\"Index of 'world':\",greet.find('world'))"
   ]
  },
  {
   "cell_type": "code",
   "execution_count": 69,
   "id": "0e69871f-01fa-44bb-8ae7-23018dc86829",
   "metadata": {},
   "outputs": [
    {
     "name": "stdout",
     "output_type": "stream",
     "text": [
      "Index of 'H': 0\n",
      "Index of 'e': 1\n",
      "Index of 'World': 6\n"
     ]
    },
    {
     "ename": "ValueError",
     "evalue": "substring not found",
     "output_type": "error",
     "traceback": [
      "\u001b[1;31m---------------------------------------------------------------------------\u001b[0m",
      "\u001b[1;31mValueError\u001b[0m                                Traceback (most recent call last)",
      "Cell \u001b[1;32mIn[69], line 7\u001b[0m\n\u001b[0;32m      5\u001b[0m \u001b[38;5;28mprint\u001b[39m(\u001b[38;5;124m\"\u001b[39m\u001b[38;5;124mIndex of \u001b[39m\u001b[38;5;124m'\u001b[39m\u001b[38;5;124me\u001b[39m\u001b[38;5;124m'\u001b[39m\u001b[38;5;124m:\u001b[39m\u001b[38;5;124m\"\u001b[39m,greet\u001b[38;5;241m.\u001b[39mindex(\u001b[38;5;124m'\u001b[39m\u001b[38;5;124me\u001b[39m\u001b[38;5;124m'\u001b[39m))\n\u001b[0;32m      6\u001b[0m \u001b[38;5;28mprint\u001b[39m(\u001b[38;5;124m\"\u001b[39m\u001b[38;5;124mIndex of \u001b[39m\u001b[38;5;124m'\u001b[39m\u001b[38;5;124mWorld\u001b[39m\u001b[38;5;124m'\u001b[39m\u001b[38;5;124m:\u001b[39m\u001b[38;5;124m\"\u001b[39m,greet\u001b[38;5;241m.\u001b[39mindex(\u001b[38;5;124m'\u001b[39m\u001b[38;5;124mWorld\u001b[39m\u001b[38;5;124m'\u001b[39m))\n\u001b[1;32m----> 7\u001b[0m \u001b[38;5;28mprint\u001b[39m(\u001b[38;5;124m\"\u001b[39m\u001b[38;5;124mIndex of \u001b[39m\u001b[38;5;124m'\u001b[39m\u001b[38;5;124mh\u001b[39m\u001b[38;5;124m'\u001b[39m\u001b[38;5;124m:\u001b[39m\u001b[38;5;124m\"\u001b[39m,greet\u001b[38;5;241m.\u001b[39mindex(\u001b[38;5;124m'\u001b[39m\u001b[38;5;124mh\u001b[39m\u001b[38;5;124m'\u001b[39m))\n\u001b[0;32m      8\u001b[0m \u001b[38;5;28mprint\u001b[39m(\u001b[38;5;124m\"\u001b[39m\u001b[38;5;124mIndex of \u001b[39m\u001b[38;5;124m'\u001b[39m\u001b[38;5;124mworld\u001b[39m\u001b[38;5;124m'\u001b[39m\u001b[38;5;124m:\u001b[39m\u001b[38;5;124m\"\u001b[39m,greet\u001b[38;5;241m.\u001b[39mindex(\u001b[38;5;124m'\u001b[39m\u001b[38;5;124mworld\u001b[39m\u001b[38;5;124m'\u001b[39m))\n",
      "\u001b[1;31mValueError\u001b[0m: substring not found"
     ]
    }
   ],
   "source": [
    "#python index() method\n",
    "\n",
    "greet=\"Hello World!\"\n",
    "print(\"Index of 'H':\",greet.index('H'))\n",
    "print(\"Index of 'e':\",greet.index('e'))\n",
    "print(\"Index of 'World':\",greet.index('World'))\n",
    "print(\"Index of 'h':\",greet.index('h'))\n",
    "print(\"Index of 'world':\",greet.index('world'))\n"
   ]
  },
  {
   "cell_type": "code",
   "execution_count": 71,
   "id": "d82e8982-a4a5-467d-b0aa-2956d444fcdf",
   "metadata": {},
   "outputs": [
    {
     "name": "stdout",
     "output_type": "stream",
     "text": [
      "True\n",
      "True\n",
      "True\n",
      "False\n",
      "False\n"
     ]
    }
   ],
   "source": [
    "#python isalnum() method\n",
    "## It gives the output in binary function\n",
    "\n",
    "mystr=\"Hello123\"\n",
    "print(mystr.isalnum())\n",
    "\n",
    "mystr=\"12345\"\n",
    "print(mystr.isalnum())\n",
    "\n",
    "mystr=\"Madrid\"\n",
    "print(mystr.isalnum())\n",
    "\n",
    "mystr=\"Python is a programming language\"   #error because of space\n",
    "print(mystr.isalnum())\n",
    "\n",
    "mystr=\"#1\"                  #error because of special charachter\n",
    "print(mystr.isalnum())"
   ]
  },
  {
   "cell_type": "code",
   "execution_count": 77,
   "id": "2e19de7c-cca1-480e-bc1b-f852cf17255f",
   "metadata": {},
   "outputs": [
    {
     "name": "stdout",
     "output_type": "stream",
     "text": [
      "True\n",
      "False\n",
      "False\n"
     ]
    }
   ],
   "source": [
    "#python isdigit() method\n",
    "\n",
    "mystr=\"12345\"\n",
    "print(mystr.isdigit())\n",
    "\n",
    "mystr=\"10.5\"\n",
    "print(mystr.isdigit())\n",
    "\n",
    "mystr=\"python\"\n",
    "print(mystr.isdigit())"
   ]
  },
  {
   "cell_type": "code",
   "execution_count": 83,
   "id": "93b122a2-ee41-4040-90b2-51466e3e7d99",
   "metadata": {},
   "outputs": [
    {
     "name": "stdout",
     "output_type": "stream",
     "text": [
      "True\n",
      "False\n",
      "True\n"
     ]
    }
   ],
   "source": [
    "#python islower() method\n",
    "\n",
    "mystr=\"hello world\"\n",
    "print(mystr.islower())\n",
    "\n",
    "mystr=\"Hello world\"\n",
    "print(mystr.islower())\n",
    "\n",
    "mystr=\"python is #1\"  #if there is all lower case character then it ignore speacial case symbol.\n",
    "print(mystr.islower())"
   ]
  },
  {
   "cell_type": "code",
   "execution_count": 107,
   "id": "62ab24aa-dfe6-49b4-9316-0b2ae70f89f0",
   "metadata": {},
   "outputs": [
    {
     "name": "stdout",
     "output_type": "stream",
     "text": [
      "True\n",
      "False\n",
      "False\n",
      "False\n"
     ]
    }
   ],
   "source": [
    "#python istitle() method\n",
    "\n",
    "greet=\"Hello World\"\n",
    "print(greet.istitle())\n",
    "\n",
    "greet=\"Hello WORLD\"\n",
    "print(greet.istitle())\n",
    "\n",
    "greet=\"hello world\"\n",
    "print(greet.istitle())\n",
    "\n",
    "s=\"Python Is A Programming Language\"\n",
    "print(greet.istitle())"
   ]
  },
  {
   "cell_type": "code",
   "execution_count": 105,
   "id": "2261457f-2c8c-4a86-b578-09e94bf79c3a",
   "metadata": {},
   "outputs": [
    {
     "name": "stdout",
     "output_type": "stream",
     "text": [
      "True\n",
      "False\n",
      "False\n",
      "False\n",
      "True\n"
     ]
    }
   ],
   "source": [
    "#python isupper() method\n",
    "\n",
    "mystr=\"HELLO WORLD\"\n",
    "print(mystr.isupper())\n",
    "\n",
    "mystr=\"Hello World\"\n",
    "print(mystr.isupper())\n",
    "\n",
    "mystr=\"Hello world\"\n",
    "print(mystr.isupper())\n",
    "\n",
    "mystr=\"hello world\"\n",
    "print(mystr.isupper())\n",
    "\n",
    "mystr=\"PYTHON IS #1\"\n",
    "print(mystr.isupper())"
   ]
  },
  {
   "cell_type": "code",
   "execution_count": 109,
   "id": "1bee5eb2-7715-46e5-8da8-368182c9ec8e",
   "metadata": {},
   "outputs": [
    {
     "name": "stdout",
     "output_type": "stream",
     "text": [
      "hello world\n",
      "123abc\n"
     ]
    }
   ],
   "source": [
    "#python lower() method\n",
    "\n",
    "mystr=\"HELLO WORLD\"\n",
    "print(mystr.lower())\n",
    "\n",
    "mystr=\"123ABC\"\n",
    "print(mystr.lower())\n"
   ]
  },
  {
   "cell_type": "code",
   "execution_count": 115,
   "id": "a797b154-197d-4a37-8048-8e71ca0d51a5",
   "metadata": {},
   "outputs": [
    {
     "name": "stdout",
     "output_type": "stream",
     "text": [
      "            Hello World     \n",
      "Hello World     \n"
     ]
    }
   ],
   "source": [
    "#python lstrip() method\n",
    "\n",
    "mystr=\"            Hello World     \"\n",
    "print(mystr)\n",
    "\n",
    "print(mystr.lstrip()) #remove leading space (left space)"
   ]
  },
  {
   "cell_type": "code",
   "execution_count": 125,
   "id": "48c8e0ca-a4a8-419f-bc96-31b1f27e9a21",
   "metadata": {},
   "outputs": [
    {
     "name": "stdout",
     "output_type": "stream",
     "text": [
      "('Hello', ' ', 'World')\n",
      "('How ', 'are', ' you?')\n",
      "('TutorialsTeacher is the best ', 'tutorials', ' website.')\n",
      "('', 'Tutorials', 'Teacher is the best tutorials website.')\n"
     ]
    }
   ],
   "source": [
    "#python partition() method\n",
    "\n",
    "mystr='Hello World'\n",
    "print(mystr.partition(' '))\n",
    "\n",
    "mystr=\"How are you?\"\n",
    "print(mystr.partition(\"are\"))\n",
    "\n",
    "mystr=\"TutorialsTeacher is the best tutorials website.\"\n",
    "print(mystr.partition(\"tutorials\"))\n",
    "print(mystr.partition(\"Tutorials\"))"
   ]
  },
  {
   "cell_type": "code",
   "execution_count": null,
   "id": "cd120aa8-142b-46da-b781-2c27c70d84c2",
   "metadata": {},
   "outputs": [],
   "source": []
  }
 ],
 "metadata": {
  "kernelspec": {
   "display_name": "Python 3 (ipykernel)",
   "language": "python",
   "name": "python3"
  },
  "language_info": {
   "codemirror_mode": {
    "name": "ipython",
    "version": 3
   },
   "file_extension": ".py",
   "mimetype": "text/x-python",
   "name": "python",
   "nbconvert_exporter": "python",
   "pygments_lexer": "ipython3",
   "version": "3.12.4"
  }
 },
 "nbformat": 4,
 "nbformat_minor": 5
}
