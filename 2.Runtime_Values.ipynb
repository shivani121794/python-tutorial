{
 "cells": [
  {
   "cell_type": "markdown",
   "id": "ff3eb73e-1017-48f4-98da-e20a53ed20fc",
   "metadata": {},
   "source": [
    "#RUNTIME_VALUES"
   ]
  },
  {
   "cell_type": "markdown",
   "id": "ad216305-870f-4952-abeb-fa68f801f99d",
   "metadata": {},
   "source": [
    "input()"
   ]
  },
  {
   "cell_type": "markdown",
   "id": "112d683c-ddb0-4247-a031-e26dff946de1",
   "metadata": {},
   "source": [
    "Integer--------\n",
    "int(input(\"Msg\"))"
   ]
  },
  {
   "cell_type": "markdown",
   "id": "6ab41d04-676f-4254-b6a4-899d4b564854",
   "metadata": {},
   "source": [
    "Decimal----------\n",
    "float(input(\"Msg))"
   ]
  },
  {
   "cell_type": "markdown",
   "id": "594500f1-38e7-43ee-bf8d-654685b9678b",
   "metadata": {},
   "source": [
    "String---------\n",
    "input(\"Msg\")"
   ]
  },
  {
   "cell_type": "code",
   "execution_count": null,
   "id": "0e8a2f85-394e-44d0-a215-2788b1ec8781",
   "metadata": {},
   "outputs": [],
   "source": []
  },
  {
   "cell_type": "code",
   "execution_count": 5,
   "id": "03cd05da-ecbf-4f2b-89e3-f5ca8ef7297d",
   "metadata": {},
   "outputs": [
    {
     "name": "stdin",
     "output_type": "stream",
     "text": [
      "enter the number 56\n",
      "enter the number 34\n"
     ]
    },
    {
     "name": "stdout",
     "output_type": "stream",
     "text": [
      "the sum is 90\n"
     ]
    }
   ],
   "source": [
    "#the sum of two numbers\n",
    "\n",
    "a=int(input(\"enter the number\"))\n",
    "b=int(input(\"enter the number\"))\n",
    "c=a+b\n",
    "print(\"the sum is\",c)"
   ]
  },
  {
   "cell_type": "code",
   "execution_count": null,
   "id": "74d4ef96-f3e6-4f1f-9707-ecb6d159f918",
   "metadata": {},
   "outputs": [],
   "source": []
  },
  {
   "cell_type": "code",
   "execution_count": 1,
   "id": "88fc97e7-7a30-4393-a33e-55c1145f0444",
   "metadata": {},
   "outputs": [
    {
     "name": "stdin",
     "output_type": "stream",
     "text": [
      "enter the value of the interest 5000\n",
      "enter the value of the rate 5.2\n",
      "enter the value of the time 2\n"
     ]
    },
    {
     "name": "stdout",
     "output_type": "stream",
     "text": [
      "the simple interest is 520.0\n"
     ]
    }
   ],
   "source": [
    "#simple interest\n",
    "\n",
    "p=int(input(\"enter the value of the interest\"))\n",
    "r=float(input(\"enter the value of the rate\"))\n",
    "t=int(input(\"enter the value of the time\"))\n",
    "si=p*r*t/100\n",
    "print(\"the simple interest is\",si)"
   ]
  },
  {
   "cell_type": "code",
   "execution_count": null,
   "id": "70a6df47-13cc-4455-9bc5-c9d05b35cb6d",
   "metadata": {},
   "outputs": [],
   "source": []
  },
  {
   "cell_type": "code",
   "execution_count": 11,
   "id": "f8647da8-0b5a-4aa2-9ccd-88096fec87fc",
   "metadata": {},
   "outputs": [
    {
     "name": "stdin",
     "output_type": "stream",
     "text": [
      "enter the number 34\n",
      "enter the number 23\n",
      "enter the number 54\n"
     ]
    },
    {
     "name": "stdout",
     "output_type": "stream",
     "text": [
      "the average is 37.0\n"
     ]
    }
   ],
   "source": [
    "#average of three numbers\n",
    "\n",
    "a=float(input(\"enter the number\"))\n",
    "b=float(input(\"enter the number\"))\n",
    "c=float(input(\"enter the number\"))\n",
    "avg=(a+b+c)/3\n",
    "print(\"the average is\",avg)"
   ]
  },
  {
   "cell_type": "code",
   "execution_count": null,
   "id": "1c833e1d-bfdc-42d8-98ca-4e718acb8360",
   "metadata": {},
   "outputs": [],
   "source": []
  },
  {
   "cell_type": "code",
   "execution_count": 13,
   "id": "a84eedf1-1e87-4df3-9bd1-9b6dcc41ca7a",
   "metadata": {},
   "outputs": [
    {
     "name": "stdin",
     "output_type": "stream",
     "text": [
      "enter the number 20\n",
      "enter the number 45\n",
      "enter the number 36\n",
      "enter the number 67\n",
      "enter the number 38\n"
     ]
    },
    {
     "name": "stdout",
     "output_type": "stream",
     "text": [
      "the percentage is 41.2\n"
     ]
    }
   ],
   "source": [
    "#percentage of marks\n",
    "\n",
    "p=float(input(\"enter the number\"))\n",
    "c=float(input(\"enter the number\"))\n",
    "m=float(input(\"enter the number\"))\n",
    "e=float(input(\"enter the number\"))\n",
    "h=float(input(\"enter the number\"))\n",
    "sum=p+c+m+e+h\n",
    "per=sum*100/500\n",
    "print(\"the percentage is\",per)"
   ]
  },
  {
   "cell_type": "code",
   "execution_count": null,
   "id": "6fccf6b4-0968-4e14-8726-35df06e18844",
   "metadata": {},
   "outputs": [],
   "source": []
  },
  {
   "cell_type": "code",
   "execution_count": 17,
   "id": "df4a5171-c281-4606-8c5d-0de42cc62e41",
   "metadata": {},
   "outputs": [],
   "source": [
    "import math  #sqrt,pow"
   ]
  },
  {
   "cell_type": "code",
   "execution_count": 25,
   "id": "30437e2f-b05b-49e4-af62-4c6c634e53d3",
   "metadata": {},
   "outputs": [
    {
     "name": "stdin",
     "output_type": "stream",
     "text": [
      "enter the number 8\n"
     ]
    },
    {
     "name": "stdout",
     "output_type": "stream",
     "text": [
      "the result is 2.8284271247461903\n"
     ]
    }
   ],
   "source": [
    "n=float(input(\"enter the number\"))\n",
    "x=math.sqrt(n)\n",
    "print(\"the result is\",x)"
   ]
  },
  {
   "cell_type": "code",
   "execution_count": 27,
   "id": "776bd328-eca0-4490-960d-e19cdc134fbc",
   "metadata": {},
   "outputs": [
    {
     "name": "stdin",
     "output_type": "stream",
     "text": [
      "enter the value of the base 3\n",
      "enter the value of the exponent 4\n"
     ]
    },
    {
     "name": "stdout",
     "output_type": "stream",
     "text": [
      "the result is 81.0\n"
     ]
    }
   ],
   "source": [
    "a=float(input(\"enter the value of the base\"))\n",
    "b=float(input(\"enter the value of the exponent\"))\n",
    "x=math.pow(a,b)\n",
    "print(\"the result is\",x)"
   ]
  },
  {
   "cell_type": "code",
   "execution_count": null,
   "id": "3969f001-29f7-40ae-9c84-cfe45bb000b6",
   "metadata": {},
   "outputs": [],
   "source": []
  },
  {
   "cell_type": "code",
   "execution_count": null,
   "id": "662f8a09-df51-4dce-b5d7-250fb2b87267",
   "metadata": {},
   "outputs": [],
   "source": [
    "#Swapping of two numbers"
   ]
  },
  {
   "cell_type": "code",
   "execution_count": 31,
   "id": "f98f7df1-e9ed-461c-86e2-a5fa19bc8ea2",
   "metadata": {},
   "outputs": [
    {
     "name": "stdin",
     "output_type": "stream",
     "text": [
      "enter the number 50\n",
      "enter the number 40\n"
     ]
    },
    {
     "name": "stdout",
     "output_type": "stream",
     "text": [
      "before swapping\n",
      "A= 50\n",
      "B= 40\n",
      "after swapping\n",
      "A= 40\n",
      "B= 50\n"
     ]
    }
   ],
   "source": [
    "#first method with the help of third variable\n",
    "\n",
    "a=int(input(\"enter the number\")) #50\n",
    "b=int(input(\"enter the number\")) #40\n",
    "print(\"before swapping\")\n",
    "print(\"A=\",a)\n",
    "print(\"B=\",b)\n",
    "temp=a #temp=50\n",
    "a=b    #a=40\n",
    "b=temp #b=50\n",
    "print(\"after swapping\")\n",
    "print(\"A=\",a)\n",
    "print(\"B=\",b)"
   ]
  },
  {
   "cell_type": "code",
   "execution_count": 33,
   "id": "4149d606-dda7-4a20-a238-c4aac0d964fc",
   "metadata": {},
   "outputs": [
    {
     "name": "stdin",
     "output_type": "stream",
     "text": [
      "enter the number 50\n",
      "enter the number 40\n"
     ]
    },
    {
     "name": "stdout",
     "output_type": "stream",
     "text": [
      "before swapping\n",
      "A= 50\n",
      "B= 40\n",
      "after swapping\n",
      "A= 40\n",
      "B= 50\n"
     ]
    }
   ],
   "source": [
    "#second method without third variable\n",
    "\n",
    "a=int(input(\"enter the number\")) #50\n",
    "b=int(input(\"enter the number\")) #40\n",
    "print(\"before swapping\")\n",
    "print(\"A=\",a)\n",
    "print(\"B=\",b)\n",
    "a=a+b    #a=90(50+40)\n",
    "b=a-b    #b=50(90-40)\n",
    "a=a-b    #a=40(90-50)\n",
    "print(\"after swapping\")\n",
    "print(\"A=\",a)\n",
    "print(\"B=\",b)"
   ]
  },
  {
   "cell_type": "code",
   "execution_count": 35,
   "id": "0b8a4ca5-44a1-43d2-b474-6511f545b4fa",
   "metadata": {},
   "outputs": [
    {
     "name": "stdin",
     "output_type": "stream",
     "text": [
      "enter the number 50\n",
      "enter the number 40\n"
     ]
    },
    {
     "name": "stdout",
     "output_type": "stream",
     "text": [
      "before swapping\n",
      "A= 50\n",
      "B= 40\n",
      "after swapping\n",
      "A= 40\n",
      "B= 50\n"
     ]
    }
   ],
   "source": [
    "#third is python method\n",
    "\n",
    "a=int(input(\"enter the number\")) #50\n",
    "b=int(input(\"enter the number\")) #40\n",
    "print(\"before swapping\")\n",
    "print(\"A=\",a)\n",
    "print(\"B=\",b)\n",
    "a,b=b,a        #x,y=10,20\n",
    "print(\"after swapping\")\n",
    "print(\"A=\",a)\n",
    "print(\"B=\",b)"
   ]
  },
  {
   "cell_type": "code",
   "execution_count": null,
   "id": "aca1e159-c00c-4c45-840a-b83db0ea9619",
   "metadata": {},
   "outputs": [],
   "source": []
  },
  {
   "cell_type": "code",
   "execution_count": 37,
   "id": "aafa5fa3-7df0-4d43-86ae-3453f599a3a2",
   "metadata": {},
   "outputs": [
    {
     "name": "stdin",
     "output_type": "stream",
     "text": [
      "enter the number 6\n",
      "enter the number 5\n"
     ]
    },
    {
     "name": "stdout",
     "output_type": "stream",
     "text": [
      "False\n",
      "True\n",
      "False\n",
      "False\n",
      "True\n"
     ]
    }
   ],
   "source": [
    "#Operators (Assignment Operators ------------   ==,<,>,<=,>=)\n",
    "\n",
    "a=int(input(\"enter the number\"))\n",
    "b=int(input(\"enter the number\"))\n",
    "print(a==b)\n",
    "print(a>b)\n",
    "print(a<b)\n",
    "print(a<=b)\n",
    "print(a>=b)"
   ]
  },
  {
   "cell_type": "code",
   "execution_count": null,
   "id": "47bc626a-f82e-4a3f-a4e5-564fd10e65fc",
   "metadata": {},
   "outputs": [],
   "source": []
  },
  {
   "cell_type": "code",
   "execution_count": null,
   "id": "7e3f547c-ee25-4632-9ce9-5bac976007bf",
   "metadata": {},
   "outputs": [],
   "source": [
    "#Logical Operators\n",
    "#-------\n",
    "#and ------- all the conditions must be true\n",
    "#0r --------- any of the conditions is being true\n"
   ]
  },
  {
   "cell_type": "code",
   "execution_count": 41,
   "id": "455c4262-9a90-4508-88e1-ac14005e9d3e",
   "metadata": {},
   "outputs": [
    {
     "name": "stdin",
     "output_type": "stream",
     "text": [
      "enter the number 3\n",
      "enter the number 4\n",
      "enter the number 3\n"
     ]
    },
    {
     "name": "stdout",
     "output_type": "stream",
     "text": [
      "False\n",
      "True\n",
      "False\n",
      "False\n",
      "True\n",
      "False\n"
     ]
    }
   ],
   "source": [
    "#and (with example)\n",
    "#or (with example)\n",
    "\n",
    "a=int(input(\"enter the number\"))\n",
    "b=int(input(\"enter the number\"))\n",
    "c=int(input(\"enter the number\"))\n",
    "\n",
    "print(a>b and a>c)\n",
    "print(b>a and b>c)\n",
    "print(c>a and c>b)\n",
    "\n",
    "print(a>b or a>c)\n",
    "print(b>a or b>c)\n",
    "print(c>a or c>b)"
   ]
  },
  {
   "cell_type": "code",
   "execution_count": 45,
   "id": "10a1c759-8def-4c0d-81d3-67227626bd0c",
   "metadata": {},
   "outputs": [
    {
     "name": "stdout",
     "output_type": "stream",
     "text": [
      "False\n",
      "False\n",
      "True\n",
      "False\n"
     ]
    }
   ],
   "source": [
    "#and example\n",
    "#or example\n",
    "\n",
    "print(True and True and False)\n",
    "print(False and False and False)\n",
    "\n",
    "print(True or True or False)\n",
    "print(False or False or False)"
   ]
  },
  {
   "cell_type": "code",
   "execution_count": null,
   "id": "1d92e6fb-3be4-4d4d-bbdb-3ce7a86fe3fc",
   "metadata": {},
   "outputs": [],
   "source": []
  }
 ],
 "metadata": {
  "kernelspec": {
   "display_name": "Python 3 (ipykernel)",
   "language": "python",
   "name": "python3"
  },
  "language_info": {
   "codemirror_mode": {
    "name": "ipython",
    "version": 3
   },
   "file_extension": ".py",
   "mimetype": "text/x-python",
   "name": "python",
   "nbconvert_exporter": "python",
   "pygments_lexer": "ipython3",
   "version": "3.12.4"
  }
 },
 "nbformat": 4,
 "nbformat_minor": 5
}
