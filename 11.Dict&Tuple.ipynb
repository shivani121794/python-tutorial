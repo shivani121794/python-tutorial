{
 "cells": [
  {
   "cell_type": "code",
   "execution_count": null,
   "id": "eb83e0d9-4456-4325-b003-c3a2ceaf1844",
   "metadata": {},
   "outputs": [],
   "source": [
    "#Dictionary"
   ]
  },
  {
   "cell_type": "code",
   "execution_count": 3,
   "id": "96369aca-bc3e-46c6-a2fd-7f20523f4481",
   "metadata": {},
   "outputs": [
    {
     "name": "stdout",
     "output_type": "stream",
     "text": [
      "{1: 'one', 2: 'two', 3: 'three'}\n",
      "{1: 'one', 2: 'two'}\n"
     ]
    }
   ],
   "source": [
    "d1={1:\"one\",2:\"two\",3:\"three\"}\n",
    "print(d1)\n",
    "del d1[3]\n",
    "print(d1)"
   ]
  },
  {
   "cell_type": "code",
   "execution_count": 5,
   "id": "af782ed8-b37e-4ac4-a50e-f13efddaec9d",
   "metadata": {},
   "outputs": [
    {
     "name": "stdout",
     "output_type": "stream",
     "text": [
      "{2: 'two'}\n"
     ]
    }
   ],
   "source": [
    "d1.pop(1)\n",
    "print(d1)"
   ]
  },
  {
   "cell_type": "code",
   "execution_count": 9,
   "id": "a57c8e93-fe7d-4bcf-a2af-cfceaaadd3cb",
   "metadata": {},
   "outputs": [
    {
     "name": "stdout",
     "output_type": "stream",
     "text": [
      "one\n"
     ]
    }
   ],
   "source": [
    "d1={1:\"one\",2:\"two\",3:\"three\"}\n",
    "print(d1.pop(1))  #pop return the deleted value"
   ]
  },
  {
   "cell_type": "code",
   "execution_count": 11,
   "id": "0c46e218-5bf2-483a-b2ad-e5e9c0dc1c81",
   "metadata": {},
   "outputs": [
    {
     "name": "stdout",
     "output_type": "stream",
     "text": [
      "{1: 'one', 2: 'two', 3: 'three'}\n",
      "{1: 'one', 2: 'two'}\n",
      "{1: 'one'}\n"
     ]
    }
   ],
   "source": [
    "d1={1:\"one\",2:\"two\",3:\"three\"}\n",
    "print(d1)\n",
    "d1.popitem() #deleted last key value pair\n",
    "print(d1)\n",
    "d1.popitem()\n",
    "print(d1)"
   ]
  },
  {
   "cell_type": "code",
   "execution_count": null,
   "id": "0dd78557-1831-4982-a330-e2ac1b96b8e8",
   "metadata": {},
   "outputs": [],
   "source": [
    "#Nested Dictionary\n",
    "\n",
    "Multi dimentional Dictionary\n",
    "Lets assum there are three dictionary objects, as below:"
   ]
  },
  {
   "cell_type": "code",
   "execution_count": 17,
   "id": "a040d3a8-bf87-45c7-80ce-be05a795febe",
   "metadata": {},
   "outputs": [],
   "source": [
    "d1={\"name\":\"steve\",\"age\":25,\"marks\":60}\n",
    "d2={\"name\":\"anil\",\"age\":23,\"marks\":75}\n",
    "d3={\"name\":\"asha\",\"age\":20,\"marks\":70}"
   ]
  },
  {
   "cell_type": "code",
   "execution_count": null,
   "id": "fbb2bd6d-beb1-4a48-8c5e-18e22e921d2c",
   "metadata": {},
   "outputs": [],
   "source": [
    "Lets assign roll numbers to these students and create a multi dimentional dictionary with roll number as key and the above dictionaries at thier value."
   ]
  },
  {
   "cell_type": "code",
   "execution_count": 19,
   "id": "e33ff03f-b8df-4b75-a4a6-60e1885c1b02",
   "metadata": {},
   "outputs": [
    {
     "name": "stdout",
     "output_type": "stream",
     "text": [
      "{1: {'name': 'steve', 'age': 25, 'marks': 60}, 2: {'name': 'anil', 'age': 23, 'marks': 75}, 3: {'name': 'asha', 'age': 20, 'marks': 70}}\n"
     ]
    }
   ],
   "source": [
    "students={1:d1,2:d2,3:d3}\n",
    "print(students)"
   ]
  },
  {
   "cell_type": "code",
   "execution_count": 23,
   "id": "01b29fdb-3973-4ebd-8bf1-89d152dbe610",
   "metadata": {},
   "outputs": [
    {
     "name": "stdout",
     "output_type": "stream",
     "text": [
      "{'name': 'steve', 'age': 25, 'marks': 60}\n",
      "{'name': 'anil', 'age': 23, 'marks': 75}\n",
      "{'name': 'asha', 'age': 20, 'marks': 70}\n"
     ]
    }
   ],
   "source": [
    "print(students[1])\n",
    "print(students[2])\n",
    "print(students[3])"
   ]
  },
  {
   "cell_type": "code",
   "execution_count": 25,
   "id": "083d30f8-c9cf-4048-b07b-afafaaeba082",
   "metadata": {},
   "outputs": [
    {
     "name": "stdout",
     "output_type": "stream",
     "text": [
      "Dictionary: {'I': 1, 'II': 2, 'III': 3, 'IV': 4, 'V': 5}\n"
     ]
    }
   ],
   "source": [
    "#Clear\n",
    "\n",
    "roman_num={'I':1,'II':2,'III':3,'IV':4,'V':5}\n",
    "print(\"Dictionary:\",roman_num)"
   ]
  },
  {
   "cell_type": "code",
   "execution_count": 27,
   "id": "404f9d0b-7bab-46b9-bf9a-aa99c077e6f1",
   "metadata": {},
   "outputs": [
    {
     "name": "stdout",
     "output_type": "stream",
     "text": [
      "Dictionary after calling clear() method:  {}\n"
     ]
    }
   ],
   "source": [
    "roman_num.clear()\n",
    "print(\"Dictionary after calling clear() method: \", roman_num)"
   ]
  },
  {
   "cell_type": "code",
   "execution_count": 29,
   "id": "c1e184f0-d43d-4a3f-b3dd-f451529148dc",
   "metadata": {},
   "outputs": [
    {
     "name": "stdout",
     "output_type": "stream",
     "text": [
      "origional dictionary: {'I': 1, 'II': 2, 'III': 3, 'IV': 4, 'V': 5}\n",
      "copied dictionary: {'I': 1, 'II': 2, 'III': 3, 'IV': 4, 'V': 5}\n"
     ]
    }
   ],
   "source": [
    "#Copy\n",
    "\n",
    "x={'I':1,'II':2,'III':3,'IV':4,'V':5}\n",
    "y=x.copy()\n",
    "print(\"origional dictionary:\",x)\n",
    "print(\"copied dictionary:\",y)"
   ]
  },
  {
   "cell_type": "code",
   "execution_count": 31,
   "id": "8f553fdd-2591-4b77-908e-e68802dfa00d",
   "metadata": {},
   "outputs": [
    {
     "name": "stdout",
     "output_type": "stream",
     "text": [
      "origional dictionary: {'I': 1, 'II': 2, 'III': 3, 'IV': 4, 'V': 5}\n",
      "copied dictionary: {'I': 1, 'II': 2, 'III': 3, 'IV': 4}\n"
     ]
    }
   ],
   "source": [
    "del y['V'] #deleting 'V'\n",
    "print(\"origional dictionary:\",x)\n",
    "print(\"copied dictionary:\",y)"
   ]
  },
  {
   "cell_type": "code",
   "execution_count": 33,
   "id": "15edd9c6-c7c6-4831-8798-7dfc473d3abb",
   "metadata": {},
   "outputs": [
    {
     "name": "stdout",
     "output_type": "stream",
     "text": [
      "origional dictionary: {'II': 2, 'III': 3, 'IV': 4, 'V': 5}\n",
      "copied dictionary: {'I': 1, 'II': 2, 'III': 3, 'IV': 4}\n"
     ]
    }
   ],
   "source": [
    "del x['I'] #deleting 'V'\n",
    "print(\"origional dictionary:\",x)\n",
    "print(\"copied dictionary:\",y)"
   ]
  },
  {
   "cell_type": "code",
   "execution_count": 35,
   "id": "9f34786c-5697-4cc5-8d68-06f5380e37f5",
   "metadata": {},
   "outputs": [
    {
     "name": "stdout",
     "output_type": "stream",
     "text": [
      "{'New York': 'city', 'Mumbai': 'city', 'Bangalore': 'city', 'Chicago': 'city'}\n"
     ]
    }
   ],
   "source": [
    "#Dictionary from key\n",
    "\n",
    "keys = {'Mumbai','Bangalore','Chicago','New York'}\n",
    "value = 'city'\n",
    "dictionary = dict.fromkeys(keys,value)\n",
    "print(dictionary)"
   ]
  },
  {
   "cell_type": "code",
   "execution_count": 37,
   "id": "346aa046-e83b-46f2-9fdd-e0d64d1a2486",
   "metadata": {},
   "outputs": [
    {
     "name": "stdout",
     "output_type": "stream",
     "text": [
      "{'New York': None, 'Mumbai': None, 'Bangalore': None, 'Chicago': None}\n"
     ]
    }
   ],
   "source": [
    "keys = {'Mumbai','Bangalore','Chicago','New York'}\n",
    "dictionary = dict.fromkeys(keys)\n",
    "print(dictionary) "
   ]
  },
  {
   "cell_type": "code",
   "execution_count": null,
   "id": "d204dbe2-deb3-4f13-ac26-0b897d80bbd1",
   "metadata": {},
   "outputs": [],
   "source": [
    "#we can update the value one by one\n",
    "example\n",
    "keys[\"Mumbai\"]=\"bbb\""
   ]
  },
  {
   "cell_type": "code",
   "execution_count": 39,
   "id": "bf4248ad-199b-40f9-aeeb-b8e366457199",
   "metadata": {},
   "outputs": [
    {
     "name": "stdout",
     "output_type": "stream",
     "text": [
      "Dictionary: {'I': 1, 'III': 3, 'V': 5}\n"
     ]
    }
   ],
   "source": [
    "#update method\n",
    "\n",
    "roman_nums={'I':1,'III':3,'V':5}\n",
    "print(\"Dictionary:\",roman_nums)"
   ]
  },
  {
   "cell_type": "code",
   "execution_count": 41,
   "id": "7f52cade-c1f4-48cd-9075-caaed7e84374",
   "metadata": {},
   "outputs": [],
   "source": [
    "evenroman_nums={'II':2,'IV':4}"
   ]
  },
  {
   "cell_type": "code",
   "execution_count": 43,
   "id": "d342bdab-b76e-4590-b718-f599e016036c",
   "metadata": {},
   "outputs": [],
   "source": [
    "roman_nums.update(evenroman_nums)"
   ]
  },
  {
   "cell_type": "code",
   "execution_count": 45,
   "id": "1c099276-837e-4896-8f10-db86c1164519",
   "metadata": {},
   "outputs": [
    {
     "name": "stdout",
     "output_type": "stream",
     "text": [
      "Updated Dictionary: {'I': 1, 'III': 3, 'V': 5, 'II': 2, 'IV': 4}\n"
     ]
    }
   ],
   "source": [
    "print(\"Updated Dictionary:\",roman_nums)"
   ]
  },
  {
   "cell_type": "code",
   "execution_count": 49,
   "id": "66db07b0-de06-4700-9234-83a4ee85d9b1",
   "metadata": {},
   "outputs": [
    {
     "data": {
      "text/plain": [
       "{'name': 'asif', 'ID': 13456, 'DOB': 1998, 'Job': 'Analyst'}"
      ]
     },
     "execution_count": 49,
     "metadata": {},
     "output_type": "execute_result"
    }
   ],
   "source": [
    "#Dictionary membership\n",
    "\n",
    "mydict={\"name\":\"asif\",\"ID\":13456,\"DOB\":1998,\"Job\":\"Analyst\"}\n",
    "mydict"
   ]
  },
  {
   "cell_type": "code",
   "execution_count": 53,
   "id": "a44ea013-3761-486d-8aa6-4855173d63cb",
   "metadata": {},
   "outputs": [
    {
     "data": {
      "text/plain": [
       "True"
      ]
     },
     "execution_count": 53,
     "metadata": {},
     "output_type": "execute_result"
    }
   ],
   "source": [
    "\"name\" in mydict #Test if a key is in a dictionary or not"
   ]
  },
  {
   "cell_type": "code",
   "execution_count": 55,
   "id": "fa6b0cb7-3166-4567-aa91-ee5c6a36e85e",
   "metadata": {},
   "outputs": [
    {
     "data": {
      "text/plain": [
       "False"
      ]
     },
     "execution_count": 55,
     "metadata": {},
     "output_type": "execute_result"
    }
   ],
   "source": [
    "\"Asif\" in mydict #Membership test can be only done for keys"
   ]
  },
  {
   "cell_type": "code",
   "execution_count": 57,
   "id": "1419b7e8-86cb-46ff-8b83-1a0bc21878e2",
   "metadata": {},
   "outputs": [
    {
     "data": {
      "text/plain": [
       "False"
      ]
     },
     "execution_count": 57,
     "metadata": {},
     "output_type": "execute_result"
    }
   ],
   "source": [
    "\"ID\" not in mydict"
   ]
  },
  {
   "cell_type": "code",
   "execution_count": 61,
   "id": "bb679b81-c762-4f26-9259-cb86247c64a3",
   "metadata": {},
   "outputs": [
    {
     "data": {
      "text/plain": [
       "True"
      ]
     },
     "execution_count": 61,
     "metadata": {},
     "output_type": "execute_result"
    }
   ],
   "source": [
    "\"ID\" in mydict"
   ]
  },
  {
   "cell_type": "code",
   "execution_count": 65,
   "id": "1764a426-b30a-4eeb-a482-15f32f410a2c",
   "metadata": {},
   "outputs": [
    {
     "data": {
      "text/plain": [
       "{0: 0, 1: 2, 2: 4, 3: 6, 4: 8, 5: 10, 6: 12, 7: 14, 8: 16, 9: 18}"
      ]
     },
     "execution_count": 65,
     "metadata": {},
     "output_type": "execute_result"
    }
   ],
   "source": [
    "#Dictionary Comprehension\n",
    "\n",
    "double={i:i*2 for i in range(10)} #double each value using dict comrehention\n",
    "double"
   ]
  },
  {
   "cell_type": "code",
   "execution_count": 67,
   "id": "eab9f284-80f3-4d3f-a607-f5791c001edd",
   "metadata": {},
   "outputs": [
    {
     "data": {
      "text/plain": [
       "{0: 0, 1: 1, 2: 4, 3: 9, 4: 16, 5: 25, 6: 36, 7: 49, 8: 64, 9: 81}"
      ]
     },
     "execution_count": 67,
     "metadata": {},
     "output_type": "execute_result"
    }
   ],
   "source": [
    "square={i:i**2 for i in range(10)}\n",
    "square"
   ]
  },
  {
   "cell_type": "code",
   "execution_count": 69,
   "id": "cce94115-4421-46d8-9a33-b9bcdc8b183b",
   "metadata": {},
   "outputs": [
    {
     "data": {
      "text/plain": [
       "{'one': 1, 'two': 2, 'three': 3, 'four': 4, 'five': 5}"
      ]
     },
     "execution_count": 69,
     "metadata": {},
     "output_type": "execute_result"
    }
   ],
   "source": [
    "key=['one','two','three','four','five']\n",
    "value=[1,2,3,4,5]\n",
    "\n",
    "mydict={k:v for(k,v) in zip(key,value)} #using dict comrehention to create dictionary\n",
    "mydict"
   ]
  },
  {
   "cell_type": "code",
   "execution_count": 71,
   "id": "5e9309db-3da2-4efb-b31e-36fabcc2c50a",
   "metadata": {},
   "outputs": [
    {
     "data": {
      "text/plain": [
       "{'a': 1.0, 'b': 2.0, 'c': 3.0, 'd': 4.0, 'e': 5.0}"
      ]
     },
     "execution_count": 71,
     "metadata": {},
     "output_type": "execute_result"
    }
   ],
   "source": [
    "mydict1={'a':10,'b':20,'c':30,'d':40,'e':50}\n",
    "mydict1={k:v/10 for (k,v) in mydict1.items()} #Divide all values in a dictionary\n",
    "mydict1"
   ]
  },
  {
   "cell_type": "code",
   "execution_count": 79,
   "id": "ada2540d-a868-4436-a5c0-25a1953f1a6f",
   "metadata": {},
   "outputs": [
    {
     "data": {
      "text/plain": [
       "{'a': 'A',\n",
       " 'b': 'B',\n",
       " 'c': 'C',\n",
       " 'd': 'D',\n",
       " 'e': 'E',\n",
       " 'f': 'F',\n",
       " 'g': 'G',\n",
       " 'h': 'H',\n",
       " 'i': 'I',\n",
       " 'j': 'J',\n",
       " 'k': 'K',\n",
       " 'l': 'L',\n",
       " 'm': 'M',\n",
       " 'n': 'N',\n",
       " 'o': 'O',\n",
       " 'p': 'P',\n",
       " 'q': 'Q',\n",
       " 'r': 'R',\n",
       " 's': 'S',\n",
       " 't': 'T',\n",
       " 'u': 'U',\n",
       " 'v': 'V',\n",
       " 'w': 'W',\n",
       " 'x': 'X',\n",
       " 'y': 'Y',\n",
       " 'z': 'Z'}"
      ]
     },
     "execution_count": 79,
     "metadata": {},
     "output_type": "execute_result"
    }
   ],
   "source": [
    "str1=\"abcdefghijklmnopqrstuvwxyz\"\n",
    "mydict2={i:i.upper() for i in str1} #Lower to upper case\n",
    "mydict2"
   ]
  },
  {
   "cell_type": "code",
   "execution_count": null,
   "id": "6bb1b262-83e7-439f-9c6c-b9491551c1b0",
   "metadata": {},
   "outputs": [],
   "source": [
    "#Tuple\n",
    "-----\n",
    "sequence data structure\n",
    "enclosed in ()\n",
    "indexed , ordered\n",
    "\"immutable\"--cannot be change once created\n",
    "\n",
    "Difference between list and tuple"
   ]
  },
  {
   "cell_type": "code",
   "execution_count": null,
   "id": "eec15f16-38a5-4964-b492-19a729bbdf5c",
   "metadata": {},
   "outputs": [],
   "source": [
    "t1=(12,23,34,45,56) #tuple of integers\n",
    "t1=(\"how\",\"are\",\"you\")\n",
    "t1=((1,2),(2,3))"
   ]
  },
  {
   "cell_type": "code",
   "execution_count": null,
   "id": "8b7e7f09-c116-4922-8133-d795183162dc",
   "metadata": {},
   "outputs": [],
   "source": [
    "tuple constructoe\n",
    "-------------"
   ]
  },
  {
   "cell_type": "code",
   "execution_count": 83,
   "id": "19d91989-887b-4788-aff5-7fd6e384bd43",
   "metadata": {},
   "outputs": [
    {
     "data": {
      "text/plain": [
       "('A', 'n', 'k', 'u', 's', 'h')"
      ]
     },
     "execution_count": 83,
     "metadata": {},
     "output_type": "execute_result"
    }
   ],
   "source": [
    "t1=tuple(\"Ankush\")\n",
    "t1"
   ]
  },
  {
   "cell_type": "code",
   "execution_count": 85,
   "id": "e6d3eee8-561e-4fe7-8ec8-de798f254f0f",
   "metadata": {},
   "outputs": [
    {
     "name": "stdout",
     "output_type": "stream",
     "text": [
      "<class 'tuple'>\n"
     ]
    }
   ],
   "source": [
    "t1=12,23,34,45,56 #tuple packing        \n",
    "print(type(t1))       #can we make a tuple without bracket -- yes and but comma is must to make a tuple"
   ]
  },
  {
   "cell_type": "code",
   "execution_count": 91,
   "id": "c8ebf36f-c163-4d2b-8429-9708978c25a7",
   "metadata": {},
   "outputs": [
    {
     "name": "stdout",
     "output_type": "stream",
     "text": [
      "12\n",
      "23\n",
      "34\n",
      "45\n",
      "56\n",
      "(12, 23, 34, 45, 56)\n"
     ]
    }
   ],
   "source": [
    "a,b,c,d,e=t1 #unpacking\n",
    "print(a)\n",
    "print(b)\n",
    "print(c)\n",
    "print(d)\n",
    "print(e)\n",
    "print(t1)"
   ]
  },
  {
   "cell_type": "code",
   "execution_count": 93,
   "id": "9aa8a7b9-e809-401e-9f27-ea1ff6a536ce",
   "metadata": {},
   "outputs": [
    {
     "name": "stdout",
     "output_type": "stream",
     "text": [
      "<class 'int'>\n"
     ]
    }
   ],
   "source": [
    "t2=(12)\n",
    "print(type(t2))"
   ]
  },
  {
   "cell_type": "code",
   "execution_count": 97,
   "id": "8d520222-ed8b-496d-94de-c902270d0835",
   "metadata": {},
   "outputs": [
    {
     "name": "stdout",
     "output_type": "stream",
     "text": [
      "<class 'tuple'>\n"
     ]
    }
   ],
   "source": [
    "t2=(12,)\n",
    "print(type(t2))"
   ]
  },
  {
   "cell_type": "code",
   "execution_count": null,
   "id": "4222d947-2441-42fe-a7dc-0178608f0952",
   "metadata": {},
   "outputs": [],
   "source": [
    "accessing\n",
    "------------"
   ]
  },
  {
   "cell_type": "code",
   "execution_count": 99,
   "id": "22a0f4a0-2bba-4c1e-a3b3-58edf5de6f15",
   "metadata": {},
   "outputs": [
    {
     "name": "stdout",
     "output_type": "stream",
     "text": [
      "12\n",
      "45\n",
      "56\n",
      "45\n"
     ]
    }
   ],
   "source": [
    "t1=(12,23,34,45,56)\n",
    "print(t1[0])\n",
    "print(t1[3])\n",
    "print(t1[-1])\n",
    "print(t1[-2])"
   ]
  },
  {
   "cell_type": "code",
   "execution_count": null,
   "id": "38964f67-3f7d-4a4f-afe9-3086d3fbe1e7",
   "metadata": {},
   "outputs": [],
   "source": []
  }
 ],
 "metadata": {
  "kernelspec": {
   "display_name": "Python 3 (ipykernel)",
   "language": "python",
   "name": "python3"
  },
  "language_info": {
   "codemirror_mode": {
    "name": "ipython",
    "version": 3
   },
   "file_extension": ".py",
   "mimetype": "text/x-python",
   "name": "python",
   "nbconvert_exporter": "python",
   "pygments_lexer": "ipython3",
   "version": "3.12.4"
  }
 },
 "nbformat": 4,
 "nbformat_minor": 5
}
