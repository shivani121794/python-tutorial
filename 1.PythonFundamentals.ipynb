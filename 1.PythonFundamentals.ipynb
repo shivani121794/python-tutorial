{
 "cells": [
  {
   "cell_type": "code",
   "execution_count": null,
   "id": "756f3bd1-6246-4335-99f5-1cfc9210d900",
   "metadata": {},
   "outputs": [],
   "source": [
    "print()-----output function\n",
    "\n",
    "\n",
    "1.message \n",
    "print(\"message\")\n",
    "\n",
    "2.value\n",
    "print(variable)\n",
    "\n",
    "3.value with the message\n",
    "print(\"message\",variable)\n",
    "\n",
    "Python operators\n",
    "types \n",
    "1.Arithmetic\n",
    "2.Assignment\n",
    "3.Comparison \n",
    "4.Logical\n",
    "5.Bitwise\n",
    "\n",
    "operator-- +,-,*,/,//,%,**\n",
    "operation-- addition,subtraction,multiplication,division,floor division,modulus,power(exponent)\n",
    "Example-- 10//3=3, 5%2=1, 4**2=16\n"
   ]
  },
  {
   "cell_type": "code",
   "execution_count": 1,
   "id": "54cb3545-f9b7-4493-800b-3638b1fa096d",
   "metadata": {},
   "outputs": [
    {
     "name": "stdout",
     "output_type": "stream",
     "text": [
      "700\n",
      "the sum is  700\n"
     ]
    }
   ],
   "source": [
    "#sum of two numbers\n",
    "\n",
    "a=300\n",
    "b=400\n",
    "c=a+b\n",
    "print(c)\n",
    "print(\"the sum is \",c)"
   ]
  },
  {
   "cell_type": "code",
   "execution_count": 5,
   "id": "97eba0b2-6fa3-405d-9e21-68a3949e0954",
   "metadata": {},
   "outputs": [
    {
     "name": "stdout",
     "output_type": "stream",
     "text": [
      "the simple interest is  900.0\n"
     ]
    }
   ],
   "source": [
    "p=5000\n",
    "r=4.5\n",
    "t=4\n",
    "si=p*r*t/100\n",
    "print(\"the simple interest is \",si)"
   ]
  },
  {
   "cell_type": "code",
   "execution_count": 11,
   "id": "4c39b2f9-4696-47ff-8977-f19d41c3e2f8",
   "metadata": {},
   "outputs": [
    {
     "name": "stdout",
     "output_type": "stream",
     "text": [
      "the average value is  4.0\n"
     ]
    }
   ],
   "source": [
    "a=3\n",
    "b=5\n",
    "c=4\n",
    "avg=(a+b+c)/3\n",
    "print(\"the average value is \",avg)"
   ]
  },
  {
   "cell_type": "code",
   "execution_count": 13,
   "id": "69aed43f-c004-4a5b-ab10-171a0450e644",
   "metadata": {},
   "outputs": [],
   "source": [
    "#PEMDAS\n",
    "\n",
    "#P----Parenthesis\n",
    "#E=-----Exponent\n",
    "#M-------Multiplication\n",
    "#D-------DIVISION\n",
    "#A--------Addition\n",
    "#S--------Substraction"
   ]
  },
  {
   "cell_type": "code",
   "execution_count": 23,
   "id": "737b3a93-dc8f-4120-a2df-118779c2c896",
   "metadata": {},
   "outputs": [
    {
     "name": "stdout",
     "output_type": "stream",
     "text": [
      "the percentage is  64.2 %\n"
     ]
    }
   ],
   "source": [
    "#percentage\n",
    "\n",
    "p=56\n",
    "c=62\n",
    "m=84\n",
    "e=45\n",
    "h=74\n",
    "\n",
    "total_marks= p+c+m+e+h\n",
    "percentage=total_marks*100/500\n",
    "print(\"the percentage is \",percentage,\"%\")"
   ]
  },
  {
   "cell_type": "code",
   "execution_count": 25,
   "id": "bc2f9e0b-b8dc-4f17-9d7c-9fe1bdf16f15",
   "metadata": {},
   "outputs": [
    {
     "data": {
      "text/plain": [
       "3.3333333333333335"
      ]
     },
     "execution_count": 25,
     "metadata": {},
     "output_type": "execute_result"
    }
   ],
   "source": [
    "10/3"
   ]
  },
  {
   "cell_type": "code",
   "execution_count": 27,
   "id": "e243e562-8f69-4cf6-b1c6-fc75dcf1e2a7",
   "metadata": {},
   "outputs": [
    {
     "data": {
      "text/plain": [
       "3"
      ]
     },
     "execution_count": 27,
     "metadata": {},
     "output_type": "execute_result"
    }
   ],
   "source": [
    "10//3"
   ]
  },
  {
   "cell_type": "code",
   "execution_count": 29,
   "id": "d4fc4f2a-1672-4365-8081-b13bcba4a306",
   "metadata": {},
   "outputs": [
    {
     "data": {
      "text/plain": [
       "1000"
      ]
     },
     "execution_count": 29,
     "metadata": {},
     "output_type": "execute_result"
    }
   ],
   "source": [
    "10**3"
   ]
  },
  {
   "cell_type": "code",
   "execution_count": 31,
   "id": "bfb9910b-159c-428c-b46d-fe3b98431ba4",
   "metadata": {},
   "outputs": [],
   "source": [
    "import math"
   ]
  },
  {
   "cell_type": "code",
   "execution_count": 37,
   "id": "be75d7c4-54b0-40d1-b5d4-2297d6fb22e0",
   "metadata": {},
   "outputs": [
    {
     "name": "stdout",
     "output_type": "stream",
     "text": [
      "4096\n",
      "4096\n",
      "4096.0\n"
     ]
    }
   ],
   "source": [
    "a=64\n",
    "b=2\n",
    "print(a**b)\n",
    "print(pow(a,b))\n",
    "print(math.pow(a,b))"
   ]
  },
  {
   "cell_type": "code",
   "execution_count": 41,
   "id": "8bda6fde-d838-43f9-983d-a0dd7b2cf725",
   "metadata": {},
   "outputs": [
    {
     "name": "stdout",
     "output_type": "stream",
     "text": [
      "2.0\n"
     ]
    }
   ],
   "source": [
    "n=4\n",
    "x=math.sqrt(n)\n",
    "print(x)"
   ]
  },
  {
   "cell_type": "code",
   "execution_count": 43,
   "id": "36ec698c-a757-4947-8423-869796beb098",
   "metadata": {},
   "outputs": [
    {
     "name": "stdout",
     "output_type": "stream",
     "text": [
      "8.18535277187245\n"
     ]
    }
   ],
   "source": [
    "n=67\n",
    "y=math.sqrt(n)\n",
    "print(y)"
   ]
  },
  {
   "cell_type": "code",
   "execution_count": null,
   "id": "33390613-e2e5-49e4-99c4-7ac16e2a7379",
   "metadata": {},
   "outputs": [],
   "source": [
    "#Python Assignment Operator\n",
    "#Operator                 Name                              Example\n",
    "=                         Assignment Operator                a=7\n",
    "+=                        Addition Assignment               a+=1 #a=a+1\n",
    "-=                        Substraction                      a-=3 #a=a-3\n",
    "*=                        Multiplication Assignmnet         a*=4 #a=a*4\n",
    "/=                        Division                          a/=3 #a=a/3\n",
    "%=                        Remainder                         a%=10 #a=a%10\n",
    "**=                       Exponent                          a**=10 #a=a**10"
   ]
  },
  {
   "cell_type": "code",
   "execution_count": 45,
   "id": "fc0e81bf-670f-43d0-9490-d42d6fff423a",
   "metadata": {},
   "outputs": [],
   "source": [
    "a=10"
   ]
  },
  {
   "cell_type": "code",
   "execution_count": 55,
   "id": "1662a850-b4bb-4dbc-9c83-d6c7d5a44d04",
   "metadata": {},
   "outputs": [
    {
     "data": {
      "text/plain": [
       "25"
      ]
     },
     "execution_count": 55,
     "metadata": {},
     "output_type": "execute_result"
    }
   ],
   "source": [
    "a+=3\n",
    "a"
   ]
  },
  {
   "cell_type": "code",
   "execution_count": 59,
   "id": "0691605c-806b-44ea-85fb-1ad619ef1c13",
   "metadata": {},
   "outputs": [
    {
     "data": {
      "text/plain": [
       "19"
      ]
     },
     "execution_count": 59,
     "metadata": {},
     "output_type": "execute_result"
    }
   ],
   "source": [
    "a-=3\n",
    "a"
   ]
  },
  {
   "cell_type": "code",
   "execution_count": 65,
   "id": "7dc02ea2-5eca-4f46-990e-087a2d3fa1fc",
   "metadata": {},
   "outputs": [
    {
     "data": {
      "text/plain": [
       "171"
      ]
     },
     "execution_count": 65,
     "metadata": {},
     "output_type": "execute_result"
    }
   ],
   "source": [
    "a*=3\n",
    "a"
   ]
  },
  {
   "cell_type": "code",
   "execution_count": null,
   "id": "a47b0fc4-f826-47cc-b74b-466cb9eb31fa",
   "metadata": {},
   "outputs": [],
   "source": [
    "#Python Comparison Operators\n",
    "#Operator                         Meaning                                          Example\n",
    "==                                 is equal to                                        3==5 gives us False\n",
    "!=                                 not equal to                                       3!5 gives us True\n",
    ">                                  Greater than                                        3>5 gives us False\n",
    "<                                  Less than                                           3<5 gives us True\n",
    ">=                                 Greater than or equal to                            3>= 5 gives us False\n",
    "<=                                 Less than or equal to                                3<=5 gives us True"
   ]
  },
  {
   "cell_type": "code",
   "execution_count": 67,
   "id": "3590a5c0-96bd-44db-9570-33d52fafb40e",
   "metadata": {},
   "outputs": [],
   "source": [
    "a=5\n",
    "b=5"
   ]
  },
  {
   "cell_type": "code",
   "execution_count": 69,
   "id": "76b4466c-9a2a-43cb-89da-5ea141938b79",
   "metadata": {},
   "outputs": [
    {
     "data": {
      "text/plain": [
       "True"
      ]
     },
     "execution_count": 69,
     "metadata": {},
     "output_type": "execute_result"
    }
   ],
   "source": [
    "a==5"
   ]
  },
  {
   "cell_type": "code",
   "execution_count": 71,
   "id": "994b1783-b18e-4ad0-ade4-6066a0c70488",
   "metadata": {},
   "outputs": [
    {
     "data": {
      "text/plain": [
       "False"
      ]
     },
     "execution_count": 71,
     "metadata": {},
     "output_type": "execute_result"
    }
   ],
   "source": [
    "a==10"
   ]
  },
  {
   "cell_type": "code",
   "execution_count": 73,
   "id": "c6ffd34c-8d5c-44d5-bcd7-9c771453570f",
   "metadata": {},
   "outputs": [
    {
     "data": {
      "text/plain": [
       "False"
      ]
     },
     "execution_count": 73,
     "metadata": {},
     "output_type": "execute_result"
    }
   ],
   "source": [
    "a>b"
   ]
  },
  {
   "cell_type": "code",
   "execution_count": 75,
   "id": "d9cad80d-693d-440a-9ef1-e559542d0246",
   "metadata": {},
   "outputs": [
    {
     "data": {
      "text/plain": [
       "False"
      ]
     },
     "execution_count": 75,
     "metadata": {},
     "output_type": "execute_result"
    }
   ],
   "source": [
    "a>=10"
   ]
  },
  {
   "cell_type": "code",
   "execution_count": 77,
   "id": "2f3e8de5-a69f-49dc-ad29-d05ef9a77448",
   "metadata": {},
   "outputs": [
    {
     "data": {
      "text/plain": [
       "True"
      ]
     },
     "execution_count": 77,
     "metadata": {},
     "output_type": "execute_result"
    }
   ],
   "source": [
    "a>=b"
   ]
  },
  {
   "cell_type": "code",
   "execution_count": 79,
   "id": "c5946344-4062-4025-8fbd-f8e76e7b002a",
   "metadata": {},
   "outputs": [
    {
     "data": {
      "text/plain": [
       "False"
      ]
     },
     "execution_count": 79,
     "metadata": {},
     "output_type": "execute_result"
    }
   ],
   "source": [
    "a!=b"
   ]
  },
  {
   "cell_type": "markdown",
   "id": "65491f0e-b226-4bf7-b47c-76706cfbb3c4",
   "metadata": {},
   "source": [
    "#Python Logical Operators\n",
    "#Operator                                        Example                                              Meaning\n",
    "and                                              a and b                                               Logical AND :\n",
    "                                                                                                        True only if both the operators are true\n",
    "\n",
    "or                                               a or b                                                 Logical OR :\n",
    "                                                                                                        True if at least one of the operands is true\n",
    "\n",
    "not                                              not a                                                   Logical NOT :\n",
    "                                                                                                        True if the operand is false and vice-versa."
   ]
  },
  {
   "cell_type": "code",
   "execution_count": 81,
   "id": "f1d71ab8-1b5d-4523-9697-5065a8f817b7",
   "metadata": {},
   "outputs": [
    {
     "data": {
      "text/plain": [
       "True"
      ]
     },
     "execution_count": 81,
     "metadata": {},
     "output_type": "execute_result"
    }
   ],
   "source": [
    "True and True and True"
   ]
  },
  {
   "cell_type": "code",
   "execution_count": 83,
   "id": "416d5951-0e4f-418d-9116-15753ec88cae",
   "metadata": {},
   "outputs": [
    {
     "data": {
      "text/plain": [
       "False"
      ]
     },
     "execution_count": 83,
     "metadata": {},
     "output_type": "execute_result"
    }
   ],
   "source": [
    "True and True and False"
   ]
  },
  {
   "cell_type": "code",
   "execution_count": 85,
   "id": "fa94a5f1-92bf-44a2-83dd-bbad34d7a820",
   "metadata": {},
   "outputs": [
    {
     "data": {
      "text/plain": [
       "True"
      ]
     },
     "execution_count": 85,
     "metadata": {},
     "output_type": "execute_result"
    }
   ],
   "source": [
    "True or False or False"
   ]
  },
  {
   "cell_type": "code",
   "execution_count": 89,
   "id": "251077f1-f4c8-4dc4-81e2-3595f6ccf551",
   "metadata": {},
   "outputs": [
    {
     "data": {
      "text/plain": [
       "False"
      ]
     },
     "execution_count": 89,
     "metadata": {},
     "output_type": "execute_result"
    }
   ],
   "source": [
    "not True"
   ]
  },
  {
   "cell_type": "code",
   "execution_count": 91,
   "id": "4ba796f0-dbbb-4023-8502-3c1373ec60ca",
   "metadata": {},
   "outputs": [],
   "source": [
    "#IDENTIFIERS -- what is an identifier?\n",
    "-------------------\n",
    "An identifier is a name given to entities like class (group of function and variables), functions, variables, etc. It helps to differentiate one entity from another.\n",
    "var1 = 3"
   ]
  },
  {
   "cell_type": "code",
   "execution_count": null,
   "id": "6fc1961f-89a5-4c52-8569-6e2ce61aef7c",
   "metadata": {},
   "outputs": [],
   "source": []
  },
  {
   "cell_type": "code",
   "execution_count": null,
   "id": "601e7bef-75f1-4308-b55a-d1e418877c36",
   "metadata": {},
   "outputs": [],
   "source": [
    "#Variable is a container where we can store a value."
   ]
  },
  {
   "cell_type": "code",
   "execution_count": null,
   "id": "70b5340d-9af0-4577-9713-2eae4a9a01b9",
   "metadata": {},
   "outputs": [],
   "source": []
  },
  {
   "cell_type": "code",
   "execution_count": null,
   "id": "82ce8b2b-bc5e-4572-923c-e8fc7078c807",
   "metadata": {},
   "outputs": [],
   "source": [
    "#tomorrow is run time class"
   ]
  }
 ],
 "metadata": {
  "kernelspec": {
   "display_name": "Python 3 (ipykernel)",
   "language": "python",
   "name": "python3"
  },
  "language_info": {
   "codemirror_mode": {
    "name": "ipython",
    "version": 3
   },
   "file_extension": ".py",
   "mimetype": "text/x-python",
   "name": "python",
   "nbconvert_exporter": "python",
   "pygments_lexer": "ipython3",
   "version": "3.12.4"
  }
 },
 "nbformat": 4,
 "nbformat_minor": 5
}
