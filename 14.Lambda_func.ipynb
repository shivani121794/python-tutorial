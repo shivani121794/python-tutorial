{
 "cells": [
  {
   "cell_type": "code",
   "execution_count": 1,
   "id": "f86707ba-0cc0-447a-b184-e81c3b1f8ecc",
   "metadata": {},
   "outputs": [
    {
     "data": {
      "text/plain": [
       "1010"
      ]
     },
     "execution_count": 1,
     "metadata": {},
     "output_type": "execute_result"
    }
   ],
   "source": [
    "x=lambda a : a + 10\n",
    "x(1000)"
   ]
  },
  {
   "cell_type": "code",
   "execution_count": 3,
   "id": "a5f1a884-eac4-43e8-ad68-3c77ce35f81b",
   "metadata": {},
   "outputs": [
    {
     "data": {
      "text/plain": [
       "60"
      ]
     },
     "execution_count": 3,
     "metadata": {},
     "output_type": "execute_result"
    }
   ],
   "source": [
    "z=lambda a,b,c : a+b+c\n",
    "z(10,20,30)"
   ]
  },
  {
   "cell_type": "code",
   "execution_count": 5,
   "id": "fa8981f8-caf8-4145-95b1-10b7d4c3f7f8",
   "metadata": {},
   "outputs": [
    {
     "data": {
      "text/plain": [
       "386953"
      ]
     },
     "execution_count": 5,
     "metadata": {},
     "output_type": "execute_result"
    }
   ],
   "source": [
    "#PEMDAS       parenthysis,exponent,multiplication,division,addition,substraction\n",
    "ismail=lambda a,b,c : a+b*c       # a+(b+c*d)+f/(a*b)\n",
    "ismail(7339,838,453)"
   ]
  },
  {
   "cell_type": "code",
   "execution_count": 7,
   "id": "c9e51928-d8e8-46cc-a44c-cc2832750c27",
   "metadata": {},
   "outputs": [
    {
     "data": {
      "text/plain": [
       "31"
      ]
     },
     "execution_count": 7,
     "metadata": {},
     "output_type": "execute_result"
    }
   ],
   "source": [
    "# IF & ELSE condition with lambda\n",
    "\n",
    "a=lambda x: x*2 if x%2==0 else x #true  if  false\n",
    "a(31)"
   ]
  },
  {
   "cell_type": "code",
   "execution_count": null,
   "id": "4c86e747-7e1e-4b7d-941d-c45d3b78b73e",
   "metadata": {},
   "outputs": [],
   "source": [
    "# MAP Function"
   ]
  },
  {
   "cell_type": "code",
   "execution_count": 9,
   "id": "2ff4c397-629c-4fd1-9219-fc072e560485",
   "metadata": {},
   "outputs": [
    {
     "data": {
      "text/plain": [
       "[2, 4, 6, 8]"
      ]
     },
     "execution_count": 9,
     "metadata": {},
     "output_type": "execute_result"
    }
   ],
   "source": [
    "list(map(lambda x : x+x, [1,2,3,4])) # yes no----> yes 1 no 0"
   ]
  },
  {
   "cell_type": "code",
   "execution_count": 11,
   "id": "d23a48c7-ec03-4c3d-8162-a39b5553f2df",
   "metadata": {},
   "outputs": [],
   "source": [
    "def addition(n):\n",
    "    return(n*2)"
   ]
  },
  {
   "cell_type": "code",
   "execution_count": 15,
   "id": "3ae06219-d2b3-45c9-aea6-d297affad7f4",
   "metadata": {},
   "outputs": [
    {
     "data": {
      "text/plain": [
       "[12, 23, 34, 56, 12, 23, 34, 56]"
      ]
     },
     "execution_count": 15,
     "metadata": {},
     "output_type": "execute_result"
    }
   ],
   "source": [
    "addition([12,23,34,56])"
   ]
  },
  {
   "cell_type": "code",
   "execution_count": 17,
   "id": "8aee645e-7b2d-4aa6-86b2-a3dd86994cb5",
   "metadata": {},
   "outputs": [],
   "source": [
    "def addition(n):\n",
    "    return(n*2)"
   ]
  },
  {
   "cell_type": "code",
   "execution_count": 19,
   "id": "2b26e430-b47d-433c-9476-e4ea7e1163d8",
   "metadata": {},
   "outputs": [
    {
     "data": {
      "text/plain": [
       "[24, 46, 68, 112]"
      ]
     },
     "execution_count": 19,
     "metadata": {},
     "output_type": "execute_result"
    }
   ],
   "source": [
    "number=[12,23,34,56]\n",
    "list(map(addition, number))        # list(map(lambda x:x*2,number))"
   ]
  },
  {
   "cell_type": "code",
   "execution_count": 23,
   "id": "2838a44c-fbe7-4c77-b682-084998912de7",
   "metadata": {},
   "outputs": [
    {
     "data": {
      "text/plain": [
       "[6, 10, 13]"
      ]
     },
     "execution_count": 23,
     "metadata": {},
     "output_type": "execute_result"
    }
   ],
   "source": [
    "numbers1=[1,2,3]\n",
    "numbers2=[4,5,6]\n",
    "numbers3=[1,3,4]\n",
    "\n",
    "result=map(lambda x,y,z: x+y+z, numbers1, numbers2, numbers3)\n",
    "list(result)"
   ]
  },
  {
   "cell_type": "code",
   "execution_count": 25,
   "id": "1a55c418-ff29-421c-a467-541878946616",
   "metadata": {},
   "outputs": [
    {
     "data": {
      "text/plain": [
       "['ALFRED', 'TABITHA', 'WILLIAM', 'ARLA']"
      ]
     },
     "execution_count": 25,
     "metadata": {},
     "output_type": "execute_result"
    }
   ],
   "source": [
    "my_pets = ['alfred','tabitha','william','arla']\n",
    "list(map(lambda x: x.upper(),my_pets))"
   ]
  },
  {
   "cell_type": "code",
   "execution_count": 29,
   "id": "180ee2d5-f83d-4a1b-bf7f-ea503620ae3b",
   "metadata": {},
   "outputs": [
    {
     "data": {
      "text/plain": [
       "[(1, 'axx'), (2, 'byy'), (3, 'czz'), (4, 'dww')]"
      ]
     },
     "execution_count": 29,
     "metadata": {},
     "output_type": "execute_result"
    }
   ],
   "source": [
    "my_strings=['a','b','c','d']\n",
    "my_numbers=[1,2,3,4,5]\n",
    "my_name=['xx','yy','zz','ww','dd']\n",
    "result=list(map(lambda x,y,z: (y, x+z), my_strings, my_numbers,my_name))\n",
    "list(result)"
   ]
  },
  {
   "cell_type": "code",
   "execution_count": null,
   "id": "5148bedc-d7d3-4952-8f4d-612cece8a55b",
   "metadata": {},
   "outputs": [],
   "source": [
    "# FILTER     ---- extract"
   ]
  },
  {
   "cell_type": "code",
   "execution_count": 39,
   "id": "b56ea85c-4e1f-475c-909c-8462e16f1e00",
   "metadata": {},
   "outputs": [
    {
     "name": "stdout",
     "output_type": "stream",
     "text": [
      "--------\n",
      "[2, 4, 6, 8, 10]\n",
      "[1, 3, 5, 7, 9]\n",
      "-------\n",
      "['TWO', 'FOUR']\n",
      "['one', 'three']\n",
      "-------\n",
      "['88', '99', '102']\n",
      "['one', 'two', 'three']\n",
      "['one', 'two', 'three', '88', '99', '102']\n",
      "-------\n"
     ]
    }
   ],
   "source": [
    "list1=[1,2,3,4,5,6,7,8,9,10]\n",
    "even=list(filter(lambda n: n%2 ==0, list1))\n",
    "odd=list(filter(lambda n: n%2 !=0, list1))\n",
    "\n",
    "print('--------')\n",
    "print(even)\n",
    "print(odd)\n",
    "print('-------')\n",
    "\n",
    "list2=['one','TWO','three','FOUR']\n",
    "upper=list(filter(lambda x: x.isupper(), list2))\n",
    "lower=list(filter(lambda x: x.islower(), list2))\n",
    "\n",
    "print(upper)\n",
    "print(lower)\n",
    "print('-------')\n",
    "\n",
    "list3=['one','two','three','88','99','102']\n",
    "numeric=list(filter(lambda x:x.isnumeric(), list3))\n",
    "alpha=list(filter(lambda x:x.isalpha(), list3))\n",
    "alphanum=list(filter(lambda x:x.isalnum(), list3))\n",
    "\n",
    "print(numeric)\n",
    "print(alpha)\n",
    "print(alphanum)\n",
    "print('-------')"
   ]
  },
  {
   "cell_type": "code",
   "execution_count": 41,
   "id": "513943a5-f3ec-4e95-8700-622ee0f22008",
   "metadata": {},
   "outputs": [
    {
     "data": {
      "text/plain": [
       "[('John', 'Jenny'), ('Peter', 'Ashwin')]"
      ]
     },
     "execution_count": 41,
     "metadata": {},
     "output_type": "execute_result"
    }
   ],
   "source": [
    "# ZIP ---- grouping \n",
    "\n",
    "a=[\"John\",\"Peter\",\"Nishant\"]\n",
    "b=[\"Jenny\",\"Ashwin\"]\n",
    "list(zip(a,b))"
   ]
  },
  {
   "cell_type": "code",
   "execution_count": 43,
   "id": "eba3262b-dd1d-49b7-b0d2-5be95a83ae97",
   "metadata": {},
   "outputs": [
    {
     "data": {
      "text/plain": [
       "[('b', 'h'), ('u', 'a'), ('s', 's'), ('h', 's'), ('a', 'a'), ('n', 'n')]"
      ]
     },
     "execution_count": 43,
     "metadata": {},
     "output_type": "execute_result"
    }
   ],
   "source": [
    "a=\"bushan\"\n",
    "b=\"hassanhhjhsjjs\"\n",
    "list(zip(a,b))"
   ]
  },
  {
   "cell_type": "code",
   "execution_count": 47,
   "id": "793d6a9c-1c5d-4c3d-ba11-9b4df876cd83",
   "metadata": {},
   "outputs": [
    {
     "name": "stdout",
     "output_type": "stream",
     "text": [
      "[(1, 'one'), (2, 'two'), (3, 'three'), (3, 'three')]\n"
     ]
    }
   ],
   "source": [
    "number_list=[1,2,3,3]\n",
    "str_list=[\"one\",\"two\",\"three\",\"three\"]\n",
    "result=list(zip(number_list,str_list))\n",
    "print(result)\n",
    "\n",
    "#converting iterator to set\n",
    "#result_set=set(result)\n",
    "#print(result_set)"
   ]
  },
  {
   "cell_type": "code",
   "execution_count": 59,
   "id": "a6a0c53a-3356-47c0-a425-a9f851becdd1",
   "metadata": {},
   "outputs": [
    {
     "name": "stdout",
     "output_type": "stream",
     "text": [
      "<zip object at 0x00000259871F81C0>\n",
      "<zip object at 0x00000259871F88C0>\n",
      "[('x', 3), ('y', 4), ('z', 5)]\n",
      "('x', 'y', 'z')\n",
      "(3, 4, 5)\n"
     ]
    }
   ],
   "source": [
    "numberList=[1,2,3]\n",
    "str_list=['one','two']\n",
    "numbers_tuple=('ONE','TWO','THREE','FOUR')\n",
    "\n",
    "result=zip(numberList,numbers_tuple)\n",
    "print(result)\n",
    "\n",
    "result1=zip(numberList,str_list,numbers_tuple)\n",
    "print(result1)\n",
    "\n",
    "\n",
    "coordinate=['x','y','z']     #unzip\n",
    "value=[3,4,5]\n",
    "\n",
    "result=zip(coordinate,value)\n",
    "result_list=list(result)\n",
    "print(result_list)\n",
    "\n",
    "c, v = zip(*result_list)\n",
    "print(c)\n",
    "print(v)"
   ]
  },
  {
   "cell_type": "code",
   "execution_count": null,
   "id": "cb685ab0-f928-4727-906b-d46b78175cac",
   "metadata": {},
   "outputs": [],
   "source": [
    "# Enumerate"
   ]
  },
  {
   "cell_type": "code",
   "execution_count": 61,
   "id": "d26857da-cd30-4076-8e0e-cf67248a3017",
   "metadata": {},
   "outputs": [
    {
     "data": {
      "text/plain": [
       "[(0, 'P'), (1, 'Y'), (2, 'T'), (3, 'H'), (4, 'O'), (5, 'N')]"
      ]
     },
     "execution_count": 61,
     "metadata": {},
     "output_type": "execute_result"
    }
   ],
   "source": [
    "s1=\"PYTHON\"\n",
    "list(enumerate(s1))"
   ]
  },
  {
   "cell_type": "code",
   "execution_count": 65,
   "id": "b2b9b7a8-f29e-4a62-9acb-42af471c32e5",
   "metadata": {},
   "outputs": [
    {
     "data": {
      "text/plain": [
       "[(5, 'DL'), (6, 'ML'), (7, 'NLP')]"
      ]
     },
     "execution_count": 65,
     "metadata": {},
     "output_type": "execute_result"
    }
   ],
   "source": [
    "l1=[\"DL\",\"ML\",\"NLP\"]\n",
    "ls=list(enumerate(l1,5))\n",
    "ls"
   ]
  },
  {
   "cell_type": "code",
   "execution_count": 67,
   "id": "3b052908-111f-4766-81b5-4d10b9cf87c3",
   "metadata": {},
   "outputs": [
    {
     "name": "stdout",
     "output_type": "stream",
     "text": [
      "DL 0\n",
      "ML 1\n"
     ]
    }
   ],
   "source": [
    "l1=[\"DL\",\"ML\",\"NLP\"] # 0 dl, 1 ml, 2 nlp\n",
    "\n",
    "for i,j in enumerate(l1):\n",
    "    if i<2:\n",
    "        print(j,i)"
   ]
  },
  {
   "cell_type": "code",
   "execution_count": null,
   "id": "5b9d395a-5ed6-4850-8c22-1b07c6aeffd0",
   "metadata": {},
   "outputs": [],
   "source": []
  }
 ],
 "metadata": {
  "kernelspec": {
   "display_name": "Python 3 (ipykernel)",
   "language": "python",
   "name": "python3"
  },
  "language_info": {
   "codemirror_mode": {
    "name": "ipython",
    "version": 3
   },
   "file_extension": ".py",
   "mimetype": "text/x-python",
   "name": "python",
   "nbconvert_exporter": "python",
   "pygments_lexer": "ipython3",
   "version": "3.12.4"
  }
 },
 "nbformat": 4,
 "nbformat_minor": 5
}
