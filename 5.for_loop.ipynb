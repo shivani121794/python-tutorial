{
 "cells": [
  {
   "cell_type": "code",
   "execution_count": null,
   "id": "18132b13-72aa-45d2-82c3-9388d616cb38",
   "metadata": {},
   "outputs": [],
   "source": [
    "#FOR LOOP\n",
    "\n",
    "-------------\n",
    "\n",
    "entry control loop\n",
    "\n",
    "--------------\n"
   ]
  },
  {
   "cell_type": "code",
   "execution_count": 5,
   "id": "b047d34e-83fd-4e6c-8816-baa8ae4d25a1",
   "metadata": {},
   "outputs": [
    {
     "name": "stdout",
     "output_type": "stream",
     "text": [
      "d\n",
      "a\n",
      "t\n",
      "a\n",
      "s\n",
      "c\n",
      "i\n",
      "e\n",
      "n\n",
      "c\n",
      "e\n"
     ]
    }
   ],
   "source": [
    "for i in \"datascience\":\n",
    "   print(i)"
   ]
  },
  {
   "cell_type": "code",
   "execution_count": 7,
   "id": "5180c148-abb7-4bde-b0c1-6be72a447d51",
   "metadata": {},
   "outputs": [
    {
     "name": "stdout",
     "output_type": "stream",
     "text": [
      "1\n",
      "2\n",
      "2\n",
      "4\n",
      "5\n"
     ]
    }
   ],
   "source": [
    "for i in [1,2,2,4,5]:    #list \n",
    "    print(i)"
   ]
  },
  {
   "cell_type": "code",
   "execution_count": 9,
   "id": "d5f6026a-fa0d-4032-900a-55e5536d02d1",
   "metadata": {},
   "outputs": [
    {
     "name": "stdout",
     "output_type": "stream",
     "text": [
      "12\n",
      "13\n",
      "45\n",
      "34\n"
     ]
    }
   ],
   "source": [
    "for i in (12,13,45,34):   #tuple\n",
    "    print(i)"
   ]
  },
  {
   "cell_type": "code",
   "execution_count": 11,
   "id": "40ba6400-5bfb-4203-ae4a-6eeee17d0bb2",
   "metadata": {},
   "outputs": [
    {
     "name": "stdout",
     "output_type": "stream",
     "text": [
      "35\n",
      "4\n",
      "12\n",
      "13\n",
      "78\n"
     ]
    }
   ],
   "source": [
    "for i in {12,13,35,4,78}:    #set\n",
    "    print(i)"
   ]
  },
  {
   "cell_type": "code",
   "execution_count": 1,
   "id": "98753b4c-4ab5-4b12-bcd7-a747f95126b6",
   "metadata": {},
   "outputs": [
    {
     "name": "stdout",
     "output_type": "stream",
     "text": [
      "1\n",
      "2\n"
     ]
    }
   ],
   "source": [
    "for i in {1:\"one\",2:\"two\"}:       #dict\n",
    "    print(i)                         #by default always keys"
   ]
  },
  {
   "cell_type": "code",
   "execution_count": 13,
   "id": "891064dd-16b6-4e07-b363-e0453c57f5e2",
   "metadata": {},
   "outputs": [
    {
     "name": "stdout",
     "output_type": "stream",
     "text": [
      "12\n",
      "3\n",
      "4\n",
      "8\n"
     ]
    }
   ],
   "source": [
    "x=[12,3,4,8]\n",
    "i=0\n",
    "while i<len(x):\n",
    "    print(x[i])\n",
    "    i=i+1"
   ]
  },
  {
   "cell_type": "code",
   "execution_count": null,
   "id": "80f24494-6f61-4e53-b091-2252d9ea3abb",
   "metadata": {},
   "outputs": [],
   "source": [
    "range()              #last value excluded\n",
    "--------------------\n",
    "\n",
    "range(10)-----------   0-----9\n",
    "range(1,10)----------- 1------9\n",
    "range(1,100,3)----------1 4 7--------\n",
    "range(start,end,step)"
   ]
  },
  {
   "cell_type": "code",
   "execution_count": 15,
   "id": "58708b8c-0b81-4380-8ed8-d7d5e1f85091",
   "metadata": {},
   "outputs": [
    {
     "name": "stdout",
     "output_type": "stream",
     "text": [
      "0 1 2 3 4 5 6 7 8 9 "
     ]
    }
   ],
   "source": [
    "for i in range(10):\n",
    "    print(i,end=\" \")"
   ]
  },
  {
   "cell_type": "code",
   "execution_count": 17,
   "id": "cf3198e0-7fc8-4354-88c7-b8ab2d378b25",
   "metadata": {},
   "outputs": [
    {
     "name": "stdout",
     "output_type": "stream",
     "text": [
      "1 2 3 4 5 6 7 8 9 10 "
     ]
    }
   ],
   "source": [
    "for i in range(1,11):\n",
    "    print(i,end=\" \")"
   ]
  },
  {
   "cell_type": "code",
   "execution_count": 21,
   "id": "56670243-17a8-4549-b5d1-b9c69c50e161",
   "metadata": {},
   "outputs": [
    {
     "name": "stdout",
     "output_type": "stream",
     "text": [
      "1 5 9 13 17 21 25 29 33 37 41 45 49 53 57 61 65 69 73 77 81 85 89 93 97 "
     ]
    }
   ],
   "source": [
    "for i in range (1,100,4):\n",
    "    print(i,end=\" \")"
   ]
  },
  {
   "cell_type": "code",
   "execution_count": 23,
   "id": "ea49e494-0b43-44be-b596-e2fa5737379c",
   "metadata": {},
   "outputs": [
    {
     "name": "stdout",
     "output_type": "stream",
     "text": [
      "200 199 198 197 196 195 194 193 192 191 190 189 188 187 186 185 184 183 182 181 180 179 178 177 176 175 174 173 172 171 170 169 168 167 166 165 164 163 162 161 160 159 158 157 156 155 154 153 152 151 150 149 148 147 146 145 144 143 142 141 140 139 138 137 136 135 134 133 132 131 130 129 128 127 126 125 124 123 122 121 120 119 118 117 116 115 114 113 112 111 110 109 108 107 106 105 104 103 102 101 100 99 98 97 96 95 94 93 92 91 90 89 88 87 86 85 84 83 82 81 80 79 78 77 76 75 74 73 72 71 70 69 68 67 66 65 64 63 62 61 60 59 58 57 56 55 54 53 52 51 "
     ]
    }
   ],
   "source": [
    "for i in range (200,50,-1):\n",
    "    print(i,end=\" \")"
   ]
  },
  {
   "cell_type": "code",
   "execution_count": 27,
   "id": "8089a711-9eef-45a5-8be2-585902b051b3",
   "metadata": {},
   "outputs": [
    {
     "name": "stdout",
     "output_type": "stream",
     "text": [
      "shivani\n",
      "shivani\n",
      "shivani\n",
      "shivani\n",
      "shivani\n",
      "shivani\n",
      "shivani\n",
      "shivani\n",
      "shivani\n",
      "shivani\n"
     ]
    }
   ],
   "source": [
    "# print your name 10 times\n",
    "\n",
    "for i in range (10):\n",
    "   print(\"shivani\")"
   ]
  },
  {
   "cell_type": "code",
   "execution_count": 31,
   "id": "26abcc80-e0dc-472e-b04d-7184ba5067cf",
   "metadata": {},
   "outputs": [
    {
     "name": "stdout",
     "output_type": "stream",
     "text": [
      "1 2 3 4 5 6 7 8 9 10 "
     ]
    }
   ],
   "source": [
    "# print first 10 natural number\n",
    "for i in range (1,11):\n",
    "    print(i,end=\" \")"
   ]
  },
  {
   "cell_type": "code",
   "execution_count": 35,
   "id": "8b1c1346-73c7-406a-b75c-066a41bcacd8",
   "metadata": {},
   "outputs": [
    {
     "name": "stdout",
     "output_type": "stream",
     "text": [
      "the sum is 55\n"
     ]
    }
   ],
   "source": [
    "# print sum of 10 natural number\n",
    "\n",
    "s=0\n",
    "for i in range (1,11):\n",
    "    s=s+i\n",
    "print(\"the sum is\",s)"
   ]
  },
  {
   "cell_type": "code",
   "execution_count": 41,
   "id": "a81b9c36-96c1-4204-92f6-d4423f9896d2",
   "metadata": {},
   "outputs": [
    {
     "name": "stdin",
     "output_type": "stream",
     "text": [
      "enter the number 1\n",
      "enter the number 1\n",
      "enter the number 1\n",
      "enter the number 1\n",
      "enter the number 1\n",
      "enter the number 11\n",
      "enter the number 1\n",
      "enter the number 1\n",
      "enter the number 1\n",
      "enter the number 1\n"
     ]
    },
    {
     "name": "stdout",
     "output_type": "stream",
     "text": [
      "the sum is 20\n"
     ]
    }
   ],
   "source": [
    "# print sum of 10 numbers your choice\n",
    "\n",
    "s=0\n",
    "for i in range(10):\n",
    "    n=int(input(\"enter the number\"))\n",
    "    s=s+n              # if we mention s=s+i then it will give us by default 45 the sum of 10 numbers\n",
    "print(\"the sum is\",s)"
   ]
  },
  {
   "cell_type": "code",
   "execution_count": 45,
   "id": "98944f9a-46a2-4eda-8e34-227b91e6fb15",
   "metadata": {},
   "outputs": [
    {
     "name": "stdin",
     "output_type": "stream",
     "text": [
      "enter the number 3\n"
     ]
    },
    {
     "name": "stdout",
     "output_type": "stream",
     "text": [
      "3 * 1 = 3\n",
      "3 * 2 = 3\n",
      "3 * 3 = 3\n",
      "3 * 4 = 3\n",
      "3 * 5 = 3\n",
      "3 * 6 = 3\n",
      "3 * 7 = 3\n",
      "3 * 8 = 3\n",
      "3 * 9 = 3\n",
      "3 * 10 = 3\n"
     ]
    }
   ],
   "source": [
    "# table of a given number\n",
    "\n",
    "n=int(input(\"enter the number\"))\n",
    "for i in range (1,11):\n",
    "   print(n,\"*\",i,\"=\",n*1)"
   ]
  },
  {
   "cell_type": "code",
   "execution_count": 51,
   "id": "c33b7682-2c26-4270-bc4e-43f186417405",
   "metadata": {},
   "outputs": [
    {
     "name": "stdin",
     "output_type": "stream",
     "text": [
      "enter the number 60\n"
     ]
    },
    {
     "name": "stdout",
     "output_type": "stream",
     "text": [
      "1 2 3 4 5 6 10 12 15 20 30 60 "
     ]
    }
   ],
   "source": [
    "# factors of a given number\n",
    "\n",
    "n=int(input(\"enter the number\"))\n",
    "for i in range (1,n+1):\n",
    "   if n%i==0:\n",
    "      print(i,end=\" \")"
   ]
  },
  {
   "cell_type": "code",
   "execution_count": 59,
   "id": "ee4581e0-5e7c-43f7-a770-62554b299d49",
   "metadata": {},
   "outputs": [
    {
     "name": "stdout",
     "output_type": "stream",
     "text": [
      "the sum of even is 2450\n",
      "the sum of odd is 2500\n"
     ]
    }
   ],
   "source": [
    "# print the sum of odd and even numbers\n",
    "\n",
    "se=0\n",
    "so=0\n",
    "for i in range(1,101):\n",
    "    if i%2==0:\n",
    "       se=se+i\n",
    "    else:\n",
    "        so=so+i\n",
    "print(\"the sum of even is\",se)\n",
    "print(\"the sum of odd is\",so)"
   ]
  },
  {
   "cell_type": "code",
   "execution_count": 65,
   "id": "3d0f4768-5c47-4a65-a049-142cbbf35052",
   "metadata": {},
   "outputs": [
    {
     "name": "stdin",
     "output_type": "stream",
     "text": [
      "enter the number 6\n"
     ]
    },
    {
     "name": "stdout",
     "output_type": "stream",
     "text": [
      "the factorial is  720\n"
     ]
    }
   ],
   "source": [
    "n=int(input(\"enter the number\"))\n",
    "f=1\n",
    "for i in range(1,n+1):            #range(n,0,-1):\n",
    "    f=f*i\n",
    "print(\"the factorial is \",f)"
   ]
  },
  {
   "cell_type": "code",
   "execution_count": 67,
   "id": "e879bcfc-d57e-4038-a23b-6d9d276a55f2",
   "metadata": {},
   "outputs": [
    {
     "name": "stdin",
     "output_type": "stream",
     "text": [
      "enter the number 6\n"
     ]
    },
    {
     "name": "stdout",
     "output_type": "stream",
     "text": [
      "the factorial is  720\n"
     ]
    }
   ],
   "source": [
    "n=int(input(\"enter the number\"))\n",
    "f=1\n",
    "for i in range(n,0,-1):            #range(n,0,-1):\n",
    "    f=f*i\n",
    "print(\"the factorial is \",f)"
   ]
  },
  {
   "cell_type": "code",
   "execution_count": null,
   "id": "fae0419a-a48b-4bf8-9cef-e6ce465f77ce",
   "metadata": {},
   "outputs": [],
   "source": [
    "#LIST\n",
    "---------\n",
    "\n",
    "age=int,name=str\n",
    "\n",
    "array-------collection of similar data items\n",
    "homogeneos\n",
    "\n",
    "LIST\n",
    "-------\n",
    "sequence data structure\n",
    "hetrogeneous--------\n",
    "ordered or indexed\n",
    "\"mutable\" ------- changable\n",
    "enclosed in [] (\"square bracket\")\n",
    "\n",
    "\n",
    "x=[12,43,32,3,4]       #array\n",
    "x=[23,\"hello\",37,67.9]    #list"
   ]
  },
  {
   "cell_type": "code",
   "execution_count": 69,
   "id": "6e1e9aef-8589-4c19-9df1-2b6efe175f0b",
   "metadata": {},
   "outputs": [
    {
     "name": "stdout",
     "output_type": "stream",
     "text": [
      "[12, 2, 4, 5, 8]\n"
     ]
    }
   ],
   "source": [
    "ls=[12,2,4,5,8] #list of integers\n",
    "print(ls)"
   ]
  },
  {
   "cell_type": "code",
   "execution_count": 71,
   "id": "f73d0cb5-b11a-444e-800a-66507d06e773",
   "metadata": {},
   "outputs": [
    {
     "name": "stdout",
     "output_type": "stream",
     "text": [
      "['a', 'e', 'i', 'o', 'u']\n"
     ]
    }
   ],
   "source": [
    "ls=['a','e','i','o','u'] #list of string\n",
    "print(ls)"
   ]
  },
  {
   "cell_type": "code",
   "execution_count": 73,
   "id": "08945694-2fd4-41d4-afb5-2fb9e57c50c2",
   "metadata": {},
   "outputs": [
    {
     "name": "stdout",
     "output_type": "stream",
     "text": [
      "[0.1, 2.7]\n"
     ]
    }
   ],
   "source": [
    "ls=[0.1,2.7]  #list of float\n",
    "print(ls)"
   ]
  },
  {
   "cell_type": "code",
   "execution_count": 75,
   "id": "13ea8950-e56a-40ad-be84-1c8110a281a5",
   "metadata": {},
   "outputs": [
    {
     "name": "stdout",
     "output_type": "stream",
     "text": [
      "[12, 13, 37, 'hello', 2.9]\n"
     ]
    }
   ],
   "source": [
    "ls=[12,13,37,\"hello\",2.9] #list of mixed type\n",
    "print(ls)"
   ]
  },
  {
   "cell_type": "code",
   "execution_count": 83,
   "id": "96d0cba7-e59c-4906-b54e-c8fe01ac6c28",
   "metadata": {},
   "outputs": [
    {
     "name": "stdout",
     "output_type": "stream",
     "text": [
      "['h', 'e', 'l', 'l', 'o']\n",
      "[12, 13, 56, 5]\n"
     ]
    }
   ],
   "source": [
    "#by using list constructor \n",
    "\n",
    "\n",
    "ls=list(\"hello\")\n",
    "print(ls)\n",
    "\n",
    "ls=list((12,13,56,5))\n",
    "print(ls)"
   ]
  },
  {
   "cell_type": "code",
   "execution_count": 85,
   "id": "f025504f-aa4a-4788-bec3-18942b32d053",
   "metadata": {},
   "outputs": [
    {
     "name": "stdout",
     "output_type": "stream",
     "text": [
      "[1, 2, 3, 4, [7, 8, 9], 11, [2]]\n"
     ]
    }
   ],
   "source": [
    "#nested list\n",
    "\n",
    "ls=[1,2,3,4,[7,8,9],11,[2]]\n",
    "print(ls)"
   ]
  },
  {
   "cell_type": "code",
   "execution_count": 99,
   "id": "da2064ad-da21-467f-a3b8-be0b9b33b5f6",
   "metadata": {},
   "outputs": [
    {
     "name": "stdout",
     "output_type": "stream",
     "text": [
      "11\n",
      "44\n",
      "77\n",
      "[11, 22, 33, 44, 55, 66, 77, 88, 99]\n",
      "[99, 88, 77, 66, 55, 44, 33, 22, 11]\n",
      "[55, 66, 77, 88, 99]\n"
     ]
    }
   ],
   "source": [
    "#accessing of list elements             ----------- by index value\n",
    "\n",
    "ls=[11,22,33,44,55,66,77,88,99]\n",
    "print(ls[0]) #11\n",
    "print(ls[3]) #44\n",
    "print(ls[-3])\n",
    "print(ls[0::])\n",
    "print(ls[::-1])\n",
    "print(ls[4::])"
   ]
  },
  {
   "cell_type": "code",
   "execution_count": 107,
   "id": "8a676554-0c0f-4416-b3bf-9699bc7cf8a8",
   "metadata": {},
   "outputs": [],
   "source": [
    "# accessing in lested list\n",
    "\n",
    "ls=[12,23,34,45,[67,78,89,98,[98,867,76]],56,[87]]"
   ]
  },
  {
   "cell_type": "code",
   "execution_count": 111,
   "id": "ebc83b42-d47d-4bae-a8b0-9df102b8a143",
   "metadata": {},
   "outputs": [
    {
     "name": "stdout",
     "output_type": "stream",
     "text": [
      "45\n"
     ]
    }
   ],
   "source": [
    "print(ls[3])"
   ]
  },
  {
   "cell_type": "code",
   "execution_count": 113,
   "id": "35cb1056-9099-40ce-bbf4-e096e68580e0",
   "metadata": {},
   "outputs": [
    {
     "name": "stdout",
     "output_type": "stream",
     "text": [
      "[67, 78, 89, 98, [98, 867, 76]]\n"
     ]
    }
   ],
   "source": [
    "print(ls[4])"
   ]
  },
  {
   "cell_type": "code",
   "execution_count": 115,
   "id": "97b7ad30-7880-4555-be06-29facab20c2d",
   "metadata": {},
   "outputs": [
    {
     "name": "stdout",
     "output_type": "stream",
     "text": [
      "[87]\n"
     ]
    }
   ],
   "source": [
    "print(ls[6])"
   ]
  },
  {
   "cell_type": "code",
   "execution_count": 119,
   "id": "2bb48202-6836-46f4-9fe3-7881720fcaa6",
   "metadata": {},
   "outputs": [
    {
     "name": "stdout",
     "output_type": "stream",
     "text": [
      "98\n"
     ]
    }
   ],
   "source": [
    "print(ls[4][3])"
   ]
  },
  {
   "cell_type": "code",
   "execution_count": 121,
   "id": "d69f7530-0a03-49e9-bb1f-6de7555087ec",
   "metadata": {},
   "outputs": [
    {
     "name": "stdout",
     "output_type": "stream",
     "text": [
      "[98, 867, 76]\n"
     ]
    }
   ],
   "source": [
    "print(ls[4][4])"
   ]
  },
  {
   "cell_type": "code",
   "execution_count": 123,
   "id": "b164dae8-3146-42b1-9df6-7d5d85ec55af",
   "metadata": {},
   "outputs": [
    {
     "name": "stdout",
     "output_type": "stream",
     "text": [
      "867\n"
     ]
    }
   ],
   "source": [
    "print(ls[4][4][1])"
   ]
  },
  {
   "cell_type": "code",
   "execution_count": 125,
   "id": "6e2e162b-5506-4508-b09d-c17d3bec9b47",
   "metadata": {},
   "outputs": [
    {
     "name": "stdout",
     "output_type": "stream",
     "text": [
      "[12, 23, 34, 45, 56, 67]\n",
      "[12, 23, 'hello', 45, 56, 67]\n"
     ]
    }
   ],
   "source": [
    "#updation\n",
    "                   \n",
    "ls=[12,23,34,45,56,67]          \n",
    "print(ls)\n",
    "ls[2]=\"hello\"\n",
    "print(ls)"
   ]
  },
  {
   "cell_type": "code",
   "execution_count": null,
   "id": "bf910168-b3d5-4c52-bdb1-7ef1f4650d50",
   "metadata": {},
   "outputs": [],
   "source": [
    "#slice operation\n",
    "\":\"\n",
    "ls[3:8] #3 4 5 6 7\n",
    "ls[:8]  #from the beginning\n",
    "ls[3:] #start from 3 and end to the last\n",
    "ls[:] #from the beggining to last "
   ]
  },
  {
   "cell_type": "code",
   "execution_count": 127,
   "id": "05c94748-e4dd-45bc-8e22-837da81df379",
   "metadata": {},
   "outputs": [
    {
     "name": "stdout",
     "output_type": "stream",
     "text": [
      "[45, 56, 67, 78, 89]\n",
      "[12, 23, 34, 45, 56, 67, 78, 89]\n",
      "[45, 56, 67, 78, 89, 98, 87]\n",
      "[12, 23, 34, 45, 56, 67, 78, 89, 98, 87]\n"
     ]
    }
   ],
   "source": [
    "ls=[12,23,34,45,56,67,78,89,98,87]\n",
    "print(ls[3:8])\n",
    "print(ls[:8])\n",
    "print(ls[3:])\n",
    "print(ls[:])"
   ]
  },
  {
   "cell_type": "code",
   "execution_count": 129,
   "id": "471cb45e-f51d-4ea6-9748-f8c68f535e3f",
   "metadata": {},
   "outputs": [
    {
     "name": "stdout",
     "output_type": "stream",
     "text": [
      "[12, 23, 34, 45, 56, 67]\n",
      "[12, 23, 34, 'how', 'are', 'you']\n"
     ]
    }
   ],
   "source": [
    "#update multiple value\n",
    "\n",
    "ls=[12,23,34,45,56,67]\n",
    "print(ls)\n",
    "ls[3:6]=[\"how\",\"are\",\"you\"]\n",
    "print(ls)"
   ]
  },
  {
   "cell_type": "code",
   "execution_count": null,
   "id": "1085ff48-b7cf-4b90-9e99-1cc283ccd6a4",
   "metadata": {},
   "outputs": [],
   "source": []
  }
 ],
 "metadata": {
  "kernelspec": {
   "display_name": "Python 3 (ipykernel)",
   "language": "python",
   "name": "python3"
  },
  "language_info": {
   "codemirror_mode": {
    "name": "ipython",
    "version": 3
   },
   "file_extension": ".py",
   "mimetype": "text/x-python",
   "name": "python",
   "nbconvert_exporter": "python",
   "pygments_lexer": "ipython3",
   "version": "3.12.4"
  }
 },
 "nbformat": 4,
 "nbformat_minor": 5
}
