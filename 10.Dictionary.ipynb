{
 "cells": [
  {
   "cell_type": "code",
   "execution_count": null,
   "id": "293f72d7-7824-4bde-b24c-f1e4ba4d2c37",
   "metadata": {},
   "outputs": [],
   "source": [
    "#Dictionary\n",
    "\n",
    "dictionary is an unordered collection\n",
    "Key value pair seperated by commas\n",
    "curly braces\n",
    "dictionary are optamized to retrieve values when key is known"
   ]
  },
  {
   "cell_type": "code",
   "execution_count": 1,
   "id": "34b41e4e-e88e-4405-9043-6fb4acee3968",
   "metadata": {},
   "outputs": [
    {
     "name": "stdout",
     "output_type": "stream",
     "text": [
      "<class 'dict'>\n",
      "{'USA': 'Washington D.C', 'France': 'Paris', 'India': 'New Delhi'}\n"
     ]
    }
   ],
   "source": [
    "capitals={\"USA\":\"Washington D.C\", \"France\":\"Paris\", \"India\":\"New Delhi\"}\n",
    "print(type(capitals))\n",
    "print(capitals)"
   ]
  },
  {
   "cell_type": "code",
   "execution_count": 3,
   "id": "b4c05b0e-6d40-4678-885c-f54bf33cb2d4",
   "metadata": {},
   "outputs": [
    {
     "name": "stdout",
     "output_type": "stream",
     "text": [
      "{}\n"
     ]
    }
   ],
   "source": [
    "d={} #empty dictionary\n",
    "print(d)"
   ]
  },
  {
   "cell_type": "code",
   "execution_count": 5,
   "id": "3401364e-83c7-4429-bcaa-f005b9d8d018",
   "metadata": {},
   "outputs": [
    {
     "name": "stdout",
     "output_type": "stream",
     "text": [
      "{1: 'one', 2: 'two', 3: 'three'}\n"
     ]
    }
   ],
   "source": [
    "numnames={1:\"one\",2:\"two\",3:\"three\"} #int key,string value\n",
    "print(numnames)"
   ]
  },
  {
   "cell_type": "code",
   "execution_count": 7,
   "id": "cb0df830-9850-4789-b2e3-1eb7bd2ebe39",
   "metadata": {},
   "outputs": [
    {
     "name": "stdout",
     "output_type": "stream",
     "text": [
      "{1.5: 'one and half', 2.5: 'two and half'}\n"
     ]
    }
   ],
   "source": [
    "decnames={1.5:\"one and half\",2.5:\"two and half\"}\n",
    "print(decnames)"
   ]
  },
  {
   "cell_type": "code",
   "execution_count": 9,
   "id": "4bb306b9-c28c-44a3-8c26-4f0f59423b36",
   "metadata": {},
   "outputs": [
    {
     "name": "stdout",
     "output_type": "stream",
     "text": [
      "{('parker', 'reynolds', 'camlin'): 'pen', ('lg', 'whirlpool', 'samsung'): 'refrigerator'}\n"
     ]
    }
   ],
   "source": [
    "items={(\"parker\",\"reynolds\",\"camlin\"):\"pen\", (\"lg\",\"whirlpool\",\"samsung\"):\"refrigerator\"} #tuple key,string value\n",
    "print(items)"
   ]
  },
  {
   "cell_type": "code",
   "execution_count": 13,
   "id": "9f1501a3-7867-46e1-a3c3-d728483f6854",
   "metadata": {},
   "outputs": [
    {
     "name": "stdout",
     "output_type": "stream",
     "text": [
      "{'I': 1, 'II': 2}\n"
     ]
    }
   ],
   "source": [
    "roman_num={\"I\":1,\"II\":2} #string key,int value\n",
    "print(roman_num)"
   ]
  },
  {
   "cell_type": "code",
   "execution_count": null,
   "id": "886cfeea-4195-4366-8ea1-a5ca1de6f168",
   "metadata": {},
   "outputs": [],
   "source": [
    "#The same key cannot appear more than once in a collection. If the key appears more than once, only the last will be retained. \n",
    "#The value can be of any data type. One value can be assigned to more than one key."
   ]
  },
  {
   "cell_type": "code",
   "execution_count": 15,
   "id": "78b985bd-80b1-425f-b053-348e3f95a741",
   "metadata": {},
   "outputs": [
    {
     "name": "stdout",
     "output_type": "stream",
     "text": [
      "{1: 'one', 2: 'two', 3: 'three'}\n"
     ]
    }
   ],
   "source": [
    "x={1:\"One\",2:\"Two\",3:\"Three\",1:\"one\",2:\"two\",3:\"three\"}\n",
    "print(x)"
   ]
  },
  {
   "cell_type": "code",
   "execution_count": null,
   "id": "9d4e069d-78dc-424e-906f-681a51ac3d48",
   "metadata": {},
   "outputs": [],
   "source": [
    "#A dictionary can also be created using the dict() contructor method.\n",
    "Example : dict() constructor method"
   ]
  },
  {
   "cell_type": "code",
   "execution_count": 17,
   "id": "6c5336a2-aab2-4267-9bed-cd333e71e062",
   "metadata": {},
   "outputs": [
    {
     "name": "stdout",
     "output_type": "stream",
     "text": [
      "{}\n"
     ]
    }
   ],
   "source": [
    "emptydict=dict()\n",
    "print(emptydict)"
   ]
  },
  {
   "cell_type": "code",
   "execution_count": 19,
   "id": "5beacd16-4b5a-4138-8750-a3abf2cb0d07",
   "metadata": {},
   "outputs": [
    {
     "name": "stdout",
     "output_type": "stream",
     "text": [
      "{'I': 'one', 'II': 'two', 'III': 'three'}\n"
     ]
    }
   ],
   "source": [
    "numdict=dict(I=\"one\",II=\"two\",III=\"three\")\n",
    "print(numdict)"
   ]
  },
  {
   "cell_type": "code",
   "execution_count": 25,
   "id": "965fc1f4-bc9d-4b79-8b43-bd559e09bbb2",
   "metadata": {},
   "outputs": [
    {
     "name": "stdout",
     "output_type": "stream",
     "text": [
      "{'I': 'one', 'II': 'two', 'III': 'three'}\n"
     ]
    }
   ],
   "source": [
    "numdict=dict(((\"I\",\"one\"),(\"II\",\"two\"),(\"III\",\"three\")))\n",
    "print(numdict)"
   ]
  },
  {
   "cell_type": "code",
   "execution_count": null,
   "id": "04ea3eac-63f6-45f0-8901-15d37aeb53b0",
   "metadata": {},
   "outputs": [],
   "source": [
    "#Access dictionary\n",
    "\n",
    "#Dictionary is an unordered collection, so a value cannot be accessed using an index;instead,a key must be specified in the square brackets, as shown below."
   ]
  },
  {
   "cell_type": "code",
   "execution_count": 27,
   "id": "6af62eb0-0823-45f2-9a89-86149ec73d7d",
   "metadata": {},
   "outputs": [
    {
     "name": "stdout",
     "output_type": "stream",
     "text": [
      "one two three\n"
     ]
    }
   ],
   "source": [
    "x={1:\"one\",2:\"two\",3:\"three\"}\n",
    "print(x[1],x[2],x[3])"
   ]
  },
  {
   "cell_type": "code",
   "execution_count": 35,
   "id": "7e394c12-c17d-4a54-ba15-d9ca922a6ae4",
   "metadata": {},
   "outputs": [
    {
     "name": "stdout",
     "output_type": "stream",
     "text": [
      "Washington DC Paris\n"
     ]
    }
   ],
   "source": [
    "y={\"USA\":\"Washington DC\",\"France\":\"Paris\",\"India\":\"New Delhi\"}\n",
    "print(y[\"USA\"],y[\"France\"])"
   ]
  },
  {
   "cell_type": "code",
   "execution_count": null,
   "id": "3b70c1a4-58dd-4e3f-b668-5245d6159016",
   "metadata": {},
   "outputs": [],
   "source": [
    "#following throws an Keyerror\n",
    "#print(capitals[\"USA\"])\n",
    "#print(y[\"Japan\"])"
   ]
  },
  {
   "cell_type": "code",
   "execution_count": 37,
   "id": "5a187352-4aee-4668-8547-f11ea1c21cef",
   "metadata": {},
   "outputs": [
    {
     "ename": "KeyError",
     "evalue": "'Japan'",
     "output_type": "error",
     "traceback": [
      "\u001b[1;31m---------------------------------------------------------------------------\u001b[0m",
      "\u001b[1;31mKeyError\u001b[0m                                  Traceback (most recent call last)",
      "Cell \u001b[1;32mIn[37], line 1\u001b[0m\n\u001b[1;32m----> 1\u001b[0m \u001b[38;5;28mprint\u001b[39m(y[\u001b[38;5;124m\"\u001b[39m\u001b[38;5;124mJapan\u001b[39m\u001b[38;5;124m\"\u001b[39m])\n",
      "\u001b[1;31mKeyError\u001b[0m: 'Japan'"
     ]
    }
   ],
   "source": [
    "print(y[\"Japan\"])"
   ]
  },
  {
   "cell_type": "code",
   "execution_count": null,
   "id": "5997e395-6acc-4298-a22c-6a7cf8a2bede",
   "metadata": {},
   "outputs": [],
   "source": [
    "#Use the get() method to retrieve the key's value even if keys are not known. It returns None if the key does not exist instead of raising an error."
   ]
  },
  {
   "cell_type": "code",
   "execution_count": 39,
   "id": "2a8dc84b-589b-46bc-b3ad-61aac8cfff34",
   "metadata": {},
   "outputs": [
    {
     "name": "stdout",
     "output_type": "stream",
     "text": [
      "one two None\n"
     ]
    }
   ],
   "source": [
    "x={1:\"one\",2:\"two\",3:\"three\"}\n",
    "print(x.get(1),x.get(2),x.get(4))"
   ]
  },
  {
   "cell_type": "code",
   "execution_count": 41,
   "id": "88e284b6-a525-4910-aba5-cec0c6360959",
   "metadata": {},
   "outputs": [
    {
     "name": "stdout",
     "output_type": "stream",
     "text": [
      "1\n",
      "2\n",
      "3\n"
     ]
    }
   ],
   "source": [
    "#Access dictionary using for loop\n",
    "\n",
    "d1={1:\"one\",2:\"two\",3:\"three\"}     #by default always keys printed\n",
    "for i in d1:\n",
    "    print(i)"
   ]
  },
  {
   "cell_type": "code",
   "execution_count": 43,
   "id": "6c28befe-ad4c-4ad7-849c-7162577c80e9",
   "metadata": {},
   "outputs": [
    {
     "name": "stdout",
     "output_type": "stream",
     "text": [
      "1 one\n",
      "2 two\n",
      "3 three\n"
     ]
    }
   ],
   "source": [
    "d1={1:\"one\",2:\"two\",3:\"three\"}   \n",
    "for i in d1:\n",
    "    print(i,d1[i])"
   ]
  },
  {
   "cell_type": "code",
   "execution_count": 45,
   "id": "c2e62813-3f79-4742-b52b-523c6620dde2",
   "metadata": {},
   "outputs": [
    {
     "name": "stdout",
     "output_type": "stream",
     "text": [
      "key= 1 value= one\n",
      "key= 2 value= two\n",
      "key= 3 value= three\n"
     ]
    }
   ],
   "source": [
    "d1={1:\"one\",2:\"two\",3:\"three\"}    \n",
    "for i in d1:\n",
    "    print(\"key=\",i,\"value=\",d1[i])"
   ]
  },
  {
   "cell_type": "code",
   "execution_count": 51,
   "id": "4abe3750-fcc2-4920-acda-6ea92b5b5972",
   "metadata": {},
   "outputs": [
    {
     "name": "stdout",
     "output_type": "stream",
     "text": [
      "key= 1 value= one\n",
      "key= 2 value= two\n",
      "key= 3 value= three\n"
     ]
    }
   ],
   "source": [
    "d1={1:\"one\",2:\"two\",3:\"three\"}    \n",
    "for i in d1:\n",
    "    print(\"key=\",i,\"value=\",d1.get(i))"
   ]
  },
  {
   "cell_type": "code",
   "execution_count": 53,
   "id": "f1729249-a8d0-46a5-99bf-f83613fded12",
   "metadata": {},
   "outputs": [
    {
     "name": "stdout",
     "output_type": "stream",
     "text": [
      "65 A 66 B 67 C 68 D 69 E 70 F 71 G 72 H 73 I 74 J 75 K 76 L 77 M 78 N 79 O 80 P 81 Q 82 R 83 S 84 T 85 U 86 V 87 W 88 X 89 Y 90 Z 91 [ 92 \\ "
     ]
    }
   ],
   "source": [
    "for i in range(65,93):         #character value\n",
    "    print(i,chr(i),end=\" \")\n",
    "    "
   ]
  },
  {
   "cell_type": "code",
   "execution_count": 55,
   "id": "01c24ebf-ac3d-4225-944a-43ab047a8d4c",
   "metadata": {},
   "outputs": [
    {
     "name": "stdout",
     "output_type": "stream",
     "text": [
      "{65: 'A', 66: 'B', 67: 'C', 68: 'D', 69: 'E', 70: 'F', 71: 'G', 72: 'H', 73: 'I', 74: 'J', 75: 'K', 76: 'L', 77: 'M', 78: 'N', 79: 'O', 80: 'P', 81: 'Q', 82: 'R', 83: 'S', 84: 'T', 85: 'U', 86: 'V', 87: 'W', 88: 'X', 89: 'Y', 90: 'Z', 91: '[', 92: '\\\\'}\n"
     ]
    }
   ],
   "source": [
    "d1={}\n",
    "for i in range(65,93):\n",
    "    d1[i]=chr(i)\n",
    "print(d1)"
   ]
  },
  {
   "cell_type": "code",
   "execution_count": 57,
   "id": "edbdc205-3340-483e-b3bc-f331a875d60c",
   "metadata": {},
   "outputs": [
    {
     "name": "stdout",
     "output_type": "stream",
     "text": [
      "1\n",
      "2\n",
      "3\n"
     ]
    }
   ],
   "source": [
    "d1={1:\"one\",2:\"two\",3:\"three\"}\n",
    "for i in d1.keys():            #method\n",
    "    print(i)"
   ]
  },
  {
   "cell_type": "code",
   "execution_count": 61,
   "id": "5c6e50b6-3a2b-45ce-a8ec-0fd9385ae78d",
   "metadata": {},
   "outputs": [
    {
     "name": "stdout",
     "output_type": "stream",
     "text": [
      "dict_keys([1, 2, 3])\n"
     ]
    }
   ],
   "source": [
    "d1={1:\"one\",2:\"two\",3:\"three\"}\n",
    "print(d1.keys())"
   ]
  },
  {
   "cell_type": "code",
   "execution_count": 63,
   "id": "dea88ddc-cf02-4e6b-8fc7-a3eacae12b49",
   "metadata": {},
   "outputs": [
    {
     "name": "stdout",
     "output_type": "stream",
     "text": [
      "one\n",
      "two\n",
      "three\n"
     ]
    }
   ],
   "source": [
    "d1={1:\"one\",2:\"two\",3:\"three\"}\n",
    "for i in d1.values():            #method\n",
    "    print(i)"
   ]
  },
  {
   "cell_type": "code",
   "execution_count": 65,
   "id": "00cf94db-fb81-4887-a73e-438b7cf737d4",
   "metadata": {},
   "outputs": [
    {
     "name": "stdout",
     "output_type": "stream",
     "text": [
      "dict_values(['one', 'two', 'three'])\n"
     ]
    }
   ],
   "source": [
    "d1={1:\"one\",2:\"two\",3:\"three\"}\n",
    "print(d1.values())"
   ]
  },
  {
   "cell_type": "code",
   "execution_count": 67,
   "id": "104d2174-65ba-47f5-9ad6-a187ce87cc22",
   "metadata": {},
   "outputs": [
    {
     "name": "stdout",
     "output_type": "stream",
     "text": [
      "1 one\n",
      "2 two\n",
      "3 three\n"
     ]
    }
   ],
   "source": [
    "d1={1:\"one\",2:\"two\",3:\"three\"}\n",
    "for i,j in d1.items():            #method\n",
    "    print(i,j)"
   ]
  },
  {
   "cell_type": "code",
   "execution_count": null,
   "id": "c28d9df8-f9dd-4a19-96b3-c87ce8184f44",
   "metadata": {},
   "outputs": [],
   "source": [
    "#Update Dictionary"
   ]
  },
  {
   "cell_type": "code",
   "execution_count": 89,
   "id": "90266e28-28bf-4207-86be-46239947dff1",
   "metadata": {},
   "outputs": [
    {
     "name": "stdout",
     "output_type": "stream",
     "text": [
      "{'England': 'Root', 'Australia': 'Smith', 'India': 'Dhoni'}\n",
      "{'England': 'Root', 'Australia': 'Smith', 'India': 'Virat'}\n"
     ]
    }
   ],
   "source": [
    "captain={\"England\":\"Root\",\"Australia\":\"Smith\",\"India\":\"Dhoni\"}\n",
    "print(captain)\n",
    "\n",
    "captain['India']=\"Virat\"\n",
    "print(captain)"
   ]
  },
  {
   "cell_type": "code",
   "execution_count": 93,
   "id": "e8da779e-b3d6-4503-816b-ed8f526831e0",
   "metadata": {},
   "outputs": [
    {
     "name": "stdout",
     "output_type": "stream",
     "text": [
      "{'England': 'Root', 'Australia': 'Smith', 'India': 'Virat', 'xyz': 'Paine'}\n"
     ]
    }
   ],
   "source": [
    "captain['xyz']=\"Paine\"\n",
    "print(captain)"
   ]
  },
  {
   "cell_type": "code",
   "execution_count": 1,
   "id": "de23ab78-a1fe-4fed-8bc1-03d3accc3bd4",
   "metadata": {},
   "outputs": [
    {
     "name": "stdout",
     "output_type": "stream",
     "text": [
      "{1: 'one', 2: 'two', 3: 'three'}\n",
      "{1: 'one', 2: 'two'}\n"
     ]
    }
   ],
   "source": [
    "d1={1:\"one\",2:\"two\",3:\"three\"}\n",
    "print(d1)\n",
    "del d1[3]\n",
    "print(d1)"
   ]
  },
  {
   "cell_type": "code",
   "execution_count": null,
   "id": "e11f5aa3-0d10-4d2c-9794-8acd7f643533",
   "metadata": {},
   "outputs": [],
   "source": []
  }
 ],
 "metadata": {
  "kernelspec": {
   "display_name": "Python 3 (ipykernel)",
   "language": "python",
   "name": "python3"
  },
  "language_info": {
   "codemirror_mode": {
    "name": "ipython",
    "version": 3
   },
   "file_extension": ".py",
   "mimetype": "text/x-python",
   "name": "python",
   "nbconvert_exporter": "python",
   "pygments_lexer": "ipython3",
   "version": "3.12.4"
  }
 },
 "nbformat": 4,
 "nbformat_minor": 5
}
