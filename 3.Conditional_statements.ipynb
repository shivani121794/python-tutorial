{
 "cells": [
  {
   "cell_type": "code",
   "execution_count": null,
   "id": "8351671c-52a4-4f71-a753-3805f3fe1023",
   "metadata": {},
   "outputs": [],
   "source": [
    "#CONDITIONAL STATEMENTS"
   ]
  },
  {
   "cell_type": "code",
   "execution_count": 3,
   "id": "56f1fd7a-4f29-4ef0-91dc-81c5ca8f3060",
   "metadata": {},
   "outputs": [
    {
     "name": "stdin",
     "output_type": "stream",
     "text": [
      "enter the number 19\n"
     ]
    },
    {
     "name": "stdout",
     "output_type": "stream",
     "text": [
      "+ve number\n"
     ]
    }
   ],
   "source": [
    "n=int(input(\"enter the number\"))    #hit and trial\n",
    "if n>0:\n",
    "    print(\"+ve number\")\n",
    "if n<0:\n",
    "    print(\"-ve number\")\n",
    "if n==0:\n",
    "    print(\"number is zero\")"
   ]
  },
  {
   "cell_type": "code",
   "execution_count": null,
   "id": "1e0c4ac3-a028-4df6-8b08-fbd1d262e951",
   "metadata": {},
   "outputs": [],
   "source": [
    "#if then else\n",
    "\n",
    "if condition:\n",
    "    statement\n",
    "else:\n",
    "    statement"
   ]
  },
  {
   "cell_type": "code",
   "execution_count": null,
   "id": "50308dbd-440b-4eee-8d6b-9474c0d1bf0c",
   "metadata": {},
   "outputs": [],
   "source": [
    "#check for even and odd number\n",
    "\n",
    "%------modulus--------- return remainder\n",
    "\n",
    "3%2--------1\n",
    "4%2----------0"
   ]
  },
  {
   "cell_type": "code",
   "execution_count": 11,
   "id": "794c98a1-cb2b-471d-baa5-44435538a159",
   "metadata": {},
   "outputs": [
    {
     "name": "stdin",
     "output_type": "stream",
     "text": [
      "enter the number 4\n"
     ]
    },
    {
     "name": "stdout",
     "output_type": "stream",
     "text": [
      "even number\n"
     ]
    }
   ],
   "source": [
    "n=int(input(\"enter the number\"))\n",
    "if n%2==0:\n",
    "   print(\"even number\")\n",
    "else:\n",
    "   print(\"odd number\")"
   ]
  },
  {
   "cell_type": "code",
   "execution_count": 13,
   "id": "15ecbaa7-af58-4c23-b9b1-ffdce1c59b58",
   "metadata": {},
   "outputs": [
    {
     "name": "stdin",
     "output_type": "stream",
     "text": [
      "enter the year 1996\n"
     ]
    },
    {
     "name": "stdout",
     "output_type": "stream",
     "text": [
      "leap number\n"
     ]
    }
   ],
   "source": [
    "#check leap year\n",
    "year=int(input(\"enter the year\"))\n",
    "if year%4==0:\n",
    "   print(\"leap number\")\n",
    "else:\n",
    "   print(\"non leap year\")"
   ]
  },
  {
   "cell_type": "code",
   "execution_count": 15,
   "id": "a924138b-c42e-42ef-9f04-c4f5469a068a",
   "metadata": {},
   "outputs": [
    {
     "name": "stdin",
     "output_type": "stream",
     "text": [
      "enter the age 14\n"
     ]
    },
    {
     "name": "stdout",
     "output_type": "stream",
     "text": [
      "not eligible\n"
     ]
    }
   ],
   "source": [
    "#vote eligibility\n",
    "age=int(input(\"enter the age\"))\n",
    "if age>=18:\n",
    "    print(\"eligible to vote\")\n",
    "else:\n",
    "    print(\"not eligible\")"
   ]
  },
  {
   "cell_type": "code",
   "execution_count": null,
   "id": "4328959a-d21e-4571-b49d-cfa6c3a08511",
   "metadata": {},
   "outputs": [],
   "source": [
    "if elif ladder form\n",
    "----------------\n",
    "\n",
    "if condition:\n",
    "    statement\n",
    "elif condition:\n",
    "    statement\n",
    "elif condition:\n",
    "    statement\n",
    "else:\n",
    "    statement"
   ]
  },
  {
   "cell_type": "code",
   "execution_count": 19,
   "id": "527d0696-69e8-41ed-94f8-87438d67e9d0",
   "metadata": {},
   "outputs": [
    {
     "name": "stdin",
     "output_type": "stream",
     "text": [
      "enter the value from 1--7 4\n"
     ]
    },
    {
     "name": "stdout",
     "output_type": "stream",
     "text": [
      "wednesday\n"
     ]
    }
   ],
   "source": [
    "day=int(input(\"enter the value from 1--7\"))\n",
    "if day==1:\n",
    "   print(\"sunday\")\n",
    "elif day==2:\n",
    "   print(\"monday\")\n",
    "elif day==3:\n",
    "   print(\"tuesday\")\n",
    "elif day==4:\n",
    "   print(\"wednesday\")\n",
    "elif day==5:\n",
    "   print(\"thursday\")\n",
    "elif day==6:\n",
    "   print(\"friday\")\n",
    "elif day==7:\n",
    "   print(\"saturday\")\n",
    "else:\n",
    "   print(\"invalid choice\")"
   ]
  },
  {
   "cell_type": "code",
   "execution_count": 23,
   "id": "7e49e740-6112-48bd-844f-3c7d80e324db",
   "metadata": {},
   "outputs": [
    {
     "name": "stdin",
     "output_type": "stream",
     "text": [
      "enter the marks 34\n",
      "enter the marks 32\n",
      "enter the marks 56\n",
      "enter the marks 45\n",
      "enter the marks 37\n"
     ]
    },
    {
     "name": "stdout",
     "output_type": "stream",
     "text": [
      "third\n"
     ]
    }
   ],
   "source": [
    "p=float(input(\"enter the marks\"))\n",
    "c=float(input(\"enter the marks\"))\n",
    "m=float(input(\"enter the marks\"))\n",
    "e=float(input(\"enter the marks\"))\n",
    "h=float(input(\"enter the marks\"))\n",
    "sum=p+c+m+e+h\n",
    "per=sum*100/500\n",
    "if per>60:\n",
    "  print(\"first\")\n",
    "elif per>=45:\n",
    "  print(\"second\")\n",
    "elif per>=33:\n",
    "  print(\"third\")\n",
    "else:\n",
    "  print(\"fail\")"
   ]
  },
  {
   "cell_type": "code",
   "execution_count": null,
   "id": "d2d64c9e-f42d-4bd6-bc6a-0c387f94d8eb",
   "metadata": {},
   "outputs": [],
   "source": []
  },
  {
   "cell_type": "code",
   "execution_count": null,
   "id": "bf903394-2b6c-4e5e-9825-08578eac68a6",
   "metadata": {},
   "outputs": [],
   "source": [
    "#LOGICAL OPERATORS\n",
    "-----------------\n",
    "and ---------------- all the conditions which associated with AND must be true for true output.\n",
    "\n",
    "or ------------------ any of the conditions which associated with OR must be true for true output."
   ]
  },
  {
   "cell_type": "code",
   "execution_count": 27,
   "id": "5273f7d3-7e9d-44f3-8e1b-30e9ce351483",
   "metadata": {},
   "outputs": [
    {
     "name": "stdin",
     "output_type": "stream",
     "text": [
      "enter the number 3\n",
      "enter the number 4\n",
      "enter the number 6\n"
     ]
    },
    {
     "name": "stdout",
     "output_type": "stream",
     "text": [
      "C is geatest\n"
     ]
    }
   ],
   "source": [
    "a=int(input(\"enter the number\"))\n",
    "b=int(input(\"enter the number\"))\n",
    "c=int(input(\"enter the number\"))\n",
    "\n",
    "if a>b and a>c:\n",
    "   print(\"A is greatest\")\n",
    "elif b>a and b>c:\n",
    "   print(\"B is greatest\")\n",
    "else:\n",
    "   print(\"C is geatest\")"
   ]
  },
  {
   "cell_type": "code",
   "execution_count": 33,
   "id": "cba81251-f5e8-4f75-9d17-03f853121648",
   "metadata": {},
   "outputs": [
    {
     "name": "stdin",
     "output_type": "stream",
     "text": [
      "enter the number 4\n",
      "enter the number 4\n",
      "enter the number 7\n"
     ]
    },
    {
     "name": "stdout",
     "output_type": "stream",
     "text": [
      "C is geatest\n"
     ]
    }
   ],
   "source": [
    "a=int(input(\"enter the number\"))\n",
    "b=int(input(\"enter the number\"))\n",
    "c=int(input(\"enter the number\"))\n",
    "\n",
    "if a>b and a>c:\n",
    "   print(\"A is greatest\")\n",
    "elif b>a and b>c:\n",
    "   print(\"B is greatest\")\n",
    "elif c>a and c>b:\n",
    "   print(\"C is geatest\")\n",
    "else:\n",
    "   print(\"you may have entered the same number\")"
   ]
  },
  {
   "cell_type": "code",
   "execution_count": 35,
   "id": "a928268b-addc-4c53-aea1-371a74e75d1c",
   "metadata": {},
   "outputs": [
    {
     "name": "stdin",
     "output_type": "stream",
     "text": [
      "enter an alphabet R\n"
     ]
    },
    {
     "name": "stdout",
     "output_type": "stream",
     "text": [
      "Consonant\n"
     ]
    }
   ],
   "source": [
    "# check vowel or consonant\n",
    "\n",
    "ch=input(\"enter an alphabet\")  #character\n",
    "\n",
    "if ch==\"a\" or ch==\"e\" or ch==\"i\" or ch==\"o\" or ch==\"u\":\n",
    "   print(\"Vowel\")\n",
    "elif ch==\"A\" or ch==\"E\" or ch==\"I\" or ch==\"O\" or ch==\"U\":\n",
    "   print(\"Vowel\")\n",
    "else:\n",
    "   print(\"Consonant\")"
   ]
  },
  {
   "cell_type": "code",
   "execution_count": 37,
   "id": "90a8e59b-37bd-4a7f-83dd-79258361b264",
   "metadata": {},
   "outputs": [
    {
     "name": "stdin",
     "output_type": "stream",
     "text": [
      "enter an alphabet A\n"
     ]
    },
    {
     "name": "stdout",
     "output_type": "stream",
     "text": [
      "Vowel\n"
     ]
    }
   ],
   "source": [
    "ch=input(\"enter an alphabet\")\n",
    "\n",
    "if ch==\"a\" or ch==\"e\" or ch==\"i\" or ch==\"o\" or ch==\"u\":\n",
    "   print(\"Vowel\")\n",
    "elif ch==\"A\" or ch==\"E\" or ch==\"I\" or ch==\"O\" or ch==\"U\":\n",
    "   print(\"Vowel\")\n",
    "else:\n",
    "   print(\"Consonant\")"
   ]
  },
  {
   "cell_type": "code",
   "execution_count": 43,
   "id": "140fd4e3-ee70-4e5f-925d-c654240c7b84",
   "metadata": {},
   "outputs": [
    {
     "name": "stdin",
     "output_type": "stream",
     "text": [
      "enter an alphabet R\n"
     ]
    },
    {
     "name": "stdout",
     "output_type": "stream",
     "text": [
      "Consonant\n"
     ]
    }
   ],
   "source": [
    "#second method\n",
    "\n",
    "ch=input(\"enter an alphabet\")     #in is a membership operator\n",
    "if ch in [\"a\",\"A\",\"e\",\"E\",\"i\",\"I\",\"o\",\"O\",\"u\",\"U\"]:\n",
    "   print(\"Vowel\")\n",
    "else:\n",
    "   print(\"Consonant\")"
   ]
  },
  {
   "cell_type": "code",
   "execution_count": 47,
   "id": "0be284f5-82f3-4c14-8fbd-b1d6876965b3",
   "metadata": {},
   "outputs": [
    {
     "name": "stdin",
     "output_type": "stream",
     "text": [
      "enter an alphabet E\n"
     ]
    },
    {
     "name": "stdout",
     "output_type": "stream",
     "text": [
      "Vowel\n"
     ]
    }
   ],
   "source": [
    "#third method\n",
    "\n",
    "ch=input(\"enter an alphabet\")\n",
    "if ch in \"AaEeIiOoUu\":\n",
    "   print(\"Vowel\")\n",
    "else:\n",
    "   print(\"Consonant\")"
   ]
  },
  {
   "cell_type": "code",
   "execution_count": 55,
   "id": "6f980127-2d37-43da-b813-cda9cb4815d5",
   "metadata": {},
   "outputs": [
    {
     "name": "stdin",
     "output_type": "stream",
     "text": [
      "enter a color code like \n",
      " r for red \n",
      " g for green \n",
      " y for yellow\n",
      " D\n"
     ]
    },
    {
     "name": "stdout",
     "output_type": "stream",
     "text": [
      "Pay Challan\n"
     ]
    }
   ],
   "source": [
    "ch=input(\"enter a color code like \\n r for red \\n g for green \\n y for yellow\\n\")\n",
    "if ch==\"r\" or ch==\"R\":\n",
    "   print(\"Stop\")\n",
    "elif ch==\"y\" or ch==\"Y\":\n",
    "   print(\"Get Ready\")\n",
    "elif ch==\"g\" or ch==\"G\":\n",
    "   print(\"Move Forward\")\n",
    "else:\n",
    "    print(\"Pay Challan\")"
   ]
  },
  {
   "cell_type": "code",
   "execution_count": 59,
   "id": "03bbd40d-f2dd-498b-bbf7-77636814401e",
   "metadata": {},
   "outputs": [
    {
     "name": "stdin",
     "output_type": "stream",
     "text": [
      "enter the number 4\n",
      "enter the number 5\n"
     ]
    },
    {
     "name": "stdout",
     "output_type": "stream",
     "text": [
      "1.Add\n",
      "2.Sub\n",
      "3.Mul\n",
      "4.Div\n"
     ]
    },
    {
     "name": "stdin",
     "output_type": "stream",
     "text": [
      "enter the choice from the above 3\n"
     ]
    },
    {
     "name": "stdout",
     "output_type": "stream",
     "text": [
      "The product is  20\n"
     ]
    }
   ],
   "source": [
    "# mini calculator\n",
    "\n",
    "a=int(input(\"enter the number\"))\n",
    "b=int(input(\"enter the number\"))\n",
    "print(\"1.Add\")\n",
    "print(\"2.Sub\")\n",
    "print(\"3.Mul\")\n",
    "print(\"4.Div\")\n",
    "choice=int(input(\"enter the choice from the above\"))\n",
    "if choice==1:\n",
    "    print(\"Addition is \",a+b)\n",
    "elif choice==2:\n",
    "    print(\"The substraction is \",a-b)\n",
    "elif choice==3:\n",
    "    print(\"The product is \",a*b)\n",
    "elif choice==4:\n",
    "    print(\"The div is \",a/b)\n",
    "else:\n",
    "    print(\"Invalid choice\")"
   ]
  },
  {
   "cell_type": "code",
   "execution_count": null,
   "id": "dc091af2-6925-4c49-94ae-39fd470693d3",
   "metadata": {},
   "outputs": [],
   "source": []
  }
 ],
 "metadata": {
  "kernelspec": {
   "display_name": "Python 3 (ipykernel)",
   "language": "python",
   "name": "python3"
  },
  "language_info": {
   "codemirror_mode": {
    "name": "ipython",
    "version": 3
   },
   "file_extension": ".py",
   "mimetype": "text/x-python",
   "name": "python",
   "nbconvert_exporter": "python",
   "pygments_lexer": "ipython3",
   "version": "3.12.4"
  }
 },
 "nbformat": 4,
 "nbformat_minor": 5
}
