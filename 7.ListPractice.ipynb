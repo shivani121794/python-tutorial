{
 "cells": [
  {
   "cell_type": "code",
   "execution_count": 1,
   "id": "218083d7-f328-4e7d-93ed-256b9d092377",
   "metadata": {},
   "outputs": [
    {
     "name": "stdout",
     "output_type": "stream",
     "text": [
      "['Sumit']\n"
     ]
    }
   ],
   "source": [
    "#Practice\n",
    "\n",
    "#write the output of the following code\n",
    "\n",
    "L=[\"Amit\",\"Sumit\",\"Naina\"]\n",
    "print(L[1:-1])"
   ]
  },
  {
   "cell_type": "code",
   "execution_count": 3,
   "id": "984cfbeb-a081-405d-8f4c-8a44add3c557",
   "metadata": {},
   "outputs": [
    {
     "name": "stdout",
     "output_type": "stream",
     "text": [
      "[]\n"
     ]
    }
   ],
   "source": [
    "print(L[-1:1])"
   ]
  },
  {
   "cell_type": "code",
   "execution_count": 5,
   "id": "f612421e-36ad-4e33-ac21-656c22a96d47",
   "metadata": {},
   "outputs": [
    {
     "name": "stdout",
     "output_type": "stream",
     "text": [
      "['Amit', 'Sumit']\n"
     ]
    }
   ],
   "source": [
    "print(L[0:-1])"
   ]
  },
  {
   "cell_type": "code",
   "execution_count": 7,
   "id": "cf3baaf9-92f6-4a1a-870e-aba8011f36af",
   "metadata": {},
   "outputs": [
    {
     "name": "stdout",
     "output_type": "stream",
     "text": [
      "['Amit']\n"
     ]
    }
   ],
   "source": [
    "print(L[0:-2])"
   ]
  },
  {
   "cell_type": "code",
   "execution_count": 9,
   "id": "3bcbf19c-dc1a-4124-8594-eccc88e60ce5",
   "metadata": {},
   "outputs": [
    {
     "name": "stdout",
     "output_type": "stream",
     "text": [
      "['Amit', 'Sumit', 'Naina', 'Amit', 'Sumit', 'Naina']\n"
     ]
    }
   ],
   "source": [
    "L=[\"Amit\",\"Sumit\",\"Naina\"]\n",
    "print(L*2)"
   ]
  },
  {
   "cell_type": "code",
   "execution_count": 13,
   "id": "7b1725d1-2c22-46e8-99e0-197b75548814",
   "metadata": {},
   "outputs": [
    {
     "ename": "TypeError",
     "evalue": "unsupported operand type(s) for ** or pow(): 'list' and 'int'",
     "output_type": "error",
     "traceback": [
      "\u001b[1;31m---------------------------------------------------------------------------\u001b[0m",
      "\u001b[1;31mTypeError\u001b[0m                                 Traceback (most recent call last)",
      "Cell \u001b[1;32mIn[13], line 2\u001b[0m\n\u001b[0;32m      1\u001b[0m L\u001b[38;5;241m=\u001b[39m[\u001b[38;5;124m\"\u001b[39m\u001b[38;5;124mAmit\u001b[39m\u001b[38;5;124m\"\u001b[39m,\u001b[38;5;124m\"\u001b[39m\u001b[38;5;124mSumit\u001b[39m\u001b[38;5;124m\"\u001b[39m,\u001b[38;5;124m\"\u001b[39m\u001b[38;5;124mNaina\u001b[39m\u001b[38;5;124m\"\u001b[39m]\n\u001b[1;32m----> 2\u001b[0m \u001b[38;5;28mprint\u001b[39m(L\u001b[38;5;241m*\u001b[39m\u001b[38;5;241m*\u001b[39m\u001b[38;5;241m2\u001b[39m)\n",
      "\u001b[1;31mTypeError\u001b[0m: unsupported operand type(s) for ** or pow(): 'list' and 'int'"
     ]
    }
   ],
   "source": [
    "L=[\"Amit\",\"Sumit\",\"Naina\"]\n",
    "print(L**2)"
   ]
  },
  {
   "cell_type": "code",
   "execution_count": 15,
   "id": "2023a667-743d-4326-8fe0-6b425cd5e0f6",
   "metadata": {},
   "outputs": [
    {
     "name": "stdout",
     "output_type": "stream",
     "text": [
      "[0.0, 0.5, 1.0, 1.5]\n"
     ]
    }
   ],
   "source": [
    "L=[0.5 * x for x in range(4)]     #List comprehension\n",
    "print(L)"
   ]
  },
  {
   "cell_type": "code",
   "execution_count": 17,
   "id": "543b7b45-0ee4-4b57-ad3e-6215b5d46d4e",
   "metadata": {},
   "outputs": [
    {
     "name": "stdout",
     "output_type": "stream",
     "text": [
      "['', 'a', 'aa', 'aaa']\n"
     ]
    }
   ],
   "source": [
    "L=['a' * x for x in range(4)] \n",
    "print(L)"
   ]
  },
  {
   "cell_type": "code",
   "execution_count": 29,
   "id": "f7d30cad-e040-4e0c-8750-c3df52dc340e",
   "metadata": {},
   "outputs": [
    {
     "name": "stdout",
     "output_type": "stream",
     "text": [
      "['']\n"
     ]
    }
   ],
   "source": [
    "m=['a'*0]  #it is giving blank in the answer\n",
    "print(m)"
   ]
  },
  {
   "cell_type": "code",
   "execution_count": 27,
   "id": "b87fa0ca-785c-4a5e-97c0-853449b86a1c",
   "metadata": {},
   "outputs": [
    {
     "name": "stdout",
     "output_type": "stream",
     "text": [
      "[10, 6, 2]\n"
     ]
    }
   ],
   "source": [
    "L=[1*x for x in range(10,1,-4)]\n",
    "print(L)"
   ]
  },
  {
   "cell_type": "code",
   "execution_count": 31,
   "id": "048f9a0a-2d58-4361-8225-dfcb866ed8c2",
   "metadata": {},
   "outputs": [
    {
     "name": "stdout",
     "output_type": "stream",
     "text": [
      "[11, 22, 33, 44]\n",
      "[11, 22, 33, 44]\n",
      "[11, 'hello', 33, 44]\n",
      "[11, 'hello', 33, 44]\n"
     ]
    }
   ],
   "source": [
    "#New Concept\n",
    "\n",
    "#Copy method()-------shallow copy\n",
    "\n",
    "x=[11,22,33,44]\n",
    "y=x\n",
    "print(x)\n",
    "print(y)\n",
    "y[1]=\"hello\"\n",
    "print(x)\n",
    "print(y)"
   ]
  },
  {
   "cell_type": "code",
   "execution_count": 33,
   "id": "cd7eede2-6243-4e9b-bd8c-15c9d6883533",
   "metadata": {},
   "outputs": [
    {
     "name": "stdout",
     "output_type": "stream",
     "text": [
      "[11, 22, 33, 44]\n",
      "[11, 22, 33, 44]\n",
      "[11, 22, 33, 44]\n",
      "[11, 'hello', 33, 44]\n"
     ]
    }
   ],
   "source": [
    "x=[11,22,33,44]\n",
    "y=x.copy()\n",
    "print(x)\n",
    "print(y)\n",
    "y[1]=\"hello\"\n",
    "print(x)\n",
    "print(y)"
   ]
  },
  {
   "cell_type": "code",
   "execution_count": 35,
   "id": "bfa58c6d-db32-4988-99ca-311c31f1f5f3",
   "metadata": {},
   "outputs": [
    {
     "name": "stdout",
     "output_type": "stream",
     "text": [
      "['A', 2, 3, 4]\n",
      "['A', 2, 3, 4]\n"
     ]
    }
   ],
   "source": [
    "T=[1,2,3,4]\n",
    "T1=T\n",
    "T[0]='A'\n",
    "print(T)\n",
    "print(T1)"
   ]
  },
  {
   "cell_type": "code",
   "execution_count": 41,
   "id": "7247d2de-b8c3-4e10-86f8-4cd7f7c963ad",
   "metadata": {},
   "outputs": [
    {
     "name": "stdout",
     "output_type": "stream",
     "text": [
      "None\n"
     ]
    }
   ],
   "source": [
    "T=[1,2,3,4]\n",
    "T1=[5,6,7]\n",
    "L=T.append(T1)\n",
    "print(L)\n"
   ]
  },
  {
   "cell_type": "code",
   "execution_count": 43,
   "id": "b79a1deb-d4c8-4480-849c-3e94ed6f32d0",
   "metadata": {},
   "outputs": [
    {
     "name": "stdout",
     "output_type": "stream",
     "text": [
      "23\n"
     ]
    }
   ],
   "source": [
    "L=[1,5,9]\n",
    "print(sum(L)+max(L)-min(L))"
   ]
  },
  {
   "cell_type": "code",
   "execution_count": 47,
   "id": "fa5f791d-15dc-44a5-9487-a6eb169651f1",
   "metadata": {},
   "outputs": [
    {
     "name": "stdout",
     "output_type": "stream",
     "text": [
      "6\n"
     ]
    }
   ],
   "source": [
    "L=[['physics',101],['chemistry',202],['maths',303],45,6,'j']\n",
    "print(len(L))"
   ]
  },
  {
   "cell_type": "code",
   "execution_count": 49,
   "id": "c239d4a4-e8b9-4fcc-857c-bb062be90726",
   "metadata": {},
   "outputs": [
    {
     "name": "stdout",
     "output_type": "stream",
     "text": [
      "5\n"
     ]
    }
   ],
   "source": [
    "L=[1,2,3,4,5,6,7,8,9,10]\n",
    "print(L[L[3]])"
   ]
  },
  {
   "cell_type": "code",
   "execution_count": 53,
   "id": "99ffe1cf-b6a0-4be3-b5b3-c110a8f06f00",
   "metadata": {},
   "outputs": [
    {
     "name": "stdout",
     "output_type": "stream",
     "text": [
      "10\n"
     ]
    }
   ],
   "source": [
    "L=[1,2,3,4,5,6,7,8,9,10]\n",
    "print(L[len(L)-1])"
   ]
  },
  {
   "cell_type": "code",
   "execution_count": 55,
   "id": "b8dc00e6-d05e-4272-973e-b458f48db15f",
   "metadata": {},
   "outputs": [
    {
     "name": "stdout",
     "output_type": "stream",
     "text": [
      "False\n"
     ]
    }
   ],
   "source": [
    "print(1 in [[1],2,3])"
   ]
  },
  {
   "cell_type": "code",
   "execution_count": 57,
   "id": "c5f3491d-9083-4f86-99b2-8d672afe4dec",
   "metadata": {},
   "outputs": [
    {
     "name": "stdout",
     "output_type": "stream",
     "text": [
      "True\n"
     ]
    }
   ],
   "source": [
    "print([1] in [[1],2,3])"
   ]
  },
  {
   "cell_type": "code",
   "execution_count": 59,
   "id": "d3ca0d07-e660-43fa-8121-bddea627b90d",
   "metadata": {},
   "outputs": [
    {
     "name": "stdout",
     "output_type": "stream",
     "text": [
      "True\n"
     ]
    }
   ],
   "source": [
    "print(1 in [1,2,3])"
   ]
  },
  {
   "cell_type": "code",
   "execution_count": 61,
   "id": "db117cc0-c84a-492b-8f6d-a6e6d2719172",
   "metadata": {},
   "outputs": [
    {
     "name": "stdout",
     "output_type": "stream",
     "text": [
      "True\n"
     ]
    }
   ],
   "source": [
    "print(1 in (1,2,3))"
   ]
  },
  {
   "cell_type": "code",
   "execution_count": 65,
   "id": "9ef729cc-f99e-4f87-bbfd-6e9f02ceed29",
   "metadata": {},
   "outputs": [
    {
     "name": "stdout",
     "output_type": "stream",
     "text": [
      "[]\n"
     ]
    }
   ],
   "source": [
    "print([] * 2)"
   ]
  },
  {
   "cell_type": "code",
   "execution_count": 67,
   "id": "5d3d6e79-9a86-4111-952b-c3a6f7b58d2b",
   "metadata": {},
   "outputs": [
    {
     "name": "stdout",
     "output_type": "stream",
     "text": [
      "m\n"
     ]
    }
   ],
   "source": [
    "L=[\"amit\",\"sumit\",\"Ravi\"]\n",
    "print(L[0][1])"
   ]
  },
  {
   "cell_type": "code",
   "execution_count": 69,
   "id": "b66b67b3-b531-4e1b-86e1-5557524404ed",
   "metadata": {},
   "outputs": [
    {
     "name": "stdout",
     "output_type": "stream",
     "text": [
      "[23, 45, 65, 'monitor', 32, 3]\n"
     ]
    }
   ],
   "source": [
    "L=[23,45,65,32,3]\n",
    "L.insert(L[4],'monitor')\n",
    "print(L)"
   ]
  },
  {
   "cell_type": "code",
   "execution_count": 71,
   "id": "4688455a-d9f6-442f-b7bb-5c834e287a17",
   "metadata": {},
   "outputs": [
    {
     "name": "stdout",
     "output_type": "stream",
     "text": [
      "[23, 45, 65, 32, 3, 'monitor']\n"
     ]
    }
   ],
   "source": [
    "L=[23,45,65,32,3]\n",
    "L.insert(L[3],'monitor')\n",
    "print(L)"
   ]
  },
  {
   "cell_type": "code",
   "execution_count": null,
   "id": "10185bca-7257-4171-885f-458d77fc88e5",
   "metadata": {},
   "outputs": [],
   "source": [
    "#address same  - =\n",
    "#address different - .copy"
   ]
  },
  {
   "cell_type": "code",
   "execution_count": 75,
   "id": "448e7650-239a-4893-b9c3-91a2eee4916f",
   "metadata": {},
   "outputs": [
    {
     "name": "stdout",
     "output_type": "stream",
     "text": [
      "[1, 2, 3, 4, 5]\n"
     ]
    }
   ],
   "source": [
    "#sorted  ------ return the new sorted list and doesn't change the orgional \n",
    "\n",
    "list=[1,5,3,2,4]\n",
    "x=sorted(list)\n",
    "print(x)"
   ]
  },
  {
   "cell_type": "code",
   "execution_count": null,
   "id": "24495c80-d66c-4d11-8778-921d96100f77",
   "metadata": {},
   "outputs": [],
   "source": [
    "# ALl\n",
    "\n",
    "#The all() method returns:\n",
    "\n",
    "## True - If all elements in a list are true \n",
    "## False - If any elements in a list is false\n",
    "\n",
    "# The any() function returns True if any element in the list is True. If not, any() returns False."
   ]
  },
  {
   "cell_type": "code",
   "execution_count": 81,
   "id": "9afd7807-7080-4682-8e57-87fb863cbe09",
   "metadata": {},
   "outputs": [],
   "source": [
    "L1=[1,2,3,4,0]"
   ]
  },
  {
   "cell_type": "code",
   "execution_count": 83,
   "id": "4994cf66-1ed1-48a9-b776-6b2d18547225",
   "metadata": {},
   "outputs": [
    {
     "data": {
      "text/plain": [
       "False"
      ]
     },
     "execution_count": 83,
     "metadata": {},
     "output_type": "execute_result"
    }
   ],
   "source": [
    "all(L1)  #will return false as one value is false"
   ]
  },
  {
   "cell_type": "code",
   "execution_count": 85,
   "id": "66d291a9-b799-430b-9d76-711f5764b35b",
   "metadata": {},
   "outputs": [
    {
     "data": {
      "text/plain": [
       "True"
      ]
     },
     "execution_count": 85,
     "metadata": {},
     "output_type": "execute_result"
    }
   ],
   "source": [
    "any(L1) #will return true as we have items in list with true value"
   ]
  },
  {
   "cell_type": "code",
   "execution_count": null,
   "id": "516c84f7-35f2-404d-aea1-68db0ee48c82",
   "metadata": {},
   "outputs": [],
   "source": [
    "# LIST COMPREHENSIONS\n",
    "\n",
    "##List comprehension provide an elegant way to create new lists\n",
    "##It consists of brackets containing an expression followed by a for clause , then zero or more for or if clause"
   ]
  },
  {
   "cell_type": "code",
   "execution_count": 87,
   "id": "03b35cb1-7252-4a47-a988-dccdd1fb6f6d",
   "metadata": {},
   "outputs": [
    {
     "data": {
      "text/plain": [
       "['W', 'E', 'L', 'C', 'O', 'M', 'E']"
      ]
     },
     "execution_count": 87,
     "metadata": {},
     "output_type": "execute_result"
    }
   ],
   "source": [
    "mystring=\"WELCOME\"\n",
    "mylist=[i for i in mystring]\n",
    "mylist"
   ]
  },
  {
   "cell_type": "code",
   "execution_count": 91,
   "id": "f2d6e396-db1b-4472-bbd7-0781f88bc995",
   "metadata": {},
   "outputs": [
    {
     "data": {
      "text/plain": [
       "[0, 2, 4, 6, 8, 10, 12, 14, 16, 18, 20, 22, 24, 26, 28, 30, 32, 34, 36, 38]"
      ]
     },
     "execution_count": 91,
     "metadata": {},
     "output_type": "execute_result"
    }
   ],
   "source": [
    "mylist1=[i for i in range(40) if i%2==0]\n",
    "mylist1"
   ]
  },
  {
   "cell_type": "code",
   "execution_count": 93,
   "id": "9f7508c9-87c3-4408-8d2f-9c5ddf800ab1",
   "metadata": {},
   "outputs": [
    {
     "data": {
      "text/plain": [
       "[1, 3, 5, 7, 9, 11, 13, 15, 17, 19, 21, 23, 25, 27, 29, 31, 33, 35, 37, 39]"
      ]
     },
     "execution_count": 93,
     "metadata": {},
     "output_type": "execute_result"
    }
   ],
   "source": [
    "mylist2=[i for i in range(40) if i%2==1]\n",
    "mylist2"
   ]
  },
  {
   "cell_type": "code",
   "execution_count": 95,
   "id": "fb958aa7-f9c1-4f01-b49a-7efe2a9414a2",
   "metadata": {},
   "outputs": [
    {
     "data": {
      "text/plain": [
       "[0, 1, 4, 9, 16, 25, 36, 49, 64, 81]"
      ]
     },
     "execution_count": 95,
     "metadata": {},
     "output_type": "execute_result"
    }
   ],
   "source": [
    "mylist3=[num**2 for num in range(10)]\n",
    "mylist3"
   ]
  },
  {
   "cell_type": "code",
   "execution_count": 97,
   "id": "c5cbc114-332a-4eaa-8dd8-e8975fd59656",
   "metadata": {},
   "outputs": [
    {
     "data": {
      "text/plain": [
       "[0, 36, 72, 108, 144, 180]"
      ]
     },
     "execution_count": 97,
     "metadata": {},
     "output_type": "execute_result"
    }
   ],
   "source": [
    "#list all numbers divisible by 3,9 and 12 using nested if with list comprehension\n",
    "mylist4 = [ i for i in range(200) if i%3==0 if i%9==0 if i%12==0]\n",
    "mylist4"
   ]
  },
  {
   "cell_type": "code",
   "execution_count": 101,
   "id": "b8370d06-13b6-4a92-ab67-f4f04d237431",
   "metadata": {},
   "outputs": [
    {
     "data": {
      "text/plain": [
       "['1', '2', '3', '4', '5']"
      ]
     },
     "execution_count": 101,
     "metadata": {},
     "output_type": "execute_result"
    }
   ],
   "source": [
    "#extract numbers from a string \n",
    "\n",
    "mystr = 'One 1 two 2 three 3 four 4 five 5'\n",
    "numbers = [i for i in mystr if i.isdigit()]\n",
    "numbers"
   ]
  },
  {
   "cell_type": "code",
   "execution_count": null,
   "id": "5a0f23bb-6388-4e48-9b45-682f97836911",
   "metadata": {},
   "outputs": [],
   "source": []
  }
 ],
 "metadata": {
  "kernelspec": {
   "display_name": "Python 3 (ipykernel)",
   "language": "python",
   "name": "python3"
  },
  "language_info": {
   "codemirror_mode": {
    "name": "ipython",
    "version": 3
   },
   "file_extension": ".py",
   "mimetype": "text/x-python",
   "name": "python",
   "nbconvert_exporter": "python",
   "pygments_lexer": "ipython3",
   "version": "3.12.4"
  }
 },
 "nbformat": 4,
 "nbformat_minor": 5
}
