{
 "cells": [
  {
   "cell_type": "code",
   "execution_count": null,
   "id": "a60e4a17-8e8c-48af-8609-f29a2a497412",
   "metadata": {},
   "outputs": [],
   "source": [
    "#Strings\n",
    "\n",
    "syntax\n",
    "str.rstrip(characters)"
   ]
  },
  {
   "cell_type": "code",
   "execution_count": 1,
   "id": "3e28cad9-3557-4feb-82f9-dde44e610523",
   "metadata": {},
   "outputs": [
    {
     "data": {
      "text/plain": [
       "'    Hello World'"
      ]
     },
     "execution_count": 1,
     "metadata": {},
     "output_type": "execute_result"
    }
   ],
   "source": [
    "mystr='    Hello World       '\n",
    "mystr.rstrip()   #remove trailing space"
   ]
  },
  {
   "cell_type": "code",
   "execution_count": null,
   "id": "4a765805-dcbb-4f4d-85a5-e3769f50f77e",
   "metadata": {},
   "outputs": [],
   "source": [
    "#you can specify one or more characters as a string to be removed from the string in any string in any order, as shown below."
   ]
  },
  {
   "cell_type": "code",
   "execution_count": 3,
   "id": "4c943d2b-56cb-4779-a193-04bbd64b4de4",
   "metadata": {},
   "outputs": [
    {
     "data": {
      "text/plain": [
       "'120'"
      ]
     },
     "execution_count": 3,
     "metadata": {},
     "output_type": "execute_result"
    }
   ],
   "source": [
    "s1=\"120kg\"\n",
    "s1.strip(\"kg\")"
   ]
  },
  {
   "cell_type": "code",
   "execution_count": null,
   "id": "13bb2b37-d406-4584-99f2-1335541fdf09",
   "metadata": {},
   "outputs": [],
   "source": [
    "#Split method\n",
    "\n",
    "syntax\n",
    "str.split(seperator)"
   ]
  },
  {
   "cell_type": "code",
   "execution_count": 5,
   "id": "46878169-1b1c-420c-bbe4-32e4f942ad5f",
   "metadata": {},
   "outputs": [
    {
     "name": "stdout",
     "output_type": "stream",
     "text": [
      "['Hello', 'World']\n"
     ]
    }
   ],
   "source": [
    "mystr=\"Hello World\"\n",
    "print(mystr.split())"
   ]
  },
  {
   "cell_type": "code",
   "execution_count": 7,
   "id": "65969551-511b-4a93-bef6-c6759e24382f",
   "metadata": {},
   "outputs": [
    {
     "name": "stdout",
     "output_type": "stream",
     "text": [
      "['c', 'python', 'r', 'java', 'sql', 'hadoop']\n"
     ]
    }
   ],
   "source": [
    "langs=\"c,python,r,java,sql,hadoop\"\n",
    "print(langs.split(','))"
   ]
  },
  {
   "cell_type": "code",
   "execution_count": 9,
   "id": "2455ee4a-38bf-482f-8e1a-2a3c692d5a59",
   "metadata": {},
   "outputs": [
    {
     "name": "stdout",
     "output_type": "stream",
     "text": [
      "['apple', 'banana', 'mango', 'pear']\n"
     ]
    }
   ],
   "source": [
    "fruits=\"apple$banana$mango$pear\"\n",
    "print(fruits.split('$'))"
   ]
  },
  {
   "cell_type": "code",
   "execution_count": null,
   "id": "4316e0ef-3849-4f9e-b80c-98cf95f71664",
   "metadata": {},
   "outputs": [],
   "source": [
    "The following exaple"
   ]
  },
  {
   "cell_type": "code",
   "execution_count": 15,
   "id": "fcbb4a98-d6f3-4828-b53c-a9463ddcc4f0",
   "metadata": {},
   "outputs": [
    {
     "name": "stdout",
     "output_type": "stream",
     "text": [
      "['c', 'python', 'r', 'java,sql,hadoop']\n"
     ]
    }
   ],
   "source": [
    "langs=\"c,python,r,java,sql,hadoop\"\n",
    "print(langs.split(',',3))"
   ]
  },
  {
   "cell_type": "code",
   "execution_count": 17,
   "id": "fabbf242-7272-436b-b9c1-31027e0d761e",
   "metadata": {},
   "outputs": [
    {
     "name": "stdout",
     "output_type": "stream",
     "text": [
      "['apple', 'banana', 'mango$pear']\n"
     ]
    }
   ],
   "source": [
    "fruits=\"apple$banana$mango$pear\"\n",
    "print(fruits.split('$',2))"
   ]
  },
  {
   "cell_type": "code",
   "execution_count": null,
   "id": "01c6ece9-b317-4b49-9396-f461a2550a63",
   "metadata": {},
   "outputs": [],
   "source": [
    "#String upper method"
   ]
  },
  {
   "cell_type": "code",
   "execution_count": 13,
   "id": "6207e61b-2759-4833-9696-7eb58bb3f56c",
   "metadata": {},
   "outputs": [
    {
     "data": {
      "text/plain": [
       "'HELLO WORLD'"
      ]
     },
     "execution_count": 13,
     "metadata": {},
     "output_type": "execute_result"
    }
   ],
   "source": [
    "mystr=\"Hello World\"\n",
    "mystr.upper()"
   ]
  },
  {
   "cell_type": "code",
   "execution_count": 3,
   "id": "c986dd3c-483a-4ea2-be16-0adda83afb92",
   "metadata": {},
   "outputs": [
    {
     "name": "stdout",
     "output_type": "stream",
     "text": [
      "woohoo woohoo woohoo woohoo woohoo \n"
     ]
    }
   ],
   "source": [
    "mystr=\"woohoo \"\n",
    "mystr=mystr*5\n",
    "print(mystr)"
   ]
  },
  {
   "cell_type": "code",
   "execution_count": 5,
   "id": "482b61d7-4016-40cc-9158-ea8d6219e02f",
   "metadata": {},
   "outputs": [
    {
     "data": {
      "text/plain": [
       "35"
      ]
     },
     "execution_count": 5,
     "metadata": {},
     "output_type": "execute_result"
    }
   ],
   "source": [
    "len(mystr) #length of string"
   ]
  },
  {
   "cell_type": "code",
   "execution_count": 11,
   "id": "677d865c-1d20-4e9a-b2fd-9d9406d8a4da",
   "metadata": {},
   "outputs": [
    {
     "name": "stdout",
     "output_type": "stream",
     "text": [
      "Hi Dear\n"
     ]
    }
   ],
   "source": [
    "#String concatination\n",
    "s1=\"Hi\"\n",
    "s2=\"Dear\"\n",
    "s3=s1+\" \"+s2\n",
    "print(s3)"
   ]
  },
  {
   "cell_type": "code",
   "execution_count": 13,
   "id": "d46cecca-9d87-4937-bb5d-8d0b408fc5d5",
   "metadata": {},
   "outputs": [
    {
     "name": "stdout",
     "output_type": "stream",
     "text": [
      "True\n",
      "True\n",
      "False\n"
     ]
    }
   ],
   "source": [
    "#String membership\n",
    "\n",
    "mystr=\"hello everyone\"\n",
    "print(\"hello\" in mystr)\n",
    "print(\"everyone\" in mystr)\n",
    "print(\"Hello\" in mystr)"
   ]
  },
  {
   "cell_type": "code",
   "execution_count": 17,
   "id": "f9088d88-46c5-4320-ae9d-236fb9d6fbd5",
   "metadata": {},
   "outputs": [
    {
     "name": "stdout",
     "output_type": "stream",
     "text": [
      "('Natural language processing with python ', 'and', ' r and java')\n",
      "('Natural language processing with python and r ', 'and', ' java')\n"
     ]
    }
   ],
   "source": [
    "str1=\"Natural language processing with python and r and java\"\n",
    "P=str1.partition(\"and\")\n",
    "L=str1.rpartition(\"and\")\n",
    "print(P)\n",
    "print(L)"
   ]
  },
  {
   "cell_type": "code",
   "execution_count": 19,
   "id": "78b8a00e-db94-4d2c-9fb0-d77aca26c908",
   "metadata": {},
   "outputs": [
    {
     "data": {
      "text/plain": [
       "'***********Hello Everyone***********All the best********'"
      ]
     },
     "execution_count": 19,
     "metadata": {},
     "output_type": "execute_result"
    }
   ],
   "source": [
    "mystr2=\"***********Hello Everyone***********All the best********\"\n",
    "mystr2"
   ]
  },
  {
   "cell_type": "code",
   "execution_count": 21,
   "id": "f5d8ef08-e436-47da-baf4-9a67712015e1",
   "metadata": {},
   "outputs": [
    {
     "data": {
      "text/plain": [
       "'Hello Everyone***********All the best'"
      ]
     },
     "execution_count": 21,
     "metadata": {},
     "output_type": "execute_result"
    }
   ],
   "source": [
    "mystr2.strip(\"*\")"
   ]
  },
  {
   "cell_type": "code",
   "execution_count": 23,
   "id": "078216bc-8157-40de-b5db-944e4088a9a4",
   "metadata": {},
   "outputs": [
    {
     "data": {
      "text/plain": [
       "'***********Hello Everyone***********All the best'"
      ]
     },
     "execution_count": 23,
     "metadata": {},
     "output_type": "execute_result"
    }
   ],
   "source": [
    "mystr2.rstrip(\"*\")"
   ]
  },
  {
   "cell_type": "code",
   "execution_count": 25,
   "id": "caa28ceb-1801-4095-9203-76e4ea346d85",
   "metadata": {},
   "outputs": [
    {
     "data": {
      "text/plain": [
       "'Hello Everyone***********All the best********'"
      ]
     },
     "execution_count": 25,
     "metadata": {},
     "output_type": "execute_result"
    }
   ],
   "source": [
    "mystr2.lstrip(\"*\")"
   ]
  },
  {
   "cell_type": "code",
   "execution_count": 5,
   "id": "c1495992-1f25-4f77-b77d-47d257f76112",
   "metadata": {},
   "outputs": [
    {
     "name": "stdout",
     "output_type": "stream",
     "text": [
      "cost of item1 , item2 and item3 are 40 , 55 and 77\n",
      "cost of item1 , item2 and item3 are 77 , 55 and 40\n"
     ]
    }
   ],
   "source": [
    "#combining string and numbers using format method\n",
    "item1=40\n",
    "item2=55\n",
    "item3=77\n",
    "print(\"cost of item1 , item2 and item3 are {} , {} and {}\".format(item1,item2,item3))\n",
    "print(\"cost of item1 , item2 and item3 are {2} , {1} and {0}\".format(item1,item2,item3))"
   ]
  },
  {
   "cell_type": "code",
   "execution_count": null,
   "id": "5e6787f6-2253-47a8-acb1-eea00ff65834",
   "metadata": {},
   "outputs": [],
   "source": [
    "https://github.com/Pooja3764/Tabluea-Dashboard/blob/main/BlinkIt%20dashboard.twbx"
   ]
  },
  {
   "cell_type": "code",
   "execution_count": 5,
   "id": "6b020efe-4bc7-40da-9e66-738aee3b0e01",
   "metadata": {},
   "outputs": [
    {
     "name": "stdout",
     "output_type": "stream",
     "text": [
      "                                          Welcome Everyone                                          \n"
     ]
    }
   ],
   "source": [
    "str=\"Welcome Everyone\"\n",
    "str=str.center(100)      #center align using a specific character as \n",
    "print(str)"
   ]
  },
  {
   "cell_type": "code",
   "execution_count": 7,
   "id": "0b4d930d-6a43-4b31-94e6-066fabb33f71",
   "metadata": {},
   "outputs": [
    {
     "name": "stdout",
     "output_type": "stream",
     "text": [
      "******************************************Welcome Everyone******************************************\n"
     ]
    }
   ],
   "source": [
    "str=\"Welcome Everyone\"\n",
    "str=str.center(100,\"*\")\n",
    "print(str)"
   ]
  },
  {
   "cell_type": "code",
   "execution_count": 13,
   "id": "6563a340-bf55-4829-af17-cc6741d66ce1",
   "metadata": {},
   "outputs": [
    {
     "name": "stdout",
     "output_type": "stream",
     "text": [
      "False\n",
      "True\n",
      "True\n",
      "True\n"
     ]
    }
   ],
   "source": [
    "mystr=\"123456\"\n",
    "print(mystr.isalpha())\n",
    "print(mystr.isalnum())\n",
    "print(mystr.isdecimal())\n",
    "print(mystr.isnumeric())"
   ]
  },
  {
   "cell_type": "code",
   "execution_count": 19,
   "id": "90078a28-ba10-4556-83cc-3a660bc49c89",
   "metadata": {},
   "outputs": [
    {
     "name": "stdout",
     "output_type": "stream",
     "text": [
      "51\n"
     ]
    }
   ],
   "source": [
    "string=\"one two three four one two two three five five six one ten eight ten nine\"\n",
    "loc=string.rfind(\"one\")  # last occurence of word \"one\" in string\n",
    "print(loc)"
   ]
  },
  {
   "cell_type": "code",
   "execution_count": 23,
   "id": "29828013-b48b-4e58-b0eb-979c10faa6e1",
   "metadata": {},
   "outputs": [
    {
     "name": "stdout",
     "output_type": "stream",
     "text": [
      "51\n"
     ]
    }
   ],
   "source": [
    "loc=string.rindex(\"one\")   # last occurence of word \"one\" in string\n",
    "print(loc)"
   ]
  }
 ],
 "metadata": {
  "kernelspec": {
   "display_name": "Python 3 (ipykernel)",
   "language": "python",
   "name": "python3"
  },
  "language_info": {
   "codemirror_mode": {
    "name": "ipython",
    "version": 3
   },
   "file_extension": ".py",
   "mimetype": "text/x-python",
   "name": "python",
   "nbconvert_exporter": "python",
   "pygments_lexer": "ipython3",
   "version": "3.12.4"
  }
 },
 "nbformat": 4,
 "nbformat_minor": 5
}
