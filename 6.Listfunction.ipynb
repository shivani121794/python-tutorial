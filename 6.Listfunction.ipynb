{
 "cells": [
  {
   "cell_type": "code",
   "execution_count": 1,
   "id": "2b54d648-caf7-472f-9198-4b538996f289",
   "metadata": {},
   "outputs": [
    {
     "name": "stdout",
     "output_type": "stream",
     "text": [
      "[12, 23, 34, 45, 56, 67, 78]\n"
     ]
    }
   ],
   "source": [
    "x=[12,23,34,45,56,67,78]\n",
    "print(x)"
   ]
  },
  {
   "cell_type": "code",
   "execution_count": 3,
   "id": "651bae86-e9e1-4b75-b5ac-dab3831c3a89",
   "metadata": {},
   "outputs": [
    {
     "data": {
      "text/plain": [
       "78"
      ]
     },
     "execution_count": 3,
     "metadata": {},
     "output_type": "execute_result"
    }
   ],
   "source": [
    "x.pop()"
   ]
  },
  {
   "cell_type": "code",
   "execution_count": 5,
   "id": "f75cb113-2432-48f1-a5de-b9070724d148",
   "metadata": {},
   "outputs": [
    {
     "name": "stdout",
     "output_type": "stream",
     "text": [
      "[12, 23, 34, 45, 56, 67]\n"
     ]
    }
   ],
   "source": [
    "print(x)"
   ]
  },
  {
   "cell_type": "code",
   "execution_count": 7,
   "id": "6f1ff625-b87b-4726-b17c-8bc485251285",
   "metadata": {},
   "outputs": [
    {
     "data": {
      "text/plain": [
       "67"
      ]
     },
     "execution_count": 7,
     "metadata": {},
     "output_type": "execute_result"
    }
   ],
   "source": [
    "x.pop()"
   ]
  },
  {
   "cell_type": "code",
   "execution_count": 9,
   "id": "30293c20-653f-4e1f-8c13-640e8512ac2b",
   "metadata": {},
   "outputs": [
    {
     "name": "stdout",
     "output_type": "stream",
     "text": [
      "[12, 23, 34, 45, 56]\n"
     ]
    }
   ],
   "source": [
    "print(x)"
   ]
  },
  {
   "cell_type": "code",
   "execution_count": 11,
   "id": "236e3ee2-b81d-47d1-863e-4d22548da550",
   "metadata": {},
   "outputs": [],
   "source": [
    "x.remove(23)"
   ]
  },
  {
   "cell_type": "code",
   "execution_count": 13,
   "id": "aaef4b9c-6dc6-41cc-9279-438d63d89938",
   "metadata": {},
   "outputs": [
    {
     "name": "stdout",
     "output_type": "stream",
     "text": [
      "[12, 34, 45, 56]\n"
     ]
    }
   ],
   "source": [
    "print(x)"
   ]
  },
  {
   "cell_type": "code",
   "execution_count": null,
   "id": "e63d496d-b890-4c6b-9484-014327ac8c82",
   "metadata": {},
   "outputs": [],
   "source": [
    "#List methods\n",
    "1.append--it is used to insert one element in the list at a time\n",
    "#element is always inserted at the end of the list"
   ]
  },
  {
   "cell_type": "code",
   "execution_count": 15,
   "id": "093ed7f4-1e68-4efd-9718-3bfe7d572c85",
   "metadata": {},
   "outputs": [
    {
     "name": "stdout",
     "output_type": "stream",
     "text": [
      "[12, 23, 34, 45, 56, 67, 78]\n"
     ]
    }
   ],
   "source": [
    "x=[12,23,34,45,56,67,78]\n",
    "print(x)"
   ]
  },
  {
   "cell_type": "code",
   "execution_count": 21,
   "id": "8ce903d7-61a8-4ce2-8bd1-59515e4dcd48",
   "metadata": {},
   "outputs": [
    {
     "name": "stdout",
     "output_type": "stream",
     "text": [
      "[12, 23, 34, 45, 56, 67, 78, 'Python', 'Python']\n"
     ]
    }
   ],
   "source": [
    "x.append(\"Python\")\n",
    "print(x)"
   ]
  },
  {
   "cell_type": "code",
   "execution_count": 23,
   "id": "228342f3-e66a-4a2e-b5d2-343851f0b10b",
   "metadata": {},
   "outputs": [
    {
     "name": "stdout",
     "output_type": "stream",
     "text": [
      "[12, 23, 34, 45, 56, 67, 78, 'Python', 'Python', ['Python', 'ML']]\n"
     ]
    }
   ],
   "source": [
    "x.append([\"Python\",\"ML\"])\n",
    "print(x)"
   ]
  },
  {
   "cell_type": "code",
   "execution_count": 39,
   "id": "9c05706d-7a78-42bf-bc36-84125b123ba1",
   "metadata": {},
   "outputs": [
    {
     "name": "stdin",
     "output_type": "stream",
     "text": [
      "enter the number 2\n",
      "enter the number 3\n",
      "enter the number 1\n",
      "enter the number 3\n",
      "enter the number 4\n",
      "enter the number 4\n",
      "enter the number 5\n",
      "enter the number 6\n",
      "enter the number 2\n",
      "enter the number 1\n"
     ]
    },
    {
     "name": "stdout",
     "output_type": "stream",
     "text": [
      "[2, 3, 1, 3, 4, 4, 5, 6, 2, 1]\n"
     ]
    }
   ],
   "source": [
    "#make a list of 10 numbers of your choice\n",
    "\n",
    "x=[]\n",
    "for i in range(10):\n",
    "    n=int(input(\"enter the number\"))\n",
    "    x.append(n)\n",
    "print(x)"
   ]
  },
  {
   "cell_type": "code",
   "execution_count": 43,
   "id": "68f1fbd2-0879-404b-be9b-e07cb1e7d9c4",
   "metadata": {},
   "outputs": [
    {
     "name": "stdin",
     "output_type": "stream",
     "text": [
      "enter the number 1\n",
      "enter the number 2\n",
      "enter the number 3\n",
      "enter the number 4\n",
      "enter the number 5\n",
      "enter the number 6\n",
      "enter the number 7\n",
      "enter the number 8\n",
      "enter the number 9\n",
      "enter the number 1\n"
     ]
    },
    {
     "name": "stdout",
     "output_type": "stream",
     "text": [
      "even number list [2, 4, 6, 8]\n",
      "odd number list [1, 3, 5, 7, 9, 1]\n"
     ]
    }
   ],
   "source": [
    "#make the list of odd and even numbers\n",
    "\n",
    "xe=[]\n",
    "xo=[]\n",
    "for i in range(10):\n",
    "    n=int(input(\"enter the number\"))\n",
    "    if n%2==0:\n",
    "       xe.append(n)\n",
    "    else:\n",
    "       xo.append(n)\n",
    "\n",
    "print(\"even number list\",xe)\n",
    "print(\"odd number list\",xo)"
   ]
  },
  {
   "cell_type": "code",
   "execution_count": 47,
   "id": "4dd3d737-ddfb-457d-a6db-6a8ca1680795",
   "metadata": {},
   "outputs": [
    {
     "name": "stdin",
     "output_type": "stream",
     "text": [
      "enter the number 2\n",
      "enter the number 4\n",
      "enter the number 7\n",
      "enter the number 3\n",
      "enter the number 8\n",
      "enter the number 11\n",
      "enter the number 32\n",
      "enter the number 24\n",
      "enter the number 34\n",
      "enter the number 81\n"
     ]
    },
    {
     "name": "stdout",
     "output_type": "stream",
     "text": [
      "origional list is [2, 4, 7, 3, 8, 11, 32, 24, 34, 81]\n",
      "max element is 81\n",
      "min element is 2\n",
      "sum of the list is 206\n"
     ]
    }
   ],
   "source": [
    "x=[]\n",
    "for i in range(10):\n",
    "    n=int(input(\"enter the number\"))\n",
    "    x.append(n)\n",
    "print(\"origional list is\",x)\n",
    "print(\"max element is\",max(x))    #inbuilt function -- max--min--sum\n",
    "print(\"min element is\",min(x))\n",
    "print(\"sum of the list is\",sum(x))"
   ]
  },
  {
   "cell_type": "code",
   "execution_count": 59,
   "id": "465f5545-70f3-416a-b11c-4be6ef919b33",
   "metadata": {},
   "outputs": [
    {
     "name": "stdin",
     "output_type": "stream",
     "text": [
      "enter the number 2\n",
      "enter the number 1\n",
      "enter the number 3\n",
      "enter the number 4\n",
      "enter the number 5\n",
      "enter the number 6\n",
      "enter the number 7\n",
      "enter the number 8\n",
      "enter the number 9\n",
      "enter the number 11\n"
     ]
    },
    {
     "name": "stdout",
     "output_type": "stream",
     "text": [
      "origional list is [2, 1, 3, 4, 5, 6, 7, 8, 9, 11]\n"
     ]
    },
    {
     "ename": "NameError",
     "evalue": "name 'avg' is not defined",
     "output_type": "error",
     "traceback": [
      "\u001b[1;31m---------------------------------------------------------------------------\u001b[0m",
      "\u001b[1;31mNameError\u001b[0m                                 Traceback (most recent call last)",
      "Cell \u001b[1;32mIn[59], line 6\u001b[0m\n\u001b[0;32m      4\u001b[0m     x\u001b[38;5;241m.\u001b[39mappend(n)\n\u001b[0;32m      5\u001b[0m \u001b[38;5;28mprint\u001b[39m(\u001b[38;5;124m\"\u001b[39m\u001b[38;5;124morigional list is\u001b[39m\u001b[38;5;124m\"\u001b[39m,x)\n\u001b[1;32m----> 6\u001b[0m \u001b[38;5;28mprint\u001b[39m(\u001b[38;5;124m\"\u001b[39m\u001b[38;5;124mavg is\u001b[39m\u001b[38;5;124m\"\u001b[39m,avg(\u001b[38;5;28mlen\u001b[39m(x)))\n",
      "\u001b[1;31mNameError\u001b[0m: name 'avg' is not defined"
     ]
    }
   ],
   "source": [
    "x=[]\n",
    "for i in range(10):\n",
    "    n=int(input(\"enter the number\"))\n",
    "    x.append(n)\n",
    "print(\"origional list is\",x)\n",
    "print(\"avg is\",avg(len(x)))"
   ]
  },
  {
   "cell_type": "code",
   "execution_count": 51,
   "id": "7cf40b61-37c1-4375-a150-cf518a276a4b",
   "metadata": {},
   "outputs": [
    {
     "name": "stdout",
     "output_type": "stream",
     "text": [
      "[12, 23, 43, 45, 45, 56, 76, 87, 34]\n",
      "max is 87\n"
     ]
    }
   ],
   "source": [
    "x=[12,23,43,45,45,56,76,87,34]        #max -- what is logic \n",
    "m=x[0]\n",
    "for i in range(len(x)):\n",
    "    if x[i]>m:\n",
    "       m=x[i]\n",
    "print(x)\n",
    "print(\"max is\",m)"
   ]
  },
  {
   "cell_type": "code",
   "execution_count": 55,
   "id": "aa8f6143-353f-4a80-a900-88146cae0e10",
   "metadata": {},
   "outputs": [
    {
     "name": "stdout",
     "output_type": "stream",
     "text": [
      "[12, 23, 43, 45, 45, 56, 76, 87, 34]\n",
      "min is 12\n"
     ]
    }
   ],
   "source": [
    "x=[12,23,43,45,45,56,76,87,34]        #min -- what is logic \n",
    "s=x[0]\n",
    "for i in range(len(x)):\n",
    "    if x[i]<s:\n",
    "       s=x[i]\n",
    "print(x)\n",
    "print(\"min is\",s)"
   ]
  },
  {
   "cell_type": "code",
   "execution_count": 61,
   "id": "88694c05-5088-40e5-9c30-e6d20e3f3aa8",
   "metadata": {},
   "outputs": [
    {
     "name": "stdout",
     "output_type": "stream",
     "text": [
      "[12, 23, 43, 45, 45, 56, 76, 87, 34]\n",
      "min is 12\n",
      "max is 87\n"
     ]
    }
   ],
   "source": [
    "x=[12,23,43,45,45,56,76,87,34]        #max and min -- what is logic \n",
    "m=x[0]\n",
    "s=x[0]\n",
    "for i in range(len(x)):\n",
    "    if x[i]>m:\n",
    "       m=x[i]\n",
    "    if x[i]<s:\n",
    "       s=x[i]\n",
    "print(x)\n",
    "print(\"min is\",s)\n",
    "print(\"max is\",m)"
   ]
  },
  {
   "cell_type": "code",
   "execution_count": 63,
   "id": "9610f320-2b86-4f62-a6d2-15280a733b94",
   "metadata": {},
   "outputs": [
    {
     "name": "stdout",
     "output_type": "stream",
     "text": [
      "[12, 23, 34, 45, 56, 67, 78, 12, 23, 43, 45]\n",
      "[12, 23, 34, 45, 56, 67, 78, 43]\n"
     ]
    }
   ],
   "source": [
    "x=[12,23,34,45,56,67,78,12,23,43,45]\n",
    "y=[]\n",
    "for i in x:\n",
    "    if i not in y:\n",
    "        y.append(i)\n",
    "print(x)\n",
    "print(y)"
   ]
  },
  {
   "cell_type": "code",
   "execution_count": 67,
   "id": "4a23729c-1339-4848-8ebd-fd5e628a34b9",
   "metadata": {},
   "outputs": [
    {
     "name": "stdout",
     "output_type": "stream",
     "text": [
      "[12, 23, 34, 45, 56, 67, 78, 12, 23, 43, 45]\n",
      "[34, 67, 43, 12, 45, 78, 23, 56]\n"
     ]
    }
   ],
   "source": [
    "x=[12,23,34,45,56,67,78,12,23,43,45]\n",
    "print(x)\n",
    "y=list(set(x))\n",
    "print(y)"
   ]
  },
  {
   "cell_type": "code",
   "execution_count": null,
   "id": "3d26ee1c-4af2-4d85-b51b-f70e056920d3",
   "metadata": {},
   "outputs": [],
   "source": [
    "#Limitation of append\n",
    "\n",
    "#append never return any value--\n",
    "\n",
    "#y=x.append(23)---- wrong "
   ]
  },
  {
   "cell_type": "code",
   "execution_count": null,
   "id": "aa4b8aa3-2502-4ed8-8584-7c1415659b9e",
   "metadata": {},
   "outputs": [],
   "source": []
  },
  {
   "cell_type": "code",
   "execution_count": 71,
   "id": "82131fbb-328b-4aa0-8473-a1228c5eaa8c",
   "metadata": {},
   "outputs": [
    {
     "name": "stdout",
     "output_type": "stream",
     "text": [
      "[12, 23, 34, 45]\n"
     ]
    }
   ],
   "source": [
    "#entend-- used to insert more than element in the list at once\n",
    "#elements are always inserted at the end of the list \n",
    "\n",
    "x=[12,23,34,45]\n",
    "print(x)"
   ]
  },
  {
   "cell_type": "code",
   "execution_count": 75,
   "id": "5ca3d7a9-2bd3-48a3-b322-b39461bf44ad",
   "metadata": {},
   "outputs": [
    {
     "name": "stdout",
     "output_type": "stream",
     "text": [
      "[12, 23, 34, 45, 89, 76, 78]\n"
     ]
    }
   ],
   "source": [
    "x.extend([89,76,78])\n",
    "print(x)"
   ]
  },
  {
   "cell_type": "code",
   "execution_count": 77,
   "id": "204591fd-857a-4b29-ac25-7bfdc1d0f80b",
   "metadata": {},
   "outputs": [
    {
     "name": "stdout",
     "output_type": "stream",
     "text": [
      "[12, 23]\n",
      "[34, 45]\n",
      "[12, 23, 34, 45]\n"
     ]
    }
   ],
   "source": [
    "a=[12,23]\n",
    "print(a)\n",
    "b=[34,45]\n",
    "print(b)\n",
    "c=a+b\n",
    "print(c)"
   ]
  },
  {
   "cell_type": "code",
   "execution_count": 79,
   "id": "d436090d-f67b-4886-8805-e60b99116937",
   "metadata": {},
   "outputs": [
    {
     "name": "stdout",
     "output_type": "stream",
     "text": [
      "[12, 23, 34, 45]\n"
     ]
    }
   ],
   "source": [
    "a.extend(b)\n",
    "print(a)"
   ]
  },
  {
   "cell_type": "code",
   "execution_count": 81,
   "id": "cac1669a-3506-4dda-b526-0dfe1aa076b6",
   "metadata": {},
   "outputs": [
    {
     "name": "stdout",
     "output_type": "stream",
     "text": [
      "[12, 23, 34, 45, 56]\n",
      "[12, 23, 34, 'hello', 45, 56]\n"
     ]
    }
   ],
   "source": [
    "#insert-- it is also use to insert one element in the list at a time\n",
    "#but we can provide index here to which the value is being inserted \n",
    "\n",
    "x=[12,23,34,45,56]\n",
    "print(x)\n",
    "x.insert(3,\"hello\")\n",
    "print(x)"
   ]
  },
  {
   "cell_type": "code",
   "execution_count": 83,
   "id": "4b13fc17-0210-40b6-a06a-fc5d10f966d9",
   "metadata": {},
   "outputs": [
    {
     "name": "stdout",
     "output_type": "stream",
     "text": [
      "[12, 23, 34, 45, 56]\n",
      "None\n"
     ]
    }
   ],
   "source": [
    "x=[12,23,34,45,56]\n",
    "print(x)\n",
    "y=x.insert(3,\"hello\")\n",
    "print(y)"
   ]
  },
  {
   "cell_type": "code",
   "execution_count": 85,
   "id": "94213e86-7898-4d1c-b7ac-518155c2136f",
   "metadata": {},
   "outputs": [
    {
     "name": "stdout",
     "output_type": "stream",
     "text": [
      "[12, 23, 34, 45, 56]\n",
      "[]\n"
     ]
    }
   ],
   "source": [
    "#clear-- it is use to empty the list \n",
    "\n",
    "x=[12,23,34,45,56]\n",
    "print(x)\n",
    "x.clear()\n",
    "print(x)"
   ]
  },
  {
   "cell_type": "code",
   "execution_count": 87,
   "id": "38a23c6e-fa79-4f69-bdbb-c2bb53d1bc10",
   "metadata": {},
   "outputs": [
    {
     "name": "stdout",
     "output_type": "stream",
     "text": [
      "3\n"
     ]
    }
   ],
   "source": [
    "#index-- it is use to return the index of first occurence of the element in the list\n",
    "\n",
    "x=[12,23,34,45,56,45]\n",
    "y=x.index(45)\n",
    "print(y)"
   ]
  },
  {
   "cell_type": "code",
   "execution_count": 89,
   "id": "d7a7f354-f09f-420b-a643-4b4937faa365",
   "metadata": {},
   "outputs": [
    {
     "name": "stdout",
     "output_type": "stream",
     "text": [
      "2\n"
     ]
    }
   ],
   "source": [
    "#count-- return the frequency of the element in list\n",
    "\n",
    "x=[12,23,34,45,56,45]\n",
    "y=x.count(45)\n",
    "print(y)"
   ]
  },
  {
   "cell_type": "code",
   "execution_count": 91,
   "id": "892982e8-3363-429f-8789-c258b8f64a86",
   "metadata": {},
   "outputs": [
    {
     "name": "stdout",
     "output_type": "stream",
     "text": [
      "[12, 7, 23, 34, 12, 45, 56, 41, 45]\n",
      "[7, 12, 12, 23, 34, 41, 45, 45, 56]\n",
      "[56, 45, 45, 41, 34, 23, 12, 12, 7]\n"
     ]
    }
   ],
   "source": [
    "#sort-- it is used to arrange elements in ascending or descending order\n",
    "#sort can not return \n",
    "\n",
    "x=[12,7,23,34,12,45,56,41,45]\n",
    "print(x)\n",
    "x.sort() #by default ascending order\n",
    "print(x)\n",
    "x.sort(reverse=True)\n",
    "print(x)"
   ]
  },
  {
   "cell_type": "code",
   "execution_count": 95,
   "id": "2cdd498d-771d-43ef-971b-0c79405f4d32",
   "metadata": {},
   "outputs": [
    {
     "name": "stdout",
     "output_type": "stream",
     "text": [
      "[12, 7, 23, 34, 12, 45, 56, 41, 45]\n",
      "[45, 41, 56, 45, 12, 34, 23, 7, 12]\n"
     ]
    }
   ],
   "source": [
    "#reverse-- it is use to just reverse the list but cannot return\n",
    "\n",
    "x=[12,7,23,34,12,45,56,41,45]\n",
    "print(x)\n",
    "x.reverse()\n",
    "print(x)"
   ]
  },
  {
   "cell_type": "code",
   "execution_count": 97,
   "id": "46728ac4-aacb-4598-86e7-6eb0e08659d2",
   "metadata": {},
   "outputs": [
    {
     "name": "stdout",
     "output_type": "stream",
     "text": [
      "[12, 7, 23, 34, 12, 45, 56, 41, 45]\n",
      "[45, 41, 56, 45, 12, 34, 23, 7, 12]\n"
     ]
    }
   ],
   "source": [
    "x=[12,7,23,34,12,45,56,41,45]          #reverse the value without using reverse function with the help of slicing\n",
    "print(x)\n",
    "y=x[::-1]     #[start:end:step]\n",
    "print(y)"
   ]
  },
  {
   "cell_type": "code",
   "execution_count": null,
   "id": "95b4e151-4cd2-4855-a70f-3fe62de60498",
   "metadata": {},
   "outputs": [],
   "source": [
    "next session copy"
   ]
  }
 ],
 "metadata": {
  "kernelspec": {
   "display_name": "Python 3 (ipykernel)",
   "language": "python",
   "name": "python3"
  },
  "language_info": {
   "codemirror_mode": {
    "name": "ipython",
    "version": 3
   },
   "file_extension": ".py",
   "mimetype": "text/x-python",
   "name": "python",
   "nbconvert_exporter": "python",
   "pygments_lexer": "ipython3",
   "version": "3.12.4"
  }
 },
 "nbformat": 4,
 "nbformat_minor": 5
}
