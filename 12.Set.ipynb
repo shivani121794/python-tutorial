{
 "cells": [
  {
   "cell_type": "code",
   "execution_count": null,
   "id": "592e8b39-b772-431a-8873-a1978048c9a0",
   "metadata": {},
   "outputs": [],
   "source": [
    "SETS\n",
    "Unordered and Unindexed of items\n",
    "Set elements are unique. Duplicate elements are not allowed."
   ]
  },
  {
   "cell_type": "code",
   "execution_count": 2,
   "id": "555afd85-54f8-4fb5-ae25-53bbc4c41918",
   "metadata": {},
   "outputs": [
    {
     "data": {
      "text/plain": [
       "{1, 2, 3, 4, 5}"
      ]
     },
     "execution_count": 2,
     "metadata": {},
     "output_type": "execute_result"
    }
   ],
   "source": [
    "myset={1,2,3,4,5} #set of numbers\n",
    "myset"
   ]
  },
  {
   "cell_type": "code",
   "execution_count": 4,
   "id": "7bdf1a38-5445-44a8-ae53-6f9936b98789",
   "metadata": {},
   "outputs": [
    {
     "data": {
      "text/plain": [
       "5"
      ]
     },
     "execution_count": 4,
     "metadata": {},
     "output_type": "execute_result"
    }
   ],
   "source": [
    "len(myset) #length of the set"
   ]
  },
  {
   "cell_type": "code",
   "execution_count": 6,
   "id": "b7632b53-4363-49b2-81f0-3356da502438",
   "metadata": {},
   "outputs": [
    {
     "data": {
      "text/plain": [
       "{1, 2, 3, 4, 5}"
      ]
     },
     "execution_count": 6,
     "metadata": {},
     "output_type": "execute_result"
    }
   ],
   "source": [
    "my_set={1,1,2,2,3,4,5,5} #duplicate elements are not allowed\n",
    "my_set"
   ]
  },
  {
   "cell_type": "code",
   "execution_count": 8,
   "id": "dec37c00-a6c2-41f6-836e-cbaef2e2e470",
   "metadata": {},
   "outputs": [
    {
     "data": {
      "text/plain": [
       "{1.79, 2.08, 3.99, 4.56, 5.45}"
      ]
     },
     "execution_count": 8,
     "metadata": {},
     "output_type": "execute_result"
    }
   ],
   "source": [
    "myset1={1.79,2.08,3.99,4.56,5.45} #set of float number\n",
    "myset1"
   ]
  },
  {
   "cell_type": "code",
   "execution_count": 10,
   "id": "ddde9f5f-4adc-42cc-9ca3-b048c73df208",
   "metadata": {},
   "outputs": [
    {
     "data": {
      "text/plain": [
       "{'Asif', 'John', 'Tyrion'}"
      ]
     },
     "execution_count": 10,
     "metadata": {},
     "output_type": "execute_result"
    }
   ],
   "source": [
    "myset2={'Asif','John','Tyrion'} #set of strings\n",
    "myset2"
   ]
  },
  {
   "cell_type": "code",
   "execution_count": 12,
   "id": "bab014b8-53b3-45f7-88fb-392216a6b8ac",
   "metadata": {},
   "outputs": [
    {
     "data": {
      "text/plain": [
       "{(11, 22, 32), 10, 20, 'Hola'}"
      ]
     },
     "execution_count": 12,
     "metadata": {},
     "output_type": "execute_result"
    }
   ],
   "source": [
    "myset3={10,20,\"Hola\",(11,22,32)} #mixed data types\n",
    "myset3"
   ]
  },
  {
   "cell_type": "code",
   "execution_count": 16,
   "id": "32517011-3503-4cac-8fe3-d53343f77208",
   "metadata": {},
   "outputs": [
    {
     "ename": "TypeError",
     "evalue": "unhashable type: 'list'",
     "output_type": "error",
     "traceback": [
      "\u001b[1;31m---------------------------------------------------------------------------\u001b[0m",
      "\u001b[1;31mTypeError\u001b[0m                                 Traceback (most recent call last)",
      "Cell \u001b[1;32mIn[16], line 1\u001b[0m\n\u001b[1;32m----> 1\u001b[0m myset3\u001b[38;5;241m=\u001b[39m{\u001b[38;5;241m10\u001b[39m,\u001b[38;5;241m20\u001b[39m,\u001b[38;5;124m\"\u001b[39m\u001b[38;5;124mHola\u001b[39m\u001b[38;5;124m\"\u001b[39m,[\u001b[38;5;241m11\u001b[39m,\u001b[38;5;241m22\u001b[39m,\u001b[38;5;241m32\u001b[39m]} \u001b[38;5;66;03m#set doesn't allow mutable items\u001b[39;00m\n\u001b[0;32m      2\u001b[0m myset3\n",
      "\u001b[1;31mTypeError\u001b[0m: unhashable type: 'list'"
     ]
    }
   ],
   "source": [
    "myset3={10,20,\"Hola\",[11,22,32]} #set doesn't allow mutable items\n",
    "myset3"
   ]
  },
  {
   "cell_type": "code",
   "execution_count": 18,
   "id": "b7c59a36-c6b7-466b-898e-80b4e1e073bd",
   "metadata": {},
   "outputs": [
    {
     "name": "stdout",
     "output_type": "stream",
     "text": [
      "<class 'set'>\n"
     ]
    }
   ],
   "source": [
    "myset4=set() #create an empty set\n",
    "print(type(myset4))"
   ]
  },
  {
   "cell_type": "code",
   "execution_count": 22,
   "id": "30aa4fb7-bff1-4d88-91b3-b6f48bdad8dd",
   "metadata": {},
   "outputs": [
    {
     "data": {
      "text/plain": [
       "{1, 2, 3, 4, 5}"
      ]
     },
     "execution_count": 22,
     "metadata": {},
     "output_type": "execute_result"
    }
   ],
   "source": [
    "my_set1=set((\"one\",\"two\",\"three\",\"four\"))\n",
    "my_set"
   ]
  },
  {
   "cell_type": "code",
   "execution_count": 24,
   "id": "079b104d-42a1-4b72-9861-262eea46a578",
   "metadata": {},
   "outputs": [
    {
     "name": "stdout",
     "output_type": "stream",
     "text": [
      "five\n",
      "three\n",
      "eight\n",
      "six\n",
      "seven\n",
      "two\n",
      "four\n",
      "one\n"
     ]
    }
   ],
   "source": [
    "#Loop through a set\n",
    "\n",
    "myset={'one','two','three','four','five','six','seven','eight'}\n",
    "for i in myset:\n",
    "    print(i)"
   ]
  },
  {
   "cell_type": "code",
   "execution_count": 28,
   "id": "da831d40-ac79-45c4-8628-eb8429cae269",
   "metadata": {},
   "outputs": [
    {
     "name": "stdout",
     "output_type": "stream",
     "text": [
      "(0, 'five')\n",
      "(1, 'three')\n",
      "(2, 'eight')\n",
      "(3, 'six')\n",
      "(4, 'seven')\n",
      "(5, 'two')\n",
      "(6, 'four')\n",
      "(7, 'one')\n"
     ]
    }
   ],
   "source": [
    "for i in enumerate(myset):\n",
    "    print(i)"
   ]
  },
  {
   "cell_type": "code",
   "execution_count": 30,
   "id": "8fc117b3-2209-483b-8f94-95b7f4fcc9fb",
   "metadata": {},
   "outputs": [
    {
     "data": {
      "text/plain": [
       "{'eight', 'five', 'four', 'one', 'seven', 'six', 'three', 'two'}"
      ]
     },
     "execution_count": 30,
     "metadata": {},
     "output_type": "execute_result"
    }
   ],
   "source": [
    "myset"
   ]
  },
  {
   "cell_type": "code",
   "execution_count": 32,
   "id": "4558fc16-7f36-409d-b7f4-d92a80059aae",
   "metadata": {},
   "outputs": [
    {
     "data": {
      "text/plain": [
       "{'eight', 'five', 'four', 'nine', 'one', 'seven', 'six', 'three', 'two'}"
      ]
     },
     "execution_count": 32,
     "metadata": {},
     "output_type": "execute_result"
    }
   ],
   "source": [
    "myset.add('nine') #add item to a set using add method\n",
    "myset"
   ]
  },
  {
   "cell_type": "code",
   "execution_count": 34,
   "id": "2d7907b1-7712-456b-8359-b6c105bb99d6",
   "metadata": {},
   "outputs": [
    {
     "data": {
      "text/plain": [
       "{'eight',\n",
       " 'eleven',\n",
       " 'five',\n",
       " 'four',\n",
       " 'nine',\n",
       " 'one',\n",
       " 'seven',\n",
       " 'six',\n",
       " 'ten',\n",
       " 'three',\n",
       " 'twelve',\n",
       " 'two'}"
      ]
     },
     "execution_count": 34,
     "metadata": {},
     "output_type": "execute_result"
    }
   ],
   "source": [
    "myset.update(['ten','eleven','twelve'])   #add multiple item to a set using update method\n",
    "myset"
   ]
  },
  {
   "cell_type": "code",
   "execution_count": 36,
   "id": "9d8e91c3-a168-46b8-b02a-e203d75b645e",
   "metadata": {},
   "outputs": [
    {
     "data": {
      "text/plain": [
       "{'eight',\n",
       " 'eleven',\n",
       " 'five',\n",
       " 'four',\n",
       " 'one',\n",
       " 'seven',\n",
       " 'six',\n",
       " 'ten',\n",
       " 'three',\n",
       " 'twelve',\n",
       " 'two'}"
      ]
     },
     "execution_count": 36,
     "metadata": {},
     "output_type": "execute_result"
    }
   ],
   "source": [
    "myset.remove('nine') #remove item in a set using remove() method\n",
    "myset"
   ]
  },
  {
   "cell_type": "code",
   "execution_count": 38,
   "id": "c112bb3c-4846-4696-b5b7-1b4e6744f046",
   "metadata": {},
   "outputs": [
    {
     "data": {
      "text/plain": [
       "{'eight',\n",
       " 'eleven',\n",
       " 'five',\n",
       " 'four',\n",
       " 'one',\n",
       " 'seven',\n",
       " 'six',\n",
       " 'three',\n",
       " 'twelve',\n",
       " 'two'}"
      ]
     },
     "execution_count": 38,
     "metadata": {},
     "output_type": "execute_result"
    }
   ],
   "source": [
    "myset.discard('ten') #remove item from a set using discard() method\n",
    "myset"
   ]
  },
  {
   "cell_type": "code",
   "execution_count": 40,
   "id": "a06f3164-6366-4c8d-9596-e86305969fb1",
   "metadata": {},
   "outputs": [
    {
     "data": {
      "text/plain": [
       "set()"
      ]
     },
     "execution_count": 40,
     "metadata": {},
     "output_type": "execute_result"
    }
   ],
   "source": [
    "myset.clear()  #delete all items in a set\n",
    "myset"
   ]
  },
  {
   "cell_type": "code",
   "execution_count": 42,
   "id": "d92c5d85-f5c5-410a-91ff-2d7188c215bf",
   "metadata": {},
   "outputs": [
    {
     "ename": "NameError",
     "evalue": "name 'myset' is not defined",
     "output_type": "error",
     "traceback": [
      "\u001b[1;31m---------------------------------------------------------------------------\u001b[0m",
      "\u001b[1;31mNameError\u001b[0m                                 Traceback (most recent call last)",
      "Cell \u001b[1;32mIn[42], line 2\u001b[0m\n\u001b[0;32m      1\u001b[0m \u001b[38;5;28;01mdel\u001b[39;00m myset\n\u001b[1;32m----> 2\u001b[0m myset\n",
      "\u001b[1;31mNameError\u001b[0m: name 'myset' is not defined"
     ]
    }
   ],
   "source": [
    "del myset #delete the set object\n",
    "myset"
   ]
  },
  {
   "cell_type": "code",
   "execution_count": 50,
   "id": "2caf7ce7-f1e5-4dd2-b4cb-0249959301f9",
   "metadata": {},
   "outputs": [],
   "source": [
    "#SET Operations\n",
    "\n",
    "a={1,2,3,4,5}\n",
    "b={4,5,6,7,8}\n",
    "c={8,9,10}"
   ]
  },
  {
   "cell_type": "code",
   "execution_count": 52,
   "id": "b8efecfa-440d-4711-96c1-d94d366410d7",
   "metadata": {},
   "outputs": [
    {
     "data": {
      "text/plain": [
       "{1, 2, 3, 4, 5, 6, 7, 8}"
      ]
     },
     "execution_count": 52,
     "metadata": {},
     "output_type": "execute_result"
    }
   ],
   "source": [
    "a | b #union of a and b (all elements from both sets. No duplicates)"
   ]
  },
  {
   "cell_type": "code",
   "execution_count": 54,
   "id": "2d82400e-5037-4128-a855-c20c291dabab",
   "metadata": {},
   "outputs": [
    {
     "data": {
      "text/plain": [
       "{1, 2, 3, 4, 5, 6, 7, 8}"
      ]
     },
     "execution_count": 54,
     "metadata": {},
     "output_type": "execute_result"
    }
   ],
   "source": [
    "a.union(b) #union of a and b"
   ]
  },
  {
   "cell_type": "code",
   "execution_count": 56,
   "id": "f0d951a0-14b7-46d1-a9ba-35fe7ebddcad",
   "metadata": {},
   "outputs": [
    {
     "data": {
      "text/plain": [
       "{1, 2, 3, 4, 5, 6, 7, 8, 9, 10}"
      ]
     },
     "execution_count": 56,
     "metadata": {},
     "output_type": "execute_result"
    }
   ],
   "source": [
    "a.union(b,c) #union of a, b and c              -------- same work we can do with update method"
   ]
  },
  {
   "cell_type": "code",
   "execution_count": 60,
   "id": "b3411102-be4f-4b23-bf82-471b8c1f0840",
   "metadata": {},
   "outputs": [
    {
     "data": {
      "text/plain": [
       "{1, 2, 3, 4, 5, 6, 7, 8, 9, 10}"
      ]
     },
     "execution_count": 60,
     "metadata": {},
     "output_type": "execute_result"
    }
   ],
   "source": [
    "a.update(b,c)         #update the set calling the update() method with union of a, b and c. for below example set a will be updated\n",
    "a"
   ]
  },
  {
   "cell_type": "code",
   "execution_count": 66,
   "id": "a4e1755b-add5-4e3e-833d-576d949e1e07",
   "metadata": {},
   "outputs": [
    {
     "data": {
      "text/plain": [
       "{4, 5}"
      ]
     },
     "execution_count": 66,
     "metadata": {},
     "output_type": "execute_result"
    }
   ],
   "source": [
    "#Intersection\n",
    "\n",
    "a={1,2,3,4,5}\n",
    "b={4,5,6,7,8}\n",
    "\n",
    "a & b #intersection of a and b (common items in both sets)"
   ]
  },
  {
   "cell_type": "code",
   "execution_count": 68,
   "id": "5f223205-d414-4d34-a824-99eaf666a3ff",
   "metadata": {},
   "outputs": [
    {
     "data": {
      "text/plain": [
       "{4, 5}"
      ]
     },
     "execution_count": 68,
     "metadata": {},
     "output_type": "execute_result"
    }
   ],
   "source": [
    "a.intersection(b)     #intersection of a and b"
   ]
  },
  {
   "cell_type": "code",
   "execution_count": 72,
   "id": "ee341c2c-b5ff-4f93-9356-7935c587e15f",
   "metadata": {},
   "outputs": [
    {
     "data": {
      "text/plain": [
       "{1, 2, 3}"
      ]
     },
     "execution_count": 72,
     "metadata": {},
     "output_type": "execute_result"
    }
   ],
   "source": [
    "#Difference\n",
    "\n",
    "a={1,2,3,4,5}\n",
    "b={4,5,6,7,8}\n",
    "\n",
    "a-b #set of elements that are only in a but not in b"
   ]
  },
  {
   "cell_type": "code",
   "execution_count": 76,
   "id": "ace26207-194d-4d54-a3f3-50cf0db2a029",
   "metadata": {},
   "outputs": [
    {
     "data": {
      "text/plain": [
       "{1, 2, 3}"
      ]
     },
     "execution_count": 76,
     "metadata": {},
     "output_type": "execute_result"
    }
   ],
   "source": [
    "a.difference(b)  #Difference of sets"
   ]
  },
  {
   "cell_type": "code",
   "execution_count": 78,
   "id": "e2eedc2a-3921-43a0-b9b3-6854eaf9991f",
   "metadata": {},
   "outputs": [
    {
     "data": {
      "text/plain": [
       "True"
      ]
     },
     "execution_count": 78,
     "metadata": {},
     "output_type": "execute_result"
    }
   ],
   "source": [
    "#Subset & Superset & Disjoint\n",
    "\n",
    "a={1,2,3,4,5,6,7,8,9}\n",
    "b={3,4,5,6,7,8}\n",
    "c={10,20,30,40}\n",
    "\n",
    "b.issubset(a)     "
   ]
  },
  {
   "cell_type": "code",
   "execution_count": 80,
   "id": "3cee3d5e-4c29-49f1-90c2-bedb92a80151",
   "metadata": {},
   "outputs": [
    {
     "data": {
      "text/plain": [
       "True"
      ]
     },
     "execution_count": 80,
     "metadata": {},
     "output_type": "execute_result"
    }
   ],
   "source": [
    "a.issuperset(b)"
   ]
  },
  {
   "cell_type": "code",
   "execution_count": 82,
   "id": "100e8177-3c97-43e5-943f-1dc0c76e1743",
   "metadata": {},
   "outputs": [
    {
     "data": {
      "text/plain": [
       "False"
      ]
     },
     "execution_count": 82,
     "metadata": {},
     "output_type": "execute_result"
    }
   ],
   "source": [
    "c.isdisjoint(a)"
   ]
  },
  {
   "cell_type": "code",
   "execution_count": 84,
   "id": "9399ef13-4acb-4c4b-95d9-26a5434a9cb9",
   "metadata": {},
   "outputs": [
    {
     "data": {
      "text/plain": [
       "True"
      ]
     },
     "execution_count": 84,
     "metadata": {},
     "output_type": "execute_result"
    }
   ],
   "source": [
    "c.isdisjoint(a)"
   ]
  },
  {
   "cell_type": "code",
   "execution_count": 86,
   "id": "72c6fea3-aaea-43bf-aa88-59028afc47c9",
   "metadata": {},
   "outputs": [
    {
     "data": {
      "text/plain": [
       "[6, 12, 43, 67, 90, 99]"
      ]
     },
     "execution_count": 86,
     "metadata": {},
     "output_type": "execute_result"
    }
   ],
   "source": [
    "#Tuple Sorting\n",
    "\n",
    "mytuple = (43,67,99,12,6,90)\n",
    "sorted(mytuple)"
   ]
  },
  {
   "cell_type": "code",
   "execution_count": 88,
   "id": "c223b1dd-244b-44d0-944d-b304761e9129",
   "metadata": {},
   "outputs": [
    {
     "data": {
      "text/plain": [
       "[99, 90, 67, 43, 12, 6]"
      ]
     },
     "execution_count": 88,
     "metadata": {},
     "output_type": "execute_result"
    }
   ],
   "source": [
    "sorted(mytuple, reverse=True)"
   ]
  },
  {
   "cell_type": "code",
   "execution_count": 90,
   "id": "2e9c8bd2-2afc-4030-a65b-42326e319f26",
   "metadata": {},
   "outputs": [
    {
     "name": "stdout",
     "output_type": "stream",
     "text": [
      "(12, 23, 34, 45, 45, 55, 'harsh')\n"
     ]
    }
   ],
   "source": [
    "t1=(12,23,34,45,45,55)    #add item in tuple\n",
    "x=list(t1)\n",
    "x.append(\"harsh\")\n",
    "t1=tuple(x)\n",
    "print(t1)"
   ]
  },
  {
   "cell_type": "code",
   "execution_count": 92,
   "id": "c0fa62cf-b24a-47c9-9320-c4bafc226277",
   "metadata": {},
   "outputs": [
    {
     "name": "stdout",
     "output_type": "stream",
     "text": [
      "(12, 34, 45, 45, 55)\n"
     ]
    }
   ],
   "source": [
    "t1=(12,23,34,45,45,55) #delete item from tuple\n",
    "x=list(t1)\n",
    "del x[1]\n",
    "t1=tuple(x)\n",
    "print(t1)"
   ]
  },
  {
   "cell_type": "code",
   "execution_count": null,
   "id": "bf319d00-c8ad-4472-9cb0-53cff14744b8",
   "metadata": {},
   "outputs": [],
   "source": [
    "#Function\n",
    "\n",
    "--------------\n",
    "\n",
    "Types of function\n",
    "1.default func\n",
    "2.argument func\n",
    "3.return type\n",
    "4.placeholder\n",
    "5.args,kwargs"
   ]
  },
  {
   "cell_type": "code",
   "execution_count": null,
   "id": "1faabc88-dd36-430a-a692-358c4c8d2593",
   "metadata": {},
   "outputs": [],
   "source": [
    "#syntax\n",
    "\n",
    "def function_name(): #definition\n",
    "    logic\n",
    "\n",
    "function name #calling"
   ]
  },
  {
   "cell_type": "code",
   "execution_count": 98,
   "id": "1c8f2b69-fde0-4cd6-a3ce-5e3a986ef8c0",
   "metadata": {},
   "outputs": [
    {
     "name": "stdin",
     "output_type": "stream",
     "text": [
      "enter a number 3\n",
      "enter a number 4\n"
     ]
    },
    {
     "name": "stdout",
     "output_type": "stream",
     "text": [
      "the sum is  7\n"
     ]
    },
    {
     "name": "stdin",
     "output_type": "stream",
     "text": [
      "enter a number 5\n",
      "enter a number 7\n"
     ]
    },
    {
     "name": "stdout",
     "output_type": "stream",
     "text": [
      "the sum is  12\n"
     ]
    }
   ],
   "source": [
    "def addition():\n",
    "    a=int(input(\"enter a number\"))\n",
    "    b=int(input(\"enter a number\"))\n",
    "    c=a+b\n",
    "    print(\"the sum is \",c)\n",
    "\n",
    "addition()\n",
    "\n",
    "addition()"
   ]
  },
  {
   "cell_type": "code",
   "execution_count": 104,
   "id": "8ad24e18-4953-40ec-9073-79eb77a9cd74",
   "metadata": {},
   "outputs": [
    {
     "name": "stdin",
     "output_type": "stream",
     "text": [
      "enter the value of principle 5\n",
      "enter the value of rate 800\n",
      "enter the value of time 2\n"
     ]
    },
    {
     "name": "stdout",
     "output_type": "stream",
     "text": [
      "the interest is 80.0\n"
     ]
    }
   ],
   "source": [
    "def intrest():\n",
    "    p=int(input(\"enter the value of principle\"))\n",
    "    r=int(input(\"enter the value of rate\"))\n",
    "    t=int(input(\"enter the value of time\"))\n",
    "    si=p*r*t/100\n",
    "    print(\"the interest is\",si)\n",
    "\n",
    "intrest()"
   ]
  },
  {
   "cell_type": "code",
   "execution_count": 132,
   "id": "da951e57-9248-493a-94e5-e0870a974b4c",
   "metadata": {},
   "outputs": [
    {
     "name": "stdin",
     "output_type": "stream",
     "text": [
      "enter the number 3\n",
      "enter the number 6\n",
      "enter the number 12\n"
     ]
    },
    {
     "name": "stdout",
     "output_type": "stream",
     "text": [
      "the average is 7.0\n"
     ]
    }
   ],
   "source": [
    "def average():\n",
    "    a=float(input(\"enter the number\"))\n",
    "    b=float(input(\"enter the number\"))\n",
    "    c=float(input(\"enter the number\"))\n",
    "    avg=(a+b+c)/3\n",
    "    print(\"the average is\",avg)\n",
    "\n",
    "average()"
   ]
  },
  {
   "cell_type": "code",
   "execution_count": 128,
   "id": "927a0210-b963-42f6-95f7-ce4dcfa21c2d",
   "metadata": {},
   "outputs": [
    {
     "name": "stdin",
     "output_type": "stream",
     "text": [
      "enter the number 40\n",
      "enter the number 40\n",
      "enter the number 40\n",
      "enter the number 40\n",
      "enter the number 40\n"
     ]
    },
    {
     "name": "stdout",
     "output_type": "stream",
     "text": [
      "the percentage is 40.0\n"
     ]
    }
   ],
   "source": [
    "#percentage\n",
    "\n",
    "def percentage():\n",
    "    a=float(input(\"enter the number\"))\n",
    "    b=float(input(\"enter the number\"))\n",
    "    c=float(input(\"enter the number\"))\n",
    "    d=float(input(\"enter the number\"))\n",
    "    e=float(input(\"enter the number\"))\n",
    "    sum=a+b+c+d+e\n",
    "    per=sum*100/500\n",
    "    print(\"the percentage is\",per)\n",
    "\n",
    "percentage()"
   ]
  },
  {
   "cell_type": "code",
   "execution_count": 130,
   "id": "64c723d4-cbcf-41d4-b434-1c2d69768a55",
   "metadata": {},
   "outputs": [
    {
     "name": "stdin",
     "output_type": "stream",
     "text": [
      "enter the number 8\n"
     ]
    },
    {
     "name": "stdout",
     "output_type": "stream",
     "text": [
      "even number\n"
     ]
    }
   ],
   "source": [
    "def check():\n",
    "    n=int(input(\"enter the number\"))\n",
    "    if n%2==0:\n",
    "        print(\"even number\")\n",
    "    else:\n",
    "        print(\"odd number\")\n",
    "\n",
    "check()"
   ]
  },
  {
   "cell_type": "code",
   "execution_count": 136,
   "id": "ed59b07f-927d-44d8-8f0b-3fa28eb20e0a",
   "metadata": {},
   "outputs": [
    {
     "name": "stdin",
     "output_type": "stream",
     "text": [
      "enter the number 1990\n"
     ]
    },
    {
     "name": "stdout",
     "output_type": "stream",
     "text": [
      "not a leap year\n"
     ]
    }
   ],
   "source": [
    "def leap():\n",
    "    n=int(input(\"enter the year\"))\n",
    "    if n%4==0:\n",
    "        print(\"leap year\")\n",
    "    else:\n",
    "        print(\"not a leap year\")\n",
    "\n",
    "leap()"
   ]
  },
  {
   "cell_type": "code",
   "execution_count": 140,
   "id": "7bd4e925-dd7c-46b6-b4d9-b173c505ce92",
   "metadata": {},
   "outputs": [
    {
     "name": "stdin",
     "output_type": "stream",
     "text": [
      "enter your age 17\n"
     ]
    },
    {
     "name": "stdout",
     "output_type": "stream",
     "text": [
      "not eligible\n"
     ]
    }
   ],
   "source": [
    "def vote():\n",
    "    age=int(input(\"enter your age\"))\n",
    "    if age>=18:\n",
    "        print(\"eligible\")\n",
    "    else:\n",
    "        print(\"not eligible\")\n",
    "\n",
    "vote()"
   ]
  },
  {
   "cell_type": "code",
   "execution_count": null,
   "id": "110b0e3b-1f67-42c4-a6fe-5c197910b044",
   "metadata": {},
   "outputs": [],
   "source": []
  }
 ],
 "metadata": {
  "kernelspec": {
   "display_name": "Python 3 (ipykernel)",
   "language": "python",
   "name": "python3"
  },
  "language_info": {
   "codemirror_mode": {
    "name": "ipython",
    "version": 3
   },
   "file_extension": ".py",
   "mimetype": "text/x-python",
   "name": "python",
   "nbconvert_exporter": "python",
   "pygments_lexer": "ipython3",
   "version": "3.12.4"
  }
 },
 "nbformat": 4,
 "nbformat_minor": 5
}
